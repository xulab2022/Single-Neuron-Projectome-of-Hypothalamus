{
 "cells": [
  {
   "cell_type": "code",
   "execution_count": 1,
   "id": "03e6b315",
   "metadata": {},
   "outputs": [],
   "source": [
    "import pandas as pd\n",
    "import numpy as np\n",
    "import os, sys\n",
    "import re,glob\n",
    "from matplotlib import pyplot as plt\n",
    "import seaborn as sns\n",
    "from scipy.stats import linregress\n",
    "from tqdm import tqdm, trange"
   ]
  },
  {
   "cell_type": "code",
   "execution_count": 2,
   "id": "b9cac8f5",
   "metadata": {},
   "outputs": [],
   "source": [
    "import matplotlib as mpl\n",
    "mpl.rcParams['pdf.fonttype'] = 42\n",
    "mpl.rcParams['ps.fonttype'] = 42\n",
    "plt.rc(\"font\",family=\"Arial\")"
   ]
  },
  {
   "cell_type": "code",
   "execution_count": 3,
   "id": "6bcf66cf",
   "metadata": {},
   "outputs": [],
   "source": [
    "df = pd.read_csv(\"terminal_info_subtype22.csv\",index_col=0)"
   ]
  },
  {
   "cell_type": "code",
   "execution_count": 4,
   "id": "a0b5200b",
   "metadata": {},
   "outputs": [],
   "source": [
    "color_dict = {'Adcyap1': 'red', 'Tac2': 'cyan', 'Nts': 'navy','Pdyn': 'darkgray'}"
   ]
  },
  {
   "cell_type": "code",
   "execution_count": 5,
   "id": "75e0faad",
   "metadata": {},
   "outputs": [],
   "source": [
    "# subtype22\n",
    "for region in [[\"AMd\",\"AMv\",\"AD\",\"AV\",\"IAM\",\"IAD\",\"LD\"]]:\n",
    "        dfplot = df.loc[(df.region.isin(region))]\n",
    "        dfplot2 = dfplot.pivot_table(index=\"filename\",values=[\"soma_AP\",\"soma_DV\",\"soma_ML\",\"ter_AP\",\"ter_DV\",\"ter_ML\"],aggfunc=\"mean\")\n",
    "        dfplot2[\"color\"] = [color_dict[item.split(\"_\")[2]] for item in dfplot2.index.to_list()]\n",
    "        fig, axs = plt.subplots(3, 3, figsize=(15, 12))\n",
    "        for i,soma_label in enumerate([\"soma_AP\",\"soma_DV\",\"soma_ML\"]):\n",
    "                for j,ter_label in enumerate([\"ter_AP\",\"ter_DV\",\"ter_ML\"]):\n",
    "                        x = dfplot2[soma_label]\n",
    "                        y = dfplot2[ter_label]\n",
    "\n",
    "                        regression_result = linregress(x, y)\n",
    "                        axs[i, j].scatter(x=x, y=y, s=10,c= dfplot2[\"color\"])\n",
    "                        axs[i, j].plot([min(x), max(x)],\n",
    "                                [min(x) * regression_result.slope + regression_result.intercept,\n",
    "                                max(x) * regression_result.slope + regression_result.intercept],\n",
    "                                c='black',\n",
    "                                linewidth=1.5,\n",
    "                                dashes=[4, 2]\n",
    "                                )\n",
    "                        textstr = '\\n'.join(['r={:.3f}'.format(regression_result.rvalue),\n",
    "                                'p={:.3e}'.format(regression_result.pvalue)])\n",
    "                        axs[i, j].text(x = 0.02,\n",
    "                                y = 0.9,   \n",
    "                                s = textstr,\n",
    "                                transform=axs[i, j].transAxes, \n",
    "                                fontsize=12,\n",
    "                                verticalalignment='top'\n",
    "                                )\n",
    "\n",
    "                        if soma_label.__contains__(\"ML\"):\n",
    "                                axs[i, j].invert_xaxis()\n",
    "\n",
    "                        if ter_label.__contains__(\"ML\"):\n",
    "                                axs[i, j].invert_yaxis()\n",
    "\n",
    "\n",
    "                        axs[i, j].set_title(soma_label+\"-\"+ter_label)\n",
    "                        axs[i, j].set_xlabel(soma_label)\n",
    "                        axs[i, j].set_ylabel(ter_label)\n",
    "        plt.suptitle('Subtype22_%s_all'%region[0], fontsize=16, fontweight='bold')\n",
    "        plt.subplots_adjust(wspace=0.25, hspace=0.35) \n",
    "        plt.savefig(\"Subtype22_%s_all.jpg\"%region[0],dpi=600)\n",
    "        plt.savefig(\"Subtype22_%s_all.pdf\"%region[0],dpi=600)\n",
    "        dfplot.to_csv(\"subtype22_fig3_plot1_%s.csv\"%region[0])\n",
    "        dfplot2.to_csv(\"subtype22_fig3_plot2_%s.csv\"%region[0])\n",
    "        plt.close()\n",
    "                "
   ]
  },
  {
   "cell_type": "code",
   "execution_count": null,
   "id": "45cf3cbc",
   "metadata": {},
   "outputs": [],
   "source": []
  }
 ],
 "metadata": {
  "kernelspec": {
   "display_name": "Python 3.7.9 64-bit",
   "language": "python",
   "name": "python3"
  },
  "language_info": {
   "codemirror_mode": {
    "name": "ipython",
    "version": 3
   },
   "file_extension": ".py",
   "mimetype": "text/x-python",
   "name": "python",
   "nbconvert_exporter": "python",
   "pygments_lexer": "ipython3",
   "version": "3.7.9"
  },
  "toc": {
   "base_numbering": 1,
   "nav_menu": {},
   "number_sections": true,
   "sideBar": true,
   "skip_h1_title": false,
   "title_cell": "Table of Contents",
   "title_sidebar": "Contents",
   "toc_cell": false,
   "toc_position": {
    "height": "calc(100% - 180px)",
    "left": "10px",
    "top": "150px",
    "width": "165px"
   },
   "toc_section_display": true,
   "toc_window_display": false
  },
  "vscode": {
   "interpreter": {
    "hash": "681c1bce0af37acb6fe2fe46c8fcef319e7d4e48d6c4d2470fa77ec40f3f89e9"
   }
  }
 },
 "nbformat": 4,
 "nbformat_minor": 5
}
