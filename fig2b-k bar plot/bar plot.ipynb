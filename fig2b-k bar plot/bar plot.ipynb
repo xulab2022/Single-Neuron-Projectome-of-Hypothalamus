{
 "cells": [
  {
   "cell_type": "code",
   "execution_count": 1,
   "metadata": {},
   "outputs": [],
   "source": [
    "import numpy as np\n",
    "import pandas as pd\n",
    "import os,glob,math\n",
    "import matplotlib.pyplot as plt\n",
    "# import seaborn as sns\n",
    "import matplotlib as mpl\n",
    "from scipy import stats\n",
    "mpl.rcParams['pdf.fonttype'] = 42\n",
    "mpl.rcParams['ps.fonttype'] = 42\n",
    "plt.rc(\"font\",family=\"Arial\")\n"
   ]
  },
  {
   "cell_type": "code",
   "execution_count": 2,
   "metadata": {},
   "outputs": [],
   "source": [
    "def fisher_dataframe(df):\n",
    "    s1 = df.iloc[:,0]\n",
    "    s2 = df.iloc[:,1]\n",
    "    s1_sum = s1.sum()\n",
    "    s2_sum = s2.sum()\n",
    "    s3 = []\n",
    "    for i,j in zip(s1,s2):\n",
    "        group1 = [i,s1_sum-i]\n",
    "        group2 = [j,s2_sum-j]\n",
    "        t_statistic, p_value = stats.fisher_exact([group1, group2])\n",
    "        s3.append(min(p_value*16*31,1))\n",
    "    s4 = pd.Series(s3)\n",
    "    s4.index = s1.index\n",
    "    return s4"
   ]
  },
  {
   "cell_type": "code",
   "execution_count": 3,
   "metadata": {},
   "outputs": [],
   "source": [
    "df= pd.read_excel(\"all_infor_for_stack_plot.xlsx\",index_col=0)"
   ]
  },
  {
   "cell_type": "code",
   "execution_count": 7,
   "metadata": {},
   "outputs": [],
   "source": [
    "dfFC = pd.read_csv(\"geno_base_pvalue.csv\",index_col=0)"
   ]
  },
  {
   "cell_type": "code",
   "execution_count": 11,
   "metadata": {},
   "outputs": [],
   "source": [
    "# FC based sort  Fisher p new 1 bar\n",
    "for j in range(1,32):\n",
    "    dfnew = pd.DataFrame(df.loc[df.cluster ==j].geno.value_counts())\n",
    "    dfnew['cumulative'] = dfnew['geno'].cumsum()\n",
    "    dfnew['percent'] = dfnew['geno']/dfnew.cumulative[-1]*100\n",
    "\n",
    "\n",
    "    dfnew2 = pd.DataFrame(df.loc[df.cluster !=j].geno.value_counts())\n",
    "    dfnew2['cumulative'] = dfnew2['geno'].cumsum()\n",
    "    dfnew2['percent'] = dfnew2['geno']/dfnew2.cumulative[-1]*100\n",
    "\n",
    "    dfno = pd.concat([dfnew.geno,dfnew2.geno],axis=1).fillna(0)\n",
    "    sp = fisher_dataframe(dfno)\n",
    "\n",
    "    dfplot_tmp = pd.concat([dfnew[[\"geno\",\"percent\"]],dfnew2[[\"geno\",\"percent\"]],sp],axis=1).fillna(0)\n",
    "    dfplot_tmp.columns = [\"In_value\",\"In_percent\",\"Out_value\",\"Out_percent\",\"p_value\"]\n",
    "    dfplot_tmp2 = dfplot_tmp.sort_values(by=\"In_percent\",ascending=False)\n",
    "\n",
    "    if str(j) not in dfFC.columns.tolist():\n",
    "        my_list = dfplot_tmp2.index.tolist()\n",
    "    else:   \n",
    "        geno_tmp = dfFC[str(j)].loc[dfFC[str(j)]<=0.05].sort_values().index.tolist()\n",
    "        my_list = geno_tmp+[x for x in dfplot_tmp2.index.tolist() if x not in geno_tmp]\n",
    "    dfplot = dfplot_tmp2.loc[my_list,:].iloc[0:1,:]\n",
    "\n",
    "    x = np.arange(len(dfplot))  # the label locations\n",
    "    width = 0.35  # the width of the bars\n",
    "    multiplier = 0\n",
    "    # fig, ax = plt.subplots()\n",
    "    tab10_colors = plt.cm.Pastel1.colors\n",
    "\n",
    "    fig, ax = plt.subplots(figsize = (15,30))\n",
    "    for percent, values,c,ec in zip(dfplot[[\"In_percent\",\"Out_percent\"]].iteritems(),dfplot[[\"In_value\",\"Out_value\"]].iteritems(),[tab10_colors[1],\"none\"],[\"none\",(0.2,0.2,0.2)]):\n",
    "        offset = width * multiplier\n",
    "        rects = ax.bar(x + offset,np.round(percent[1].values, 1), width,color=c,edgecolor = ec,linewidth=7)\n",
    "\n",
    "\n",
    "        multiplier += 1\n",
    "\n",
    "    for i,s in enumerate(dfplot.iterrows()):\n",
    "        # print(i)\n",
    "        if (s[1][\"p_value\"]<0.05)&(s[1][\"p_value\"]>=0.01):\n",
    "            max_y = max(s[1].iloc[[1,3]])+2\n",
    "            ax.plot([i,i+0.4],[max_y,max_y],c=\"k\",linewidth =10)\n",
    "            ax.text(i+0.1+0.1,max_y,\"*\",fontsize = 100)\n",
    "        elif (s[1][\"p_value\"]<0.01)&(s[1][\"p_value\"]>=0.001):\n",
    "            max_y = max(s[1].iloc[[1,3]])+2\n",
    "            ax.plot([i,i+0.4],[max_y,max_y],c=\"k\",linewidth =10)\n",
    "            ax.text(i+0.1+0.05,max_y,\"**\",fontsize = 100)\n",
    "        elif s[1][\"p_value\"]<0.001:\n",
    "            max_y = max(s[1].iloc[[1,3]])+2\n",
    "            ax.plot([i,i+0.4],[max_y,max_y],c=\"k\",linewidth =10)\n",
    "            ax.text(i+0.1,max_y,\"***\",fontsize = 100)\n",
    "    \n",
    "        # Add some text for labels, title and custom x-axis tick labels, etc.\n",
    "    # ax.plot([1,10],[20,],c=\"red\")\n",
    "    ax.set_ylabel('% of neurons',fontsize = 60)\n",
    "    ax.yaxis.set_label_coords(-0.05, 0.5) \n",
    "    ax.set_title('Subtype #%d'%j,fontsize = 80)\n",
    "    # 仅更改y轴刻度标签的字体大小\n",
    "    ax.tick_params(axis='y', labelsize=40)\n",
    "    ax.set_xticks(x + width, dfplot.index.tolist(),fontsize = 80)\n",
    "    # ax.legend(loc='upper left', ncols=3)\n",
    "    ax.set_ylim(0,math.ceil(dfplot[[\"In_percent\",\"Out_percent\"]].max().max())+4) \n",
    "    ax.spines[\"top\"].set_visible(False)\n",
    "    ax.spines[\"right\"].set_visible(False)\n",
    "    ax.spines[\"left\"].set_linewidth(5)\n",
    "    ax.spines[\"bottom\"].set_linewidth(5)\n",
    "    plt.subplots_adjust(left=0.1, right=0.9, top=0.9, bottom=0.1)\n",
    "    # fig.set_figheight(6)\n",
    "    plt.savefig(\"Subtype_%d.jpg\"%j)\n",
    "    # plt.savefig(\"Subtype_%d.pdf\"%j,dpi=300)\n",
    "    plt.close()\n",
    "    \n",
    "\n",
    "    "
   ]
  }
 ],
 "metadata": {
  "kernelspec": {
   "display_name": "Python 3.7.9 64-bit",
   "language": "python",
   "name": "python3"
  },
  "language_info": {
   "codemirror_mode": {
    "name": "ipython",
    "version": 3
   },
   "file_extension": ".py",
   "mimetype": "text/x-python",
   "name": "python",
   "nbconvert_exporter": "python",
   "pygments_lexer": "ipython3",
   "version": "3.7.9"
  },
  "orig_nbformat": 4,
  "vscode": {
   "interpreter": {
    "hash": "681c1bce0af37acb6fe2fe46c8fcef319e7d4e48d6c4d2470fa77ec40f3f89e9"
   }
  }
 },
 "nbformat": 4,
 "nbformat_minor": 2
}
