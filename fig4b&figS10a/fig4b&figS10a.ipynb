{
 "cells": [
  {
   "cell_type": "code",
   "execution_count": 19,
   "metadata": {},
   "outputs": [],
   "source": [
    "from PIL import Image \n",
    "import numpy as np \n",
    "import nrrd# Some sample numpy \n",
    "import os,glob\n",
    "import matplotlib.pyplot as plt\n",
    "import seaborn as sns\n",
    "import pandas as pd\n",
    "import cv2,math\n",
    "import matplotlib as mpl\n",
    "import requests\n",
    "import pandas as pd\n",
    "from tqdm import tqdm"
   ]
  },
  {
   "cell_type": "code",
   "execution_count": 2,
   "metadata": {},
   "outputs": [
    {
     "name": "stdout",
     "output_type": "stream",
     "text": [
      "File 'annotation_10.nrrd' already exists.\n"
     ]
    }
   ],
   "source": [
    "# download the nrrd file from allen institute\n",
    "def download_file(url, file_path):\n",
    "    response = requests.get(url)\n",
    "    with open(file_path, 'wb') as f:\n",
    "        f.write(response.content)\n",
    "\n",
    "file_name = 'annotation_10.nrrd'\n",
    "if not os.path.exists(file_name):\n",
    "    url = 'http://download.alleninstitute.org/informatics-archive/current-release/mouse_ccf/annotation/ccf_2017/' + file_name\n",
    "    download_file(url, file_name)\n",
    "    print(f\"File '{file_name}' downloaded successfully.\")\n",
    "else:\n",
    "    print(f\"File '{file_name}' already exists.\")"
   ]
  },
  {
   "cell_type": "code",
   "execution_count": 20,
   "metadata": {},
   "outputs": [],
   "source": [
    "somadata,header=nrrd.read(\"annotation_10.nrrd\")"
   ]
  },
  {
   "cell_type": "code",
   "execution_count": 21,
   "metadata": {},
   "outputs": [],
   "source": [
    "dfarea = pd.read_excel(\"brain_areas.xlsx\",index_col=0)"
   ]
  },
  {
   "cell_type": "code",
   "execution_count": 22,
   "metadata": {},
   "outputs": [],
   "source": [
    "retain_area = [\"LHA\",\"PH\",\"DMH\",\"V3\"]\n",
    "retain_ID = dfarea.loc[dfarea.region.isin(retain_area)].index.tolist()"
   ]
  },
  {
   "cell_type": "code",
   "execution_count": 24,
   "metadata": {},
   "outputs": [],
   "source": [
    "mask = ~np.isin(somadata,retain_ID+[0])\n",
    "somadata[mask] = 5"
   ]
  },
  {
   "cell_type": "code",
   "execution_count": 25,
   "metadata": {},
   "outputs": [],
   "source": [
    "dfplot = pd.read_excel(\"orexin_soma_infor_cluster.xlsx\",index_col=0)"
   ]
  },
  {
   "cell_type": "code",
   "execution_count": 23,
   "metadata": {},
   "outputs": [
    {
     "data": {
      "text/html": [
       "<div>\n",
       "<style scoped>\n",
       "    .dataframe tbody tr th:only-of-type {\n",
       "        vertical-align: middle;\n",
       "    }\n",
       "\n",
       "    .dataframe tbody tr th {\n",
       "        vertical-align: top;\n",
       "    }\n",
       "\n",
       "    .dataframe thead th {\n",
       "        text-align: right;\n",
       "    }\n",
       "</style>\n",
       "<table border=\"1\" class=\"dataframe\">\n",
       "  <thead>\n",
       "    <tr style=\"text-align: right;\">\n",
       "      <th></th>\n",
       "      <th>cluster</th>\n",
       "      <th>neurons</th>\n",
       "      <th>location</th>\n",
       "      <th>geno</th>\n",
       "      <th>AP</th>\n",
       "      <th>DV</th>\n",
       "      <th>ML</th>\n",
       "    </tr>\n",
       "    <tr>\n",
       "      <th>file</th>\n",
       "      <th></th>\n",
       "      <th></th>\n",
       "      <th></th>\n",
       "      <th></th>\n",
       "      <th></th>\n",
       "      <th></th>\n",
       "      <th></th>\n",
       "    </tr>\n",
       "  </thead>\n",
       "  <tbody>\n",
       "    <tr>\n",
       "      <th>202662_003_Wt(orexin)_LHA</th>\n",
       "      <td>4</td>\n",
       "      <td>202662_003</td>\n",
       "      <td>LHA</td>\n",
       "      <td>Orexin</td>\n",
       "      <td>6966.281250</td>\n",
       "      <td>5551.878906</td>\n",
       "      <td>4414.011719</td>\n",
       "    </tr>\n",
       "    <tr>\n",
       "      <th>202662_005_Wt(orexin)_LHA</th>\n",
       "      <td>4</td>\n",
       "      <td>202662_005</td>\n",
       "      <td>LHA</td>\n",
       "      <td>Orexin</td>\n",
       "      <td>7010.980469</td>\n",
       "      <td>5836.339844</td>\n",
       "      <td>4614.421875</td>\n",
       "    </tr>\n",
       "    <tr>\n",
       "      <th>210104_001_Wt(orexin)_LHA</th>\n",
       "      <td>3</td>\n",
       "      <td>210104_001</td>\n",
       "      <td>LHA</td>\n",
       "      <td>Orexin</td>\n",
       "      <td>7409.519531</td>\n",
       "      <td>5713.050781</td>\n",
       "      <td>4869.109375</td>\n",
       "    </tr>\n",
       "    <tr>\n",
       "      <th>210104_002_Wt(orexin)_LHA</th>\n",
       "      <td>3</td>\n",
       "      <td>210104_002</td>\n",
       "      <td>LHA</td>\n",
       "      <td>Orexin</td>\n",
       "      <td>7259.941406</td>\n",
       "      <td>5877.160156</td>\n",
       "      <td>4850.371094</td>\n",
       "    </tr>\n",
       "    <tr>\n",
       "      <th>210104_003_Wt(orexin)_LHA</th>\n",
       "      <td>2</td>\n",
       "      <td>210104_003</td>\n",
       "      <td>LHA</td>\n",
       "      <td>Orexin</td>\n",
       "      <td>7257.789062</td>\n",
       "      <td>5826.210938</td>\n",
       "      <td>4893.671875</td>\n",
       "    </tr>\n",
       "    <tr>\n",
       "      <th>...</th>\n",
       "      <td>...</td>\n",
       "      <td>...</td>\n",
       "      <td>...</td>\n",
       "      <td>...</td>\n",
       "      <td>...</td>\n",
       "      <td>...</td>\n",
       "      <td>...</td>\n",
       "    </tr>\n",
       "    <tr>\n",
       "      <th>210991_017_Wt(orexin)_LHA</th>\n",
       "      <td>3</td>\n",
       "      <td>210991_017</td>\n",
       "      <td>LHA</td>\n",
       "      <td>Orexin</td>\n",
       "      <td>7177.609375</td>\n",
       "      <td>5992.000000</td>\n",
       "      <td>4458.531250</td>\n",
       "    </tr>\n",
       "    <tr>\n",
       "      <th>210991_018_Wt(orexin)_LHA</th>\n",
       "      <td>5</td>\n",
       "      <td>210991_018</td>\n",
       "      <td>LHA</td>\n",
       "      <td>Orexin</td>\n",
       "      <td>7163.750000</td>\n",
       "      <td>5929.570312</td>\n",
       "      <td>4632.308594</td>\n",
       "    </tr>\n",
       "    <tr>\n",
       "      <th>210991_019_Wt(orexin)_LHA</th>\n",
       "      <td>5</td>\n",
       "      <td>210991_019</td>\n",
       "      <td>LHA</td>\n",
       "      <td>Orexin</td>\n",
       "      <td>7097.269531</td>\n",
       "      <td>5871.781250</td>\n",
       "      <td>4515.710938</td>\n",
       "    </tr>\n",
       "    <tr>\n",
       "      <th>210991_021_Wt(orexin)_PSTN</th>\n",
       "      <td>4</td>\n",
       "      <td>210991_021</td>\n",
       "      <td>PSTN</td>\n",
       "      <td>Orexin</td>\n",
       "      <td>7274.710938</td>\n",
       "      <td>5739.398438</td>\n",
       "      <td>4480.019531</td>\n",
       "    </tr>\n",
       "    <tr>\n",
       "      <th>210991_022_Wt(orexin)_LHA</th>\n",
       "      <td>2</td>\n",
       "      <td>210991_022</td>\n",
       "      <td>LHA</td>\n",
       "      <td>Orexin</td>\n",
       "      <td>7169.710938</td>\n",
       "      <td>5951.601562</td>\n",
       "      <td>4676.488281</td>\n",
       "    </tr>\n",
       "  </tbody>\n",
       "</table>\n",
       "<p>103 rows × 7 columns</p>\n",
       "</div>"
      ],
      "text/plain": [
       "                            cluster     neurons location    geno           AP  \\\n",
       "file                                                                            \n",
       "202662_003_Wt(orexin)_LHA         4  202662_003      LHA  Orexin  6966.281250   \n",
       "202662_005_Wt(orexin)_LHA         4  202662_005      LHA  Orexin  7010.980469   \n",
       "210104_001_Wt(orexin)_LHA         3  210104_001      LHA  Orexin  7409.519531   \n",
       "210104_002_Wt(orexin)_LHA         3  210104_002      LHA  Orexin  7259.941406   \n",
       "210104_003_Wt(orexin)_LHA         2  210104_003      LHA  Orexin  7257.789062   \n",
       "...                             ...         ...      ...     ...          ...   \n",
       "210991_017_Wt(orexin)_LHA         3  210991_017      LHA  Orexin  7177.609375   \n",
       "210991_018_Wt(orexin)_LHA         5  210991_018      LHA  Orexin  7163.750000   \n",
       "210991_019_Wt(orexin)_LHA         5  210991_019      LHA  Orexin  7097.269531   \n",
       "210991_021_Wt(orexin)_PSTN        4  210991_021     PSTN  Orexin  7274.710938   \n",
       "210991_022_Wt(orexin)_LHA         2  210991_022      LHA  Orexin  7169.710938   \n",
       "\n",
       "                                     DV           ML  \n",
       "file                                                  \n",
       "202662_003_Wt(orexin)_LHA   5551.878906  4414.011719  \n",
       "202662_005_Wt(orexin)_LHA   5836.339844  4614.421875  \n",
       "210104_001_Wt(orexin)_LHA   5713.050781  4869.109375  \n",
       "210104_002_Wt(orexin)_LHA   5877.160156  4850.371094  \n",
       "210104_003_Wt(orexin)_LHA   5826.210938  4893.671875  \n",
       "...                                 ...          ...  \n",
       "210991_017_Wt(orexin)_LHA   5992.000000  4458.531250  \n",
       "210991_018_Wt(orexin)_LHA   5929.570312  4632.308594  \n",
       "210991_019_Wt(orexin)_LHA   5871.781250  4515.710938  \n",
       "210991_021_Wt(orexin)_PSTN  5739.398438  4480.019531  \n",
       "210991_022_Wt(orexin)_LHA   5951.601562  4676.488281  \n",
       "\n",
       "[103 rows x 7 columns]"
      ]
     },
     "execution_count": 23,
     "metadata": {},
     "output_type": "execute_result"
    }
   ],
   "source": [
    "dfplot"
   ]
  },
  {
   "cell_type": "code",
   "execution_count": 26,
   "metadata": {},
   "outputs": [
    {
     "name": "stdout",
     "output_type": "stream",
     "text": [
      "The folder already exist\n"
     ]
    }
   ],
   "source": [
    "# plot soma location in the allen image/in one image\n",
    "bregma = True\n",
    "plot_max = math.ceil(dfplot.AP.max()/10)\n",
    "plot_min = int(dfplot.AP.min()/10)\n",
    "\n",
    "try:\n",
    "    os.mkdir(\"raw\")\n",
    "except:\n",
    "    print(\"The folder already exist\")\n",
    "\n",
    "Image_slice = int((plot_max+plot_min)/2)\n",
    "image = somadata[Image_slice,:,:].astype(\"uint8\")\n",
    "# image = somadata[int(start+space/20),:,:].astype(\"uint8\")\n",
    "edges = cv2.Canny(image,10,25)\n",
    "edges2 = 255-edges\n",
    "# dfnew = dfplot.loc[(dfplot.AP>start*10)&(dfplot.AP<start*10+space)]\n",
    "fig = plt.figure(figsize=(16,8),dpi=600)\n",
    "ax = fig.add_subplot(1,1,1)\n",
    "ax.imshow(edges2,cmap = 'gray')\n",
    "ax.scatter(dfplot.ML/10,dfplot.DV/10,s=4,c=\"r\",marker = \"o\",alpha = 1)  \n",
    "ax.axis(\"off\")\n",
    "\n",
    "if bregma == False:\n",
    "    plt.savefig(\".\\\\raw\\\\soma_all_%d.jpg\"%int(Image_slice),dpi=900)\n",
    "else:\n",
    "    plt.savefig(\".\\\\raw\\\\soma_all_%d.jpg\"%int(-(Image_slice*10-5472)/100),dpi=900)\n",
    "plt.close()   "
   ]
  },
  {
   "cell_type": "code",
   "execution_count": 27,
   "metadata": {},
   "outputs": [
    {
     "name": "stdout",
     "output_type": "stream",
     "text": [
      "741\n",
      "655\n",
      "The folder already exist\n"
     ]
    }
   ],
   "source": [
    "# plot soma location in the allen image\n",
    "bregma = True\n",
    "hue_para = \"cluster\"\n",
    "space = 100\n",
    "\n",
    "dic_list = {1:'#E72119',2:'#1A793A',3:'#19479C',4:'#EAE83A',5:'#6EC6CA'}\n",
    "\n",
    "plot_max = math.ceil(dfplot.AP.max()/10)\n",
    "plot_min = int(dfplot.AP.min()/10)\n",
    "print(plot_max)\n",
    "print(plot_min)\n",
    "try:\n",
    "    os.mkdir(\"raw\")\n",
    "except:\n",
    "    print(\"The folder already exist\")\n",
    "for start in range(plot_min,plot_max,int(space/10)):\n",
    "    image = somadata[int(start+space/20),:,:].astype(\"uint8\")\n",
    "    edges = cv2.Canny(image,10,25)\n",
    "    edges2 = 255-edges\n",
    "    dfnew = dfplot.loc[(dfplot.AP>start*10)&(dfplot.AP<start*10+space)]\n",
    "    fig = plt.figure(figsize=(16,8),dpi=600)\n",
    "    ax = fig.add_subplot(1,1,1)\n",
    "    ax.imshow(edges2,cmap = 'gray')\n",
    "    for sep_i in dic_list:   \n",
    "        dfsubplot = dfnew.loc[dfnew.loc[:,hue_para] == sep_i]\n",
    "        ax.scatter(dfsubplot.ML/10,dfsubplot.DV/10,s=4,c=dic_list[sep_i],marker = \"o\",alpha = 1)  \n",
    "    ax.axis(\"off\")\n",
    "\n",
    "    if bregma == False:\n",
    "        plt.savefig(\".\\\\raw\\\\soma_%d.jpg\"%int(start+space/20),dpi=900)\n",
    "    else:\n",
    "        plt.savefig(\".\\\\raw\\\\soma_%d.jpg\"%int(-(start*10+space/2-5472)/100),dpi=900)\n",
    "    plt.close()   "
   ]
  },
  {
   "cell_type": "code",
   "execution_count": 23,
   "metadata": {},
   "outputs": [],
   "source": [
    "os.mkdir(\"crop\")"
   ]
  },
  {
   "cell_type": "code",
   "execution_count": 28,
   "metadata": {},
   "outputs": [],
   "source": [
    "# HY\n",
    "para = (2100*3,1450*3,2500*3,1950*3)\n",
    "mirrow = False\n",
    "# mirrow = True"
   ]
  },
  {
   "cell_type": "code",
   "execution_count": 29,
   "metadata": {},
   "outputs": [],
   "source": [
    "filelist = glob.glob(\".\\\\raw\\\\*\")"
   ]
  },
  {
   "cell_type": "code",
   "execution_count": 30,
   "metadata": {},
   "outputs": [
    {
     "name": "stderr",
     "output_type": "stream",
     "text": [
      "C:\\Users\\win7\\AppData\\Local\\Programs\\Python\\Python37\\Lib\\site-packages\\PIL\\Image.py:3170: DecompressionBombWarning: Image size (103680000 pixels) exceeds limit of 89478485 pixels, could be decompression bomb DOS attack.\n",
      "  DecompressionBombWarning,\n"
     ]
    }
   ],
   "source": [
    "# crop image\n",
    "for file in filelist:\n",
    "    filetmp = Image.open(file).crop(para)\n",
    "    # filetmp = Image.open(file)\n",
    "    filename = file.split(\"\\\\\")[-1]\n",
    "    # filetmp = filetmp.rotate(-90)\n",
    "    if mirrow == True:\n",
    "        filetmp = filetmp.transpose(Image.FLIP_LEFT_RIGHT)\n",
    "        filetmp = filetmp.rotate(-90)\n",
    "    filetmp.save(os.path.join(\".\\\\crop\",filename))\n",
    "    filetmp.close()"
   ]
  },
  {
   "cell_type": "code",
   "execution_count": 40,
   "metadata": {},
   "outputs": [],
   "source": [
    "os.mkdir(\"edge\")"
   ]
  },
  {
   "cell_type": "code",
   "execution_count": 31,
   "metadata": {},
   "outputs": [],
   "source": [
    "filelist = glob.glob(\".\\\\crop\\\\*\")"
   ]
  },
  {
   "cell_type": "code",
   "execution_count": 32,
   "metadata": {},
   "outputs": [],
   "source": [
    "# add edge\n",
    "add = 8\n",
    "for file in filelist:\n",
    "    tmp1st = Image.open(file)\n",
    "    x = int(tmp1st.size[0]+add*2)\n",
    "    y = int(tmp1st.size[1]+add*2)\n",
    "    result = Image.new(tmp1st.mode, (x,y),\"black\")\n",
    "    # result = Image.new(tmp1st.mode, (x,y),\"white\")\n",
    "    result.paste(tmp1st,box=(add,add))\n",
    "    result.save(\".\\\\edge\\\\%s\"%(file.split(\"\\\\\")[-1]))\n",
    "    result.close()\n"
   ]
  }
 ],
 "metadata": {
  "kernelspec": {
   "display_name": "Python 3.7.9 64-bit",
   "language": "python",
   "name": "python3"
  },
  "language_info": {
   "codemirror_mode": {
    "name": "ipython",
    "version": 3
   },
   "file_extension": ".py",
   "mimetype": "text/x-python",
   "name": "python",
   "nbconvert_exporter": "python",
   "pygments_lexer": "ipython3",
   "version": "3.7.9"
  },
  "orig_nbformat": 4,
  "vscode": {
   "interpreter": {
    "hash": "681c1bce0af37acb6fe2fe46c8fcef319e7d4e48d6c4d2470fa77ec40f3f89e9"
   }
  }
 },
 "nbformat": 4,
 "nbformat_minor": 2
}
