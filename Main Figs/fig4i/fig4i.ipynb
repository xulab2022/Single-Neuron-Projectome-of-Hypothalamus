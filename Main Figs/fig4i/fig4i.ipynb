{
 "cells": [
  {
   "cell_type": "code",
   "execution_count": 7,
   "metadata": {},
   "outputs": [],
   "source": [
    "import plotly.graph_objects as go\n",
    "import pandas as pd\n",
    "import sys,os,glob,shutil\n",
    "import numpy as np\n",
    "import random\n",
    "import matplotlib.pyplot as plt\n",
    "import visualization as vs\n",
    "from tqdm import tqdm"
   ]
  },
  {
   "cell_type": "code",
   "execution_count": 19,
   "metadata": {},
   "outputs": [],
   "source": [
    "os.chdir(r\"H:\\20231218_figs\\20231221_subtype22_terminal\")"
   ]
  },
  {
   "cell_type": "code",
   "execution_count": 8,
   "metadata": {},
   "outputs": [],
   "source": [
    "dfsoma = pd.read_csv(\"Subtype22_soma_infor.csv\",index_col=0)"
   ]
  },
  {
   "cell_type": "code",
   "execution_count": 9,
   "metadata": {},
   "outputs": [],
   "source": [
    "# fig3c medial-lateral base\n",
    "dfML_plot = dfsoma.sort_values(by = \"DV\",ascending=False)\n",
    "plotname = dfML_plot.index.tolist()"
   ]
  },
  {
   "cell_type": "code",
   "execution_count": 11,
   "metadata": {},
   "outputs": [
    {
     "name": "stderr",
     "output_type": "stream",
     "text": [
      "specified material (mtl1)  not loaded!\n",
      "100%|██████████| 4/4 [02:57<00:00, 44.41s/it]\n"
     ]
    }
   ],
   "source": [
    "## all base on plotname\n",
    "maps = \"cool\"\n",
    "a_values = 0.58\n",
    "neuron_no = len(plotname)\n",
    "cmap = plt.get_cmap(maps, neuron_no)\n",
    "colors = cmap(np.linspace(0, 1, neuron_no))\n",
    "big_list = [plotname[0], plotname[neuron_no//2+1], plotname[-1]]\n",
    "\n",
    "dfcsvpath = \".\\\\neurons\"\n",
    "vols = []\n",
    "vols.append(vs.generate_go_ba(area = \"ATN\",o = 0.2,c=\"darkgray\",half=True))\n",
    "\n",
    "for i,neuron_name in enumerate(plotname):\n",
    "    file = os.path.join(dfcsvpath,neuron_name+\"_ATN_VTN.csv\")\n",
    "    if neuron_name in big_list:\n",
    "        color = f'rgba({int(255*colors[i][0])}, {int(255*colors[i][1])}, {int(255*colors[i][2])}, {1})'\n",
    "        size =3.5\n",
    "        linewidth = 1.5\n",
    "    else:\n",
    "        color = f'rgba({int(255*colors[i][0])}, {int(255*colors[i][1])}, {int(255*colors[i][2])}, {a_values})'\n",
    "        size =2\n",
    "        linewidth = 0.5\n",
    "\n",
    "    dftmp = pd.read_csv(file,sep = \",\",index_col=0)\n",
    "\n",
    "    for edge in set(dftmp.bratch_ID.tolist()):\n",
    "        dfnew = dftmp.loc[dftmp.bratch_ID == edge]      \n",
    "        vols.append(vs.generate_go_lines(dfnew[[\"AP\",\"DV\",\"ML\"]],c=color,lw= linewidth,name=\"\"))\n",
    "    soma = dftmp.loc[dftmp.type ==1][[\"AP\",\"DV\",\"ML\"]]\n",
    "    vols.append(vs.generate_go_scatters(soma,color=color,size=size,name=\"\"))\n",
    "\n",
    "fig = go.Figure(vols)\n",
    "for eyes in tqdm([\"front\",\"left\",\"top\",\"se\"]):\n",
    "    layout = vs.generate_go_layout(title=\"\",eye_from=eyes,big=1.2)\n",
    "    fig.layout = layout\n",
    "    fig.write_image(\"Subtype2_ATN_%s_%s_DV.jpg\"%(eyes,maps),scale =8)"
   ]
  },
  {
   "cell_type": "code",
   "execution_count": 16,
   "metadata": {},
   "outputs": [],
   "source": [
    "# fig3c ventral-dorsal base\n",
    "dfDV_plot = dfsoma.sort_values(by = \"DV\",ascending=False)\n",
    "plotname = dfDV_plot.index.tolist()"
   ]
  },
  {
   "cell_type": "code",
   "execution_count": 17,
   "metadata": {},
   "outputs": [
    {
     "name": "stderr",
     "output_type": "stream",
     "text": [
      "specified material (mtl1)  not loaded!\n",
      "specified material (mtl1)  not loaded!\n",
      "100%|██████████| 4/4 [13:48<00:00, 207.04s/it]\n"
     ]
    }
   ],
   "source": [
    "## all base on plotname\n",
    "maps = \"cool\"\n",
    "a_values = 0.58\n",
    "neuron_no = len(plotname)\n",
    "cmap = plt.get_cmap(maps, neuron_no)\n",
    "colors = cmap(np.linspace(0, 1, neuron_no))\n",
    "big_list = [plotname[0], plotname[neuron_no//2+1], plotname[-1]]\n",
    "\n",
    "dfcsvpath = \".\\\\neurons\"\n",
    "vols = []\n",
    "vols.append(vs.generate_go_ba(area = \"GPe\",o = 0.2,c=\"darkgray\",half=True))\n",
    "vols.append(vs.generate_go_ba(area = \"SNr\",o = 0.2,c=\"darkgray\",half=True))\n",
    "\n",
    "for i,neuron_name in enumerate(plotname):\n",
    "    file = os.path.join(dfcsvpath,neuron_name+\"_SNr_GPe.csv\")\n",
    "    if neuron_name in big_list:\n",
    "        color = f'rgba({int(255*colors[i][0])}, {int(255*colors[i][1])}, {int(255*colors[i][2])}, {1})'\n",
    "        size =3.5\n",
    "        linewidth = 1.5\n",
    "    else:\n",
    "        color = f'rgba({int(255*colors[i][0])}, {int(255*colors[i][1])}, {int(255*colors[i][2])}, {a_values})'\n",
    "        size =2\n",
    "        linewidth = 0.5\n",
    "\n",
    "    dftmp = pd.read_csv(file,sep = \",\",index_col=0)\n",
    "\n",
    "    for edge in set(dftmp.bratch_ID.tolist()):\n",
    "        dfnew = dftmp.loc[dftmp.bratch_ID == edge]      \n",
    "        vols.append(vs.generate_go_lines(dfnew[[\"AP\",\"DV\",\"ML\"]],c=color,lw= linewidth,name=\"\"))\n",
    "    soma = dftmp.loc[dftmp.type ==1][[\"AP\",\"DV\",\"ML\"]]\n",
    "    vols.append(vs.generate_go_scatters(soma,color=color,size=size,name=\"\"))\n",
    "\n",
    "fig = go.Figure(vols)\n",
    "for eyes in tqdm([\"front\",\"left\",\"top\",\"se\"]):\n",
    "    layout = vs.generate_go_layout(title=\"\",eye_from=eyes,big=1.2)\n",
    "    fig.layout = layout\n",
    "    fig.write_image(\"Subtype22_SNr_GPe_%s_%s_DV.jpg\"%(eyes,maps),scale =8)"
   ]
  }
 ],
 "metadata": {
  "kernelspec": {
   "display_name": "Python 3.7.9 64-bit",
   "language": "python",
   "name": "python3"
  },
  "language_info": {
   "codemirror_mode": {
    "name": "ipython",
    "version": 3
   },
   "file_extension": ".py",
   "mimetype": "text/x-python",
   "name": "python",
   "nbconvert_exporter": "python",
   "pygments_lexer": "ipython3",
   "version": "3.7.9"
  },
  "orig_nbformat": 4,
  "vscode": {
   "interpreter": {
    "hash": "681c1bce0af37acb6fe2fe46c8fcef319e7d4e48d6c4d2470fa77ec40f3f89e9"
   }
  }
 },
 "nbformat": 4,
 "nbformat_minor": 2
}
