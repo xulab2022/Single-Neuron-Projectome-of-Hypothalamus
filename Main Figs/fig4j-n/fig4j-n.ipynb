{
 "cells": [
  {
   "cell_type": "code",
   "execution_count": 19,
   "metadata": {},
   "outputs": [],
   "source": [
    "import plotly.graph_objects as go\n",
    "import pandas as pd\n",
    "import sys,os,glob,shutil\n",
    "import numpy as np\n",
    "import random\n",
    "import matplotlib.pyplot as plt\n",
    "import visualization as vs\n",
    "from tqdm import tqdm\n",
    "from sklearn.preprocessing import MinMaxScaler"
   ]
  },
  {
   "cell_type": "code",
   "execution_count": 20,
   "metadata": {},
   "outputs": [],
   "source": [
    "df = pd.read_csv('Subtype22_MBO_ATN.csv', index_col=0)"
   ]
  },
  {
   "cell_type": "code",
   "execution_count": 21,
   "metadata": {},
   "outputs": [],
   "source": [
    "scaler = MinMaxScaler()\n",
    "color_list_x = [int(item) for item in (scaler.fit_transform(np.array(df['soma_AP']).reshape(-1, 1)).reshape(1,-1)*255)[0]]\n",
    "color_list_y = [int(item) for item in (scaler.fit_transform(np.array(df['soma_DV']).reshape(-1, 1)).reshape(1,-1)*255)[0]]\n",
    "color_list_z = [int(item) for item in (scaler.fit_transform(np.array(df['soma_ML']).reshape(-1, 1)).reshape(1,-1)*255)[0]]\n",
    "colors = np.column_stack((color_list_x, color_list_y, color_list_z))\n",
    "colors = [tuple(item) for item in colors]\n",
    "df[\"colors\"] = colors"
   ]
  },
  {
   "cell_type": "code",
   "execution_count": 22,
   "metadata": {},
   "outputs": [
    {
     "name": "stderr",
     "output_type": "stream",
     "text": [
      "specified material (mtl1)  not loaded!\n",
      "specified material (mtl1)  not loaded!\n"
     ]
    }
   ],
   "source": [
    "vols = []\n",
    "vols.append(vs.generate_go_ba(\"MBO\",o=0.15,c=\"gray\"))\n",
    "vols.append(vs.generate_go_ba(\"ATN\",o=0.15,c=\"gray\"))\n",
    "vols.append(vs.generate_go_scatters(df[['ter_AP','ter_DV','ter_ML']].values,size=2,color=df[\"colors\"].tolist()))\n",
    "vols.append(vs.generate_go_scatters(df[['soma_AP','soma_DV','soma_ML']].values,size=2,color=df[\"colors\"].tolist()))\n",
    "\n",
    "fig = go.Figure(vols)\n",
    "for eyes in [\"front\"]:\n",
    "    layout = vs.generate_go_layout(title=\"\",eye_from=eyes)\n",
    "    fig.layout = layout\n",
    "    # fig.write_image(r'soma_plot_%s.pdf'%(eyes),scale =8)\n",
    "    fig.write_image(r'soma_plot_%s_all.jpg'%(eyes),scale =8)"
   ]
  },
  {
   "cell_type": "code",
   "execution_count": 23,
   "metadata": {},
   "outputs": [
    {
     "name": "stderr",
     "output_type": "stream",
     "text": [
      "specified material (mtl1)  not loaded!\n",
      "specified material (mtl1)  not loaded!\n",
      "specified material (mtl1)  not loaded!\n",
      "specified material (mtl1)  not loaded!\n",
      "specified material (mtl1)  not loaded!\n",
      "specified material (mtl1)  not loaded!\n",
      "specified material (mtl1)  not loaded!\n",
      "specified material (mtl1)  not loaded!\n"
     ]
    }
   ],
   "source": [
    "for geno in ['Adcyap1', 'Tac2','Nts', 'Pdyn']:\n",
    "    df_tmp = df.loc[df.geno == geno]\n",
    "    vols = []\n",
    "    vols.append(vs.generate_go_ba(\"MBO\",o=0.15,c=\"gray\"))\n",
    "    vols.append(vs.generate_go_ba(\"ATN\",o=0.15,c=\"gray\"))\n",
    "    vols.append(vs.generate_go_scatters(df_tmp[['ter_AP','ter_DV','ter_ML']].values,size=2,color=df_tmp[\"colors\"].tolist()))\n",
    "    vols.append(vs.generate_go_scatters(df_tmp[['soma_AP','soma_DV','soma_ML']].values,size=2,color=df_tmp[\"colors\"].tolist()))\n",
    "\n",
    "    fig = go.Figure(vols)\n",
    "    for eyes in [\"front\"]:\n",
    "        layout = vs.generate_go_layout(title=\"\",eye_from=eyes)\n",
    "        fig.layout = layout\n",
    "        # fig.write_image(r'soma_plot_%s.pdf'%(eyes),scale =8)\n",
    "        fig.write_image(r'soma_plot_%s_%s.jpg'%(eyes,geno),scale =8)"
   ]
  },
  {
   "cell_type": "code",
   "execution_count": null,
   "metadata": {},
   "outputs": [],
   "source": []
  },
  {
   "cell_type": "code",
   "execution_count": null,
   "metadata": {},
   "outputs": [],
   "source": []
  },
  {
   "cell_type": "code",
   "execution_count": null,
   "metadata": {},
   "outputs": [],
   "source": []
  }
 ],
 "metadata": {
  "kernelspec": {
   "display_name": "Python 3.7.9 64-bit",
   "language": "python",
   "name": "python3"
  },
  "language_info": {
   "codemirror_mode": {
    "name": "ipython",
    "version": 3
   },
   "file_extension": ".py",
   "mimetype": "text/x-python",
   "name": "python",
   "nbconvert_exporter": "python",
   "pygments_lexer": "ipython3",
   "version": "3.7.13"
  },
  "orig_nbformat": 4,
  "vscode": {
   "interpreter": {
    "hash": "681c1bce0af37acb6fe2fe46c8fcef319e7d4e48d6c4d2470fa77ec40f3f89e9"
   }
  }
 },
 "nbformat": 4,
 "nbformat_minor": 2
}
