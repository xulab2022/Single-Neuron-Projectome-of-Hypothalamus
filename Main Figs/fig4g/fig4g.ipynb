{
 "cells": [
  {
   "cell_type": "code",
   "execution_count": 1,
   "metadata": {},
   "outputs": [],
   "source": [
    "import plotly.graph_objects as go\n",
    "import pandas as pd\n",
    "import sys,os,glob,shutil\n",
    "import numpy as np\n",
    "import random\n",
    "import matplotlib.pyplot as plt\n",
    "import visualization as vs\n",
    "from tqdm import tqdm"
   ]
  },
  {
   "cell_type": "code",
   "execution_count": 19,
   "metadata": {},
   "outputs": [],
   "source": [
    "os.chdir(r\"H:\\20231218_figs\\20231221_subtype22_terminal\")"
   ]
  },
  {
   "cell_type": "code",
   "execution_count": 2,
   "metadata": {},
   "outputs": [],
   "source": [
    "dfsoma = pd.read_csv(\"Subtype4_soma_infor.csv\",index_col=0)"
   ]
  },
  {
   "cell_type": "code",
   "execution_count": 4,
   "metadata": {},
   "outputs": [],
   "source": [
    "# fig4g medial-lateral base\n",
    "dfML_plot = dfsoma.sort_values(by = \"ML\",ascending=False)\n",
    "plotname = dfML_plot.index.tolist()"
   ]
  },
  {
   "cell_type": "code",
   "execution_count": 9,
   "metadata": {},
   "outputs": [
    {
     "data": {
      "text/plain": [
       "25"
      ]
     },
     "execution_count": 9,
     "metadata": {},
     "output_type": "execute_result"
    }
   ],
   "source": [
    "neuron_no//2"
   ]
  },
  {
   "cell_type": "code",
   "execution_count": 10,
   "metadata": {},
   "outputs": [
    {
     "name": "stderr",
     "output_type": "stream",
     "text": [
      "specified material (mtl1)  not loaded!\n",
      "100%|██████████| 4/4 [09:30<00:00, 142.62s/it]\n"
     ]
    }
   ],
   "source": [
    "## all base on plotname\n",
    "maps = \"cool\"\n",
    "a_values = 0.58\n",
    "neuron_no = len(plotname)\n",
    "cmap = plt.get_cmap(maps, neuron_no)\n",
    "colors = cmap(np.linspace(0, 1, neuron_no))\n",
    "big_list = [plotname[0], plotname[neuron_no//2], plotname[-1]]\n",
    "\n",
    "dfcsvpath = \".\\\\neurons\"\n",
    "vols = []\n",
    "vols.append(vs.generate_go_ba(area = \"CA1\",o = 0.2,c=\"darkgray\",half=True))\n",
    "# vols.append(vs.generate_go_ba(area = \"SNr\",o = 0.2,c=\"darkgray\",half=True))\n",
    "\n",
    "for i,neuron_name in enumerate(plotname):\n",
    "    file = os.path.join(dfcsvpath,neuron_name+\"_CA1.csv\")\n",
    "    if neuron_name in big_list:\n",
    "        color = f'rgba({int(255*colors[i][0])}, {int(255*colors[i][1])}, {int(255*colors[i][2])}, {1})'\n",
    "        size =3.5\n",
    "        linewidth = 1.5\n",
    "    else:\n",
    "        color = f'rgba({int(255*colors[i][0])}, {int(255*colors[i][1])}, {int(255*colors[i][2])}, {a_values})'\n",
    "        size =2\n",
    "        linewidth = 0.5\n",
    "\n",
    "    dftmp = pd.read_csv(file,sep = \",\",index_col=0)\n",
    "\n",
    "    for edge in set(dftmp.bratch_ID.tolist()):\n",
    "        dfnew = dftmp.loc[dftmp.bratch_ID == edge]      \n",
    "        vols.append(vs.generate_go_lines(dfnew[[\"AP\",\"DV\",\"ML\"]],c=color,lw= linewidth,name=\"\"))\n",
    "    soma = dftmp.loc[dftmp.type ==1][[\"AP\",\"DV\",\"ML\"]]\n",
    "    vols.append(vs.generate_go_scatters(soma,color=color,size=size,name=\"\"))\n",
    "\n",
    "fig = go.Figure(vols)\n",
    "for eyes in tqdm([\"front\",\"left\",\"top\",\"se\"]):\n",
    "    layout = vs.generate_go_layout(title=\"\",eye_from=eyes,big=1.2)\n",
    "    fig.layout = layout\n",
    "    fig.write_image(\"Subtype4_CA1_%s_%s_ML.jpg\"%(eyes,maps),scale =8)"
   ]
  },
  {
   "cell_type": "code",
   "execution_count": 22,
   "metadata": {},
   "outputs": [],
   "source": [
    "dfneuron = pd.read_csv(\"subtype22_fig3_plot2_AMd.csv\",index_col=0)\n",
    "neuronnames = dfneuron.index.tolist()\n"
   ]
  },
  {
   "cell_type": "code",
   "execution_count": null,
   "metadata": {},
   "outputs": [],
   "source": [
    "dfneuron.index.to_list()"
   ]
  },
  {
   "cell_type": "code",
   "execution_count": null,
   "metadata": {},
   "outputs": [],
   "source": [
    "dfsoma = pd.read_excel(\"Subtype2_fig3_neuron_soma_infor.xlsx\",index_col=0)"
   ]
  },
  {
   "cell_type": "code",
   "execution_count": 6,
   "metadata": {},
   "outputs": [],
   "source": [
    "dfsoma = pd.read_csv(\"Subtype2_fig3_neuron_soma_infor.csv\",index_col=0)"
   ]
  },
  {
   "cell_type": "code",
   "execution_count": 34,
   "metadata": {},
   "outputs": [],
   "source": [
    "dfsoma = pd.read_csv(\"Subtype22_fig3_neuron_soma_infor.csv\",index_col=0)"
   ]
  },
  {
   "cell_type": "code",
   "execution_count": 23,
   "metadata": {},
   "outputs": [],
   "source": [
    "dfsomaplot = dfsoma.loc[neuronnames,:].sort_values(by=\"DV\",ascending=False)\n",
    "plotname = dfsomaplot.index.tolist()"
   ]
  },
  {
   "cell_type": "code",
   "execution_count": 35,
   "metadata": {},
   "outputs": [],
   "source": [
    "dfsomaplot = dfsoma.loc[:,:].sort_values(by=\"DV\",ascending=False)\n",
    "plotname = dfsomaplot.index.tolist()"
   ]
  },
  {
   "cell_type": "code",
   "execution_count": 24,
   "metadata": {},
   "outputs": [],
   "source": [
    "dfsomaplot.to_csv(\"Subtype22_fig3_soma_infor_DV_new.csv\")"
   ]
  },
  {
   "cell_type": "code",
   "execution_count": 41,
   "metadata": {},
   "outputs": [
    {
     "name": "stderr",
     "output_type": "stream",
     "text": [
      "specified material (mtl1)  not loaded!\n",
      "specified material (mtl1)  not loaded!\n",
      "100%|██████████| 4/4 [02:52<00:00, 43.05s/it]\n"
     ]
    }
   ],
   "source": [
    "## all base on plotname\n",
    "maps = \"cool\"\n",
    "a_values = 0.58\n",
    "neuron_no = len(plotname)\n",
    "cmap = plt.get_cmap(maps, neuron_no)\n",
    "colors = cmap(np.linspace(0, 1, neuron_no))\n",
    "big_list = [plotname[0], plotname[neuron_no//2+1], plotname[-1]]\n",
    "\n",
    "dfcsvpath = r\"H:\\20231218_figs\\20231221_subtype22_terminal\\df_ATN_VTN_others\"\n",
    "vols = []\n",
    "vols.append(vs.generate_go_ba(area = \"ATN\",o = 0.2,c=\"darkgray\",half=True))\n",
    "vols.append(vs.generate_go_ba(area = \"VTN\",o = 0.2,c=\"darkgray\",half=True))\n",
    "# vols.append(vs.generate_go_ba(area = \"SNr\",o = 0.2,c=\"darkgray\",half=True))\n",
    "# vols.append(vs.generate_go_ba(area = \"GPe\",o = 0.2,c=\"darkgray\",half=True))\n",
    "for i,neuron_name in enumerate(plotname):\n",
    "    file = os.path.join(dfcsvpath,neuron_name+\"_ATN_VTN.csv\")\n",
    "    # neuron_name = file.split(\"\\\\\")[-1].split(\".\")[0]\n",
    "    # vols.append(vs.generate_go_ba(area = \"root\",o = 0.2,c=\"gray\"))\n",
    "    if neuron_name in big_list:\n",
    "        color = f'rgba({int(255*colors[i][0])}, {int(255*colors[i][1])}, {int(255*colors[i][2])}, {1})'\n",
    "        size =3.5\n",
    "        linewidth = 1.5\n",
    "    else:\n",
    "        color = f'rgba({int(255*colors[i][0])}, {int(255*colors[i][1])}, {int(255*colors[i][2])}, {a_values})'\n",
    "        size =2\n",
    "        linewidth = 0.5\n",
    "\n",
    "    dftmp = pd.read_csv(file,sep = \",\",index_col=0)\n",
    "    # dftmp = dfneuron.loc[dfneuron.in_not ==1]\n",
    "    # c = vs.generate_color()\n",
    "    for edge in set(dftmp.bratch_ID.tolist()):\n",
    "        dfnew = dftmp.loc[dftmp.bratch_ID == edge]      \n",
    "        vols.append(vs.generate_go_lines(dfnew[[\"AP\",\"DV\",\"ML\"]],c=color,lw= linewidth,name=\"\"))\n",
    "    soma = dftmp.loc[dftmp.type ==1][[\"AP\",\"DV\",\"ML\"]]\n",
    "    # SNr = dftmp.loc[(dftmp.terminal == 1)&(dftmp.region == \"SNr\")][[\"AP\",\"DV\",\"ML\"]]\n",
    "    # CP = dftmp.loc[(dftmp.terminal == 1)&(dftmp.region == \"CP\")][[\"AP\",\"DV\",\"ML\"]]\n",
    "    vols.append(vs.generate_go_scatters(soma,color=color,size=size,name=\"\"))\n",
    "\n",
    "fig = go.Figure(vols)\n",
    "# for eyes in tqdm([\"left\"]):\n",
    "for eyes in tqdm([\"front\",\"left\",\"top\",\"se\"]):\n",
    "    # for eyes in [\"front\",\"left\"]:\n",
    "    layout = vs.generate_go_layout(title=\"\",eye_from=eyes,big=1.2)\n",
    "    fig.layout = layout\n",
    "    fig.write_image(\"Subtype22_ATN_VTN_%s_%s_%d_DV.jpg\"%(eyes,maps,int(a_values*10)),scale =8)    "
   ]
  },
  {
   "cell_type": "code",
   "execution_count": 33,
   "metadata": {},
   "outputs": [
    {
     "data": {
      "text/html": [
       "<div>\n",
       "<style scoped>\n",
       "    .dataframe tbody tr th:only-of-type {\n",
       "        vertical-align: middle;\n",
       "    }\n",
       "\n",
       "    .dataframe tbody tr th {\n",
       "        vertical-align: top;\n",
       "    }\n",
       "\n",
       "    .dataframe thead th {\n",
       "        text-align: right;\n",
       "    }\n",
       "</style>\n",
       "<table border=\"1\" class=\"dataframe\">\n",
       "  <thead>\n",
       "    <tr style=\"text-align: right;\">\n",
       "      <th></th>\n",
       "      <th>cluster</th>\n",
       "      <th>neurons</th>\n",
       "      <th>location</th>\n",
       "      <th>geno</th>\n",
       "      <th>AP</th>\n",
       "      <th>DV</th>\n",
       "      <th>ML</th>\n",
       "    </tr>\n",
       "  </thead>\n",
       "  <tbody>\n",
       "    <tr>\n",
       "      <th>211493_200_Tac2_MMm</th>\n",
       "      <td>22</td>\n",
       "      <td>211493_200</td>\n",
       "      <td>MMm</td>\n",
       "      <td>Tac2</td>\n",
       "      <td>8013.328125</td>\n",
       "      <td>6370.468750</td>\n",
       "      <td>5490.800781</td>\n",
       "    </tr>\n",
       "    <tr>\n",
       "      <th>211269_041_Tac2_MMm</th>\n",
       "      <td>22</td>\n",
       "      <td>211269_041</td>\n",
       "      <td>MMm</td>\n",
       "      <td>Tac2</td>\n",
       "      <td>8013.718750</td>\n",
       "      <td>6366.640625</td>\n",
       "      <td>5439.101562</td>\n",
       "    </tr>\n",
       "    <tr>\n",
       "      <th>202562_032_Tac2_MMl</th>\n",
       "      <td>22</td>\n",
       "      <td>202562_032</td>\n",
       "      <td>MMl</td>\n",
       "      <td>Tac2</td>\n",
       "      <td>8023.660156</td>\n",
       "      <td>6352.269531</td>\n",
       "      <td>5012.910156</td>\n",
       "    </tr>\n",
       "    <tr>\n",
       "      <th>202562_021_Tac2_MMl</th>\n",
       "      <td>22</td>\n",
       "      <td>202562_021</td>\n",
       "      <td>MMl</td>\n",
       "      <td>Tac2</td>\n",
       "      <td>8125.148438</td>\n",
       "      <td>6333.601562</td>\n",
       "      <td>5129.511719</td>\n",
       "    </tr>\n",
       "    <tr>\n",
       "      <th>210758_019_Pdyn_MMp</th>\n",
       "      <td>22</td>\n",
       "      <td>210758_019</td>\n",
       "      <td>MMp</td>\n",
       "      <td>Pdyn</td>\n",
       "      <td>8156.351562</td>\n",
       "      <td>6321.421875</td>\n",
       "      <td>5562.230469</td>\n",
       "    </tr>\n",
       "    <tr>\n",
       "      <th>...</th>\n",
       "      <td>...</td>\n",
       "      <td>...</td>\n",
       "      <td>...</td>\n",
       "      <td>...</td>\n",
       "      <td>...</td>\n",
       "      <td>...</td>\n",
       "      <td>...</td>\n",
       "    </tr>\n",
       "    <tr>\n",
       "      <th>211271_112_Adcyap1_MMd</th>\n",
       "      <td>22</td>\n",
       "      <td>211271_112</td>\n",
       "      <td>MMd</td>\n",
       "      <td>Adcyap1</td>\n",
       "      <td>8275.531250</td>\n",
       "      <td>5740.769531</td>\n",
       "      <td>5575.960938</td>\n",
       "    </tr>\n",
       "    <tr>\n",
       "      <th>210074_014_Penk_SUM</th>\n",
       "      <td>22</td>\n",
       "      <td>210074_014</td>\n",
       "      <td>SUM</td>\n",
       "      <td>Penk</td>\n",
       "      <td>8060.121094</td>\n",
       "      <td>5719.558594</td>\n",
       "      <td>5243.429688</td>\n",
       "    </tr>\n",
       "    <tr>\n",
       "      <th>211271_007_Adcyap1_SUM</th>\n",
       "      <td>22</td>\n",
       "      <td>211271_007</td>\n",
       "      <td>SUM</td>\n",
       "      <td>Adcyap1</td>\n",
       "      <td>7924.851562</td>\n",
       "      <td>5719.281250</td>\n",
       "      <td>5378.519531</td>\n",
       "    </tr>\n",
       "    <tr>\n",
       "      <th>211272_006_Adcyap1_SUM</th>\n",
       "      <td>22</td>\n",
       "      <td>211272_006</td>\n",
       "      <td>SUM</td>\n",
       "      <td>Adcyap1</td>\n",
       "      <td>8060.429688</td>\n",
       "      <td>5685.031250</td>\n",
       "      <td>5633.511719</td>\n",
       "    </tr>\n",
       "    <tr>\n",
       "      <th>211271_113_Adcyap1_SUM</th>\n",
       "      <td>22</td>\n",
       "      <td>211271_113</td>\n",
       "      <td>SUM</td>\n",
       "      <td>Adcyap1</td>\n",
       "      <td>7983.781250</td>\n",
       "      <td>5644.308594</td>\n",
       "      <td>5433.390625</td>\n",
       "    </tr>\n",
       "  </tbody>\n",
       "</table>\n",
       "<p>92 rows × 7 columns</p>\n",
       "</div>"
      ],
      "text/plain": [
       "                        cluster     neurons location     geno           AP  \\\n",
       "211493_200_Tac2_MMm          22  211493_200      MMm     Tac2  8013.328125   \n",
       "211269_041_Tac2_MMm          22  211269_041      MMm     Tac2  8013.718750   \n",
       "202562_032_Tac2_MMl          22  202562_032      MMl     Tac2  8023.660156   \n",
       "202562_021_Tac2_MMl          22  202562_021      MMl     Tac2  8125.148438   \n",
       "210758_019_Pdyn_MMp          22  210758_019      MMp     Pdyn  8156.351562   \n",
       "...                         ...         ...      ...      ...          ...   \n",
       "211271_112_Adcyap1_MMd       22  211271_112      MMd  Adcyap1  8275.531250   \n",
       "210074_014_Penk_SUM          22  210074_014      SUM     Penk  8060.121094   \n",
       "211271_007_Adcyap1_SUM       22  211271_007      SUM  Adcyap1  7924.851562   \n",
       "211272_006_Adcyap1_SUM       22  211272_006      SUM  Adcyap1  8060.429688   \n",
       "211271_113_Adcyap1_SUM       22  211271_113      SUM  Adcyap1  7983.781250   \n",
       "\n",
       "                                 DV           ML  \n",
       "211493_200_Tac2_MMm     6370.468750  5490.800781  \n",
       "211269_041_Tac2_MMm     6366.640625  5439.101562  \n",
       "202562_032_Tac2_MMl     6352.269531  5012.910156  \n",
       "202562_021_Tac2_MMl     6333.601562  5129.511719  \n",
       "210758_019_Pdyn_MMp     6321.421875  5562.230469  \n",
       "...                             ...          ...  \n",
       "211271_112_Adcyap1_MMd  5740.769531  5575.960938  \n",
       "210074_014_Penk_SUM     5719.558594  5243.429688  \n",
       "211271_007_Adcyap1_SUM  5719.281250  5378.519531  \n",
       "211272_006_Adcyap1_SUM  5685.031250  5633.511719  \n",
       "211271_113_Adcyap1_SUM  5644.308594  5433.390625  \n",
       "\n",
       "[92 rows x 7 columns]"
      ]
     },
     "execution_count": 33,
     "metadata": {},
     "output_type": "execute_result"
    }
   ],
   "source": [
    "dfsomaplot"
   ]
  },
  {
   "cell_type": "markdown",
   "metadata": {},
   "source": []
  },
  {
   "cell_type": "code",
   "execution_count": 42,
   "metadata": {},
   "outputs": [],
   "source": [
    "dfsoma.loc[big_list].to_csv(\"big_list_DV.csv\")"
   ]
  },
  {
   "cell_type": "code",
   "execution_count": null,
   "metadata": {},
   "outputs": [],
   "source": [
    "dfsoma.loc[big_list]"
   ]
  },
  {
   "cell_type": "code",
   "execution_count": null,
   "metadata": {},
   "outputs": [],
   "source": [
    "\n",
    "import numpy as np \n",
    "import nrrd# Some sample numpy \n",
    "import os,glob\n",
    "import matplotlib.pyplot as plt\n",
    "import seaborn as sns\n",
    "import pandas as pd\n",
    "import cv2,math\n"
   ]
  },
  {
   "cell_type": "code",
   "execution_count": null,
   "metadata": {},
   "outputs": [],
   "source": [
    "temp =r'D:\\projectome\\annotation_10_2017.nrrd'\n",
    "readdata,header=nrrd.read(temp)\n",
    "somadata=readdata"
   ]
  },
  {
   "cell_type": "code",
   "execution_count": null,
   "metadata": {},
   "outputs": [],
   "source": [
    "maps = \"cool\"\n",
    "a_values = 0.58\n",
    "neuron_no = len(plotname)\n",
    "cmap = plt.get_cmap(maps, neuron_no)\n",
    "colors = cmap(np.linspace(0, 1, neuron_no))\n",
    "big_list = [plotname[0], plotname[neuron_no//2], plotname[-1]]"
   ]
  },
  {
   "cell_type": "code",
   "execution_count": null,
   "metadata": {},
   "outputs": [],
   "source": []
  },
  {
   "cell_type": "code",
   "execution_count": null,
   "metadata": {},
   "outputs": [],
   "source": [
    "size_dict = {}\n",
    "colors_dict = dict(zip(dfsomaplot.index.tolist(),colors))\n",
    "for neuron_name in colors_dict:\n",
    "    if neuron_name not in big_list:\n",
    "        # colors_dict[neuron_name][3] = 0.6\n",
    "        size_dict[neuron_name] = 20\n",
    "    else:\n",
    "        size_dict[neuron_name] = 120"
   ]
  },
  {
   "cell_type": "code",
   "execution_count": null,
   "metadata": {},
   "outputs": [],
   "source": [
    "#没有hue，只是将点plot上去\n",
    "space = 400\n",
    "plot_max = int(dfsomaplot.AP.max()/10)\n",
    "plot_min = int(dfsomaplot.AP.min()/10)\n",
    "print(plot_max)\n",
    "print(plot_min)\n",
    "\n",
    "dfplot = dfsomaplot\n",
    "for start in range(plot_min,plot_max,int(space/10)):\n",
    "    image = somadata[int(start+space/30),:,:].astype(\"uint8\")\n",
    "\n",
    "    edges = cv2.Canny(image,10,25)\n",
    "    edges2 = 255-edges\n",
    "\n",
    "    kernel = cv2.getStructuringElement(cv2.MORPH_RECT, (2, 2))\n",
    "    edges3 = cv2.erode(edges2, kernel)\n",
    "\n",
    "    dfnew = dfplot.loc[(dfplot.AP>start*10)&(dfplot.AP<start*10+space)]\n",
    "    fig = plt.figure(figsize=(16,8),dpi=600)\n",
    "    ax = fig.add_subplot(1,1,1)\n",
    "    ax.imshow(edges3,cmap = 'gray')\n",
    "        # ax.scatter(dfsubplot.ML/10,dfsubplot.DV/10,s=5,c=dic_list[sep_i],marker = \"o\",alpha = 1)\n",
    "        # # print(i)\n",
    "        # # print(geno)\n",
    "\n",
    "    desired_color = [colors_dict[key] for key in dfnew.index.tolist()]\n",
    "    desired_size = [size_dict[key] for key in dfnew.index.tolist()]\n",
    "    ax.scatter(dfnew.ML/10,dfnew.DV/10,s=desired_size,c=desired_color,marker = \".\")      \n",
    "    ax.axis(\"off\")\n",
    "    plt.savefig(\".\\\\Subtype4_%d.jpg\"%(int(start/10)),dpi=600)\n",
    "    plt.close() "
   ]
  },
  {
   "cell_type": "code",
   "execution_count": null,
   "metadata": {},
   "outputs": [],
   "source": [
    "aa = os.listdir(\".\\\\df_ATN_VTN\")"
   ]
  },
  {
   "cell_type": "code",
   "execution_count": null,
   "metadata": {},
   "outputs": [],
   "source": [
    "for plotna in plotname:\n",
    "    if plotna+\"_ATN_VTN.csv\" not in aa:\n",
    "        print(plotna)"
   ]
  },
  {
   "cell_type": "code",
   "execution_count": null,
   "metadata": {},
   "outputs": [],
   "source": []
  }
 ],
 "metadata": {
  "kernelspec": {
   "display_name": "Python 3.7.9 64-bit",
   "language": "python",
   "name": "python3"
  },
  "language_info": {
   "codemirror_mode": {
    "name": "ipython",
    "version": 3
   },
   "file_extension": ".py",
   "mimetype": "text/x-python",
   "name": "python",
   "nbconvert_exporter": "python",
   "pygments_lexer": "ipython3",
   "version": "3.7.9"
  },
  "orig_nbformat": 4,
  "vscode": {
   "interpreter": {
    "hash": "681c1bce0af37acb6fe2fe46c8fcef319e7d4e48d6c4d2470fa77ec40f3f89e9"
   }
  }
 },
 "nbformat": 4,
 "nbformat_minor": 2
}
