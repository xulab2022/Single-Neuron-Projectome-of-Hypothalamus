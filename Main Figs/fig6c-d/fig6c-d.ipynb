{
 "cells": [
  {
   "cell_type": "code",
   "execution_count": 1,
   "metadata": {},
   "outputs": [],
   "source": [
    "import pandas as pd\n",
    "import os,glob\n",
    "import seaborn as sns\n",
    "import matplotlib.pyplot as plt\n"
   ]
  },
  {
   "cell_type": "code",
   "execution_count": 2,
   "metadata": {},
   "outputs": [],
   "source": [
    "import matplotlib as mpl\n",
    "mpl.rcParams['pdf.fonttype'] = 42\n",
    "mpl.rcParams['ps.fonttype'] = 42\n",
    "plt.rc(\"font\",family=\"Arial\")"
   ]
  },
  {
   "cell_type": "code",
   "execution_count": 3,
   "metadata": {},
   "outputs": [],
   "source": [
    "area = [\"PAG\",\"MRN\",\"SCm\",\"VTA\",\"PPN\",\"MY\",\"PVH\",\"PH\",\"PVHd\",\"AVPV\",\"ME\"]"
   ]
  },
  {
   "cell_type": "code",
   "execution_count": 10,
   "metadata": {},
   "outputs": [],
   "source": [
    "dfpercet = pd.read_excel(\"Agrp_Pomc_projection_percent.xlsx\",index_col=0)\n",
    "dfpercet2 = dfpercet.stack().reset_index()\n",
    "dfpercet2.columns = [\"area\",\"type\",\"percent\"]\n",
    "dfpercet_new = dfpercet2.loc[dfpercet2.area.isin(area),:]"
   ]
  },
  {
   "cell_type": "code",
   "execution_count": 12,
   "metadata": {},
   "outputs": [],
   "source": [
    "fig, ax = plt.subplots(figsize=(10,3))\n",
    "sns.barplot(\n",
    "    data=dfpercet_new, y=\"percent\",x=\"area\",hue=\"type\",hue_order=[\"Agrp\",\"Pomc\"],\n",
    "    order= area,\n",
    "    edgecolor=\"white\",\n",
    "    palette=[\"#0555FF\", \"#F9CE00\"],\n",
    "    width = 0.7,\n",
    "    linewidth=1, \n",
    "    errwidth = 1,\n",
    ")\n",
    "plt.savefig(\"compare_of_Agrp_Pomc_fig6c.pdf\",dpi=300)\n",
    "plt.savefig(\"compare_of_Agrp_Pomc_fig6c.jpg\",dpi=300) \n",
    "plt.close()   "
   ]
  },
  {
   "cell_type": "code",
   "execution_count": 13,
   "metadata": {},
   "outputs": [],
   "source": [
    "dflength = pd.read_excel(\"Agrp_Pomc_projection_length.xlsx\",index_col=0)\n",
    "dflength_new = dflength.loc[dflength.area.isin(area)]\n",
    "dflength_new = dflength_new.loc[dflength_new.length>0]"
   ]
  },
  {
   "cell_type": "code",
   "execution_count": 14,
   "metadata": {},
   "outputs": [],
   "source": [
    "fig, ax = plt.subplots(figsize=(10,3))\n",
    "sns.violinplot(\n",
    "    data=dflength_new,y=\"length\",x=\"area\",hue=\"geno\",hue_order=[\"Agrp\",\"Pomc\"],\n",
    "    edgecolor= \"black\",\n",
    "    order= area,\n",
    "    palette=[\"#0555FF\", \"#F9CE00\"],\n",
    "    linewidth=0.5,\n",
    "    scale=\"count\",\n",
    "    )\n",
    "\n",
    "sns.stripplot(\n",
    "    data=dflength_new,y=\"length\",x=\"area\",hue=\"geno\",hue_order=[\"Agrp\",\"Pomc\"], dodge=True,\n",
    "    edgecolor= \"black\",\n",
    "    order= area,\n",
    "    size=2,\n",
    "    palette=[\"#0555FF\", \"#F9CE00\"],\n",
    "    linewidth=0.5\n",
    ")\n",
    "\n",
    "plt.savefig(\"compare_of_Agrp_Pomc_fig6d.pdf\",dpi=300)\n",
    "plt.savefig(\"compare_of_Agrp_Pomc_fig6d.jpg\",dpi=300)   \n",
    "plt.close()   \n"
   ]
  }
 ],
 "metadata": {
  "kernelspec": {
   "display_name": "Python 3.7.9 64-bit",
   "language": "python",
   "name": "python3"
  },
  "language_info": {
   "codemirror_mode": {
    "name": "ipython",
    "version": 3
   },
   "file_extension": ".py",
   "mimetype": "text/x-python",
   "name": "python",
   "nbconvert_exporter": "python",
   "pygments_lexer": "ipython3",
   "version": "3.7.9"
  },
  "orig_nbformat": 4,
  "vscode": {
   "interpreter": {
    "hash": "681c1bce0af37acb6fe2fe46c8fcef319e7d4e48d6c4d2470fa77ec40f3f89e9"
   }
  }
 },
 "nbformat": 4,
 "nbformat_minor": 2
}
