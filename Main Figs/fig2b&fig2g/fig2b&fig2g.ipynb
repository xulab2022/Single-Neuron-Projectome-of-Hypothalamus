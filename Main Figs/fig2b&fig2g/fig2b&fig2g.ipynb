{
 "cells": [
  {
   "cell_type": "code",
   "execution_count": 1,
   "metadata": {},
   "outputs": [],
   "source": [
    "import os,glob\n",
    "import pandas as pd\n",
    "import matplotlib.pyplot as plt\n",
    "import numpy as np\n",
    "import seaborn as sns\n",
    "import scipy.stats as stats\n",
    "import matplotlib as mpl\n",
    "mpl.rcParams['pdf.fonttype'] = 42\n",
    "mpl.rcParams['ps.fonttype'] = 42\n",
    "plt.rc(\"font\",family=\"Arial\")"
   ]
  },
  {
   "cell_type": "code",
   "execution_count": 33,
   "metadata": {},
   "outputs": [],
   "source": [
    "df = pd.read_excel(\"all_soma_infor_1128_class.xlsx\",index_col =0)"
   ]
  },
  {
   "cell_type": "code",
   "execution_count": 34,
   "metadata": {},
   "outputs": [],
   "source": [
    "dftmp = df.groupby(\"Class\").describe()[\"cluster\"][[\"count\"]]\n",
    "dftmp.columns = [\"All\"]"
   ]
  },
  {
   "cell_type": "code",
   "execution_count": 35,
   "metadata": {},
   "outputs": [],
   "source": [
    "dfVMH = df.loc[df.location == \"VMH\"]"
   ]
  },
  {
   "cell_type": "code",
   "execution_count": 36,
   "metadata": {},
   "outputs": [
    {
     "name": "stdout",
     "output_type": "stream",
     "text": [
      "Pdyn\n",
      "Adcyap1\n",
      "Tac2\n",
      "Sst\n",
      "Tac1\n",
      "Penk\n"
     ]
    }
   ],
   "source": [
    "genes = ['Pdyn','Adcyap1', 'Tac2', 'Sst', 'Tac1', 'Penk']\n",
    "for geno in genes:\n",
    "    print(geno)\n",
    "    dfgeno = dfVMH.loc[dfVMH.geno == geno]\n",
    "    dfgenotmp = dfgeno.groupby(\"Class\").describe()[\"cluster\"][[\"count\"]]\n",
    "    dfgenotmp.columns = [geno]\n",
    "    dftmp = pd.concat([dftmp,dfgenotmp],axis=1)"
   ]
  },
  {
   "cell_type": "code",
   "execution_count": 37,
   "metadata": {},
   "outputs": [],
   "source": [
    "dftmp.loc[\"sum\",:] = dftmp.apply(lambda x:x.sum(),axis=0)"
   ]
  },
  {
   "cell_type": "code",
   "execution_count": 38,
   "metadata": {},
   "outputs": [],
   "source": [
    "dftmp2 = dftmp/dftmp.loc[\"sum\",:]*100"
   ]
  },
  {
   "cell_type": "code",
   "execution_count": 15,
   "metadata": {},
   "outputs": [
    {
     "data": {
      "text/html": [
       "<div>\n",
       "<style scoped>\n",
       "    .dataframe tbody tr th:only-of-type {\n",
       "        vertical-align: middle;\n",
       "    }\n",
       "\n",
       "    .dataframe tbody tr th {\n",
       "        vertical-align: top;\n",
       "    }\n",
       "\n",
       "    .dataframe thead th {\n",
       "        text-align: right;\n",
       "    }\n",
       "</style>\n",
       "<table border=\"1\" class=\"dataframe\">\n",
       "  <thead>\n",
       "    <tr style=\"text-align: right;\">\n",
       "      <th></th>\n",
       "      <th>All</th>\n",
       "      <th>Pdyn</th>\n",
       "      <th>Adcyap1</th>\n",
       "      <th>Tac2</th>\n",
       "      <th>Sst</th>\n",
       "      <th>Tac1</th>\n",
       "      <th>Penk</th>\n",
       "    </tr>\n",
       "    <tr>\n",
       "      <th>Class</th>\n",
       "      <th></th>\n",
       "      <th></th>\n",
       "      <th></th>\n",
       "      <th></th>\n",
       "      <th></th>\n",
       "      <th></th>\n",
       "      <th></th>\n",
       "    </tr>\n",
       "  </thead>\n",
       "  <tbody>\n",
       "    <tr>\n",
       "      <th>Class1</th>\n",
       "      <td>40.473538</td>\n",
       "      <td>20.33195</td>\n",
       "      <td>21.73913</td>\n",
       "      <td>13.72549</td>\n",
       "      <td>48.93617</td>\n",
       "      <td>11.764706</td>\n",
       "      <td>29.487179</td>\n",
       "    </tr>\n",
       "    <tr>\n",
       "      <th>Class2</th>\n",
       "      <td>59.526462</td>\n",
       "      <td>79.66805</td>\n",
       "      <td>78.26087</td>\n",
       "      <td>86.27451</td>\n",
       "      <td>51.06383</td>\n",
       "      <td>88.235294</td>\n",
       "      <td>70.512821</td>\n",
       "    </tr>\n",
       "    <tr>\n",
       "      <th>sum</th>\n",
       "      <td>100.000000</td>\n",
       "      <td>100.00000</td>\n",
       "      <td>100.00000</td>\n",
       "      <td>100.00000</td>\n",
       "      <td>100.00000</td>\n",
       "      <td>100.000000</td>\n",
       "      <td>100.000000</td>\n",
       "    </tr>\n",
       "  </tbody>\n",
       "</table>\n",
       "</div>"
      ],
      "text/plain": [
       "               All       Pdyn    Adcyap1       Tac2        Sst        Tac1  \\\n",
       "Class                                                                        \n",
       "Class1   40.473538   20.33195   21.73913   13.72549   48.93617   11.764706   \n",
       "Class2   59.526462   79.66805   78.26087   86.27451   51.06383   88.235294   \n",
       "sum     100.000000  100.00000  100.00000  100.00000  100.00000  100.000000   \n",
       "\n",
       "              Penk  \n",
       "Class               \n",
       "Class1   29.487179  \n",
       "Class2   70.512821  \n",
       "sum     100.000000  "
      ]
     },
     "execution_count": 15,
     "metadata": {},
     "output_type": "execute_result"
    }
   ],
   "source": [
    "dftmp2"
   ]
  },
  {
   "cell_type": "code",
   "execution_count": 39,
   "metadata": {},
   "outputs": [],
   "source": [
    "for geno in genes:\n",
    "    a = dftmp.loc[\"Class1\",\"All\"]\n",
    "    b = dftmp.loc[\"Class2\",\"All\"]\n",
    "    c = dftmp.loc[\"Class1\",geno]\n",
    "    d = dftmp.loc[\"Class2\",geno]\n",
    "    obs2 = [[a,b], [c,d]]\n",
    "    ratio, pvalue =stats.fisher_exact(obs2)\n",
    "    dftmp2.loc[\"p_fisher_exact\",geno] = pvalue"
   ]
  },
  {
   "cell_type": "code",
   "execution_count": 17,
   "metadata": {},
   "outputs": [
    {
     "data": {
      "text/html": [
       "<div>\n",
       "<style scoped>\n",
       "    .dataframe tbody tr th:only-of-type {\n",
       "        vertical-align: middle;\n",
       "    }\n",
       "\n",
       "    .dataframe tbody tr th {\n",
       "        vertical-align: top;\n",
       "    }\n",
       "\n",
       "    .dataframe thead th {\n",
       "        text-align: right;\n",
       "    }\n",
       "</style>\n",
       "<table border=\"1\" class=\"dataframe\">\n",
       "  <thead>\n",
       "    <tr style=\"text-align: right;\">\n",
       "      <th></th>\n",
       "      <th>All</th>\n",
       "      <th>Pdyn</th>\n",
       "      <th>Adcyap1</th>\n",
       "      <th>Tac2</th>\n",
       "      <th>Sst</th>\n",
       "      <th>Tac1</th>\n",
       "      <th>Penk</th>\n",
       "    </tr>\n",
       "    <tr>\n",
       "      <th>Class</th>\n",
       "      <th></th>\n",
       "      <th></th>\n",
       "      <th></th>\n",
       "      <th></th>\n",
       "      <th></th>\n",
       "      <th></th>\n",
       "      <th></th>\n",
       "    </tr>\n",
       "  </thead>\n",
       "  <tbody>\n",
       "    <tr>\n",
       "      <th>p_fisher_exact</th>\n",
       "      <td>NaN</td>\n",
       "      <td>7.506847e-11</td>\n",
       "      <td>0.001266</td>\n",
       "      <td>0.000045</td>\n",
       "      <td>0.237798</td>\n",
       "      <td>9.739021e-09</td>\n",
       "      <td>0.049322</td>\n",
       "    </tr>\n",
       "  </tbody>\n",
       "</table>\n",
       "</div>"
      ],
      "text/plain": [
       "                All          Pdyn   Adcyap1      Tac2       Sst          Tac1  \\\n",
       "Class                                                                           \n",
       "p_fisher_exact  NaN  7.506847e-11  0.001266  0.000045  0.237798  9.739021e-09   \n",
       "\n",
       "                    Penk  \n",
       "Class                     \n",
       "p_fisher_exact  0.049322  "
      ]
     },
     "execution_count": 17,
     "metadata": {},
     "output_type": "execute_result"
    }
   ],
   "source": [
    "dftmp2.loc[[\"p_fisher_exact\"],:]"
   ]
  },
  {
   "cell_type": "code",
   "execution_count": 40,
   "metadata": {},
   "outputs": [],
   "source": [
    "color_dict = {\n",
    "    'Pdyn' : '#93278f',\n",
    "    'Adcyap1' : '#ff0000',\n",
    "    'Tac2' : '#00ffff',\n",
    "    'Sst' : '#0000ff',\n",
    "    'Tac1' : '#b4b4b4',\n",
    "    'Penk' : '#107010'}    "
   ]
  },
  {
   "cell_type": "code",
   "execution_count": 41,
   "metadata": {},
   "outputs": [],
   "source": [
    "genes_dict = {}\n",
    "genes_dict[\"All\"] = \"black\"\n",
    "for geno in genes:\n",
    "    genes_dict[geno] = color_dict[geno]"
   ]
  },
  {
   "cell_type": "code",
   "execution_count": 20,
   "metadata": {},
   "outputs": [
    {
     "data": {
      "text/plain": [
       "{'All': 'black',\n",
       " 'Pdyn': '#93278f',\n",
       " 'Adcyap1': '#ff0000',\n",
       " 'Tac2': '#00ffff',\n",
       " 'Sst': '#0000ff',\n",
       " 'Tac1': '#b4b4b4',\n",
       " 'Penk': '#107010'}"
      ]
     },
     "execution_count": 20,
     "metadata": {},
     "output_type": "execute_result"
    }
   ],
   "source": [
    "genes_dict"
   ]
  },
  {
   "cell_type": "code",
   "execution_count": 42,
   "metadata": {},
   "outputs": [
    {
     "data": {
      "image/png": "[encoded data removed]",
      "text/plain": [
       "<Figure size 576x288 with 1 Axes>"
      ]
     },
     "metadata": {
      "needs_background": "light"
     },
     "output_type": "display_data"
    }
   ],
   "source": [
    "fig, ax = plt.subplots(figsize=(8,4))\n",
    "dfplot = dftmp2.loc[[\"Class2\"],:]\n",
    "dflabel = dftmp2.loc[[\"p_fisher_exact\"],:]\n",
    "\n",
    "sns.barplot(data= dftmp2.loc[[\"Class2\"],:],palette = genes_dict,width = 0.4)\n",
    "\n",
    "plt.ylim([0,100])\n",
    "plt.ylabel('% ClassII neurons',fontdict=({'fontsize': 14}))\n",
    "plt.yticks(fontsize=14)\n",
    "plt.xticks(fontsize=14)\n",
    "for i in range(len(dfplot.T)):\n",
    "    plt.text(i, dfplot.iloc[0,i] + 3, \"{:.2e}\".format(dflabel.iloc[0,i]), ha='center',fontdict=({'fontsize': 14}))\n",
    "plt.savefig(\"fig2b.pdf\",dpi =600,format=\"pdf\")"
   ]
  },
  {
   "cell_type": "code",
   "execution_count": null,
   "metadata": {},
   "outputs": [],
   "source": [
    "color_dict = {\n",
    "    'Pdyn' : '#93278f',\n",
    "    'Adcyap1' : '#ff0000',\n",
    "    'Tac2' : '#00ffff',\n",
    "    'Sst' : '#0000ff',\n",
    "    'Tac1' : '#b4b4b4',\n",
    "    'Penk' : '#107010'}   "
   ]
  },
  {
   "cell_type": "code",
   "execution_count": 23,
   "metadata": {},
   "outputs": [],
   "source": [
    "dfFish = pd.read_excel(\"Fish_ratio_2f.xlsx\",index_col=0)"
   ]
  },
  {
   "cell_type": "code",
   "execution_count": 24,
   "metadata": {},
   "outputs": [],
   "source": [
    "dftmp2 = dfFish.T"
   ]
  },
  {
   "cell_type": "code",
   "execution_count": 26,
   "metadata": {},
   "outputs": [],
   "source": [
    "genes_dict = {}\n",
    "genes_dict[\"All\"] = \"black\"\n",
    "for geno in ['Pdyn', 'Adcyap1', 'Tac2', 'Sst']:\n",
    "    genes_dict[geno] = color_dict[geno]\n",
    "genes_dict[\"Adcyap1&Pdyn\"] = \"#ea5514\""
   ]
  },
  {
   "cell_type": "code",
   "execution_count": 141,
   "metadata": {},
   "outputs": [],
   "source": [
    "dftmp2 = dftmp2[[\"All\",'Pdyn', 'Adcyap1', 'Tac2', 'Sst',\"Adcyap1&Pdyn\"]]"
   ]
  },
  {
   "cell_type": "code",
   "execution_count": 30,
   "metadata": {},
   "outputs": [
    {
     "data": {
      "image/png": "[encoded data removed]",
      "text/plain": [
       "<Figure size 432x288 with 1 Axes>"
      ]
     },
     "metadata": {
      "needs_background": "light"
     },
     "output_type": "display_data"
    }
   ],
   "source": [
    "fig, ax = plt.subplots(figsize=(6,4))\n",
    "dfplot = dftmp2.loc[[\"ratio\"],:]\n",
    "dflabel = dftmp2.loc[[\"p\"],:]\n",
    "\n",
    "# sns.barplot(data= dftmp2.loc[[\"Class2\"],:],color = \"gray\",width = 0.6)\n",
    "sns.barplot(data= dfplot,palette = genes_dict,width = 0.4)\n",
    "# sns.swarmplot(data=dfplot,edgecolor=\"black\",linewidth= 0.5,size = 2)\n",
    "plt.ylim([0,100])\n",
    "plt.ylabel('% midbrain-projecting',fontdict=({'fontsize': 14}))\n",
    "plt.yticks(fontsize=14)\n",
    "plt.xticks(fontsize=14)\n",
    "for i in range(len(dfplot.T)):\n",
    "    plt.text(i, dfplot.iloc[0,i] + 3, \"{:.2e}\".format(dflabel.iloc[0,i]), ha='center',fontdict=({'fontsize': 14}))\n",
    "plt.savefig(\"fig2f.pdf\",dpi =600,format=\"pdf\")"
   ]
  },
  {
   "cell_type": "code",
   "execution_count": null,
   "metadata": {},
   "outputs": [],
   "source": []
  }
 ],
 "metadata": {
  "kernelspec": {
   "display_name": "Python 3.7.9 64-bit",
   "language": "python",
   "name": "python3"
  },
  "language_info": {
   "codemirror_mode": {
    "name": "ipython",
    "version": 3
   },
   "file_extension": ".py",
   "mimetype": "text/x-python",
   "name": "python",
   "nbconvert_exporter": "python",
   "pygments_lexer": "ipython3",
   "version": "3.7.9"
  },
  "orig_nbformat": 4,
  "vscode": {
   "interpreter": {
    "hash": "681c1bce0af37acb6fe2fe46c8fcef319e7d4e48d6c4d2470fa77ec40f3f89e9"
   }
  }
 },
 "nbformat": 4,
 "nbformat_minor": 2
}
