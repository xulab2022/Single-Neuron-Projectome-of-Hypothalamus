{
 "cells": [
  {
   "cell_type": "code",
   "execution_count": 1,
   "metadata": {},
   "outputs": [],
   "source": [
    "from matplotlib.patches import ConnectionPatch\n",
    "import pandas as pd\n",
    "import os,glob\n",
    "import numpy as np\n",
    "import matplotlib.pyplot as plt"
   ]
  },
  {
   "cell_type": "code",
   "execution_count": 2,
   "metadata": {},
   "outputs": [],
   "source": [
    "# import seaborn as sns\n",
    "import matplotlib.pyplot as plt\n",
    "import matplotlib as mpl\n",
    "mpl.rcParams['pdf.fonttype'] = 42\n",
    "mpl.rcParams['ps.fonttype'] = 42\n",
    "plt.rc(\"font\",family=\"Arial\")"
   ]
  },
  {
   "cell_type": "code",
   "execution_count": 3,
   "metadata": {},
   "outputs": [],
   "source": [
    "dfall = pd.read_excel(\"all_infor_for_stack_plot.xlsx\",index_col=0)"
   ]
  },
  {
   "cell_type": "code",
   "execution_count": 19,
   "metadata": {},
   "outputs": [],
   "source": [
    "color_dict ={'LHA':'red',\n",
    "  'VMH':'green',\n",
    "  'AHN':'blue',\n",
    "  'PH':'cyan',\n",
    "  'PVH':'magenta',\n",
    "  'TU':'brown',\n",
    "  'MPO':'maroon',\n",
    "  'ARH':'navy',\n",
    "  'MPN':'gold',\n",
    "  'PVHd':'skyblue',\n",
    "  'ZI':'orange',\n",
    "  'LPO':'turquoise',\n",
    "'PSTN':'wheat',  \n",
    "'SBPV':'yellow',\n",
    "'HY':'gray',\n",
    "'PeF':'lightsalmon',\n",
    "'Others':'powderblue'}   "
   ]
  },
  {
   "cell_type": "code",
   "execution_count": 21,
   "metadata": {},
   "outputs": [],
   "source": [
    "# the pie plot functions\n",
    "def plot_the_infor_pic(dfplot_location,subtypeinfor=\"\",ID_location = \"locations\",ID_geno= \"geno\"):\n",
    "    # make figure and assign axis objects\n",
    "    fig, ax1 = plt.subplots(1, 1, figsize=(9, 5))\n",
    "    fig.subplots_adjust(wspace=0.1)\n",
    "    # pie chart parameters\n",
    "    size = 0.17\n",
    "    overall_ratios = dfplot_location[ID_location].tolist()\n",
    "    all_neurons = dfplot_location.cumulative.values[-1]\n",
    "    labels = dfplot_location.index.tolist()\n",
    "    explode = [0.015]+[0]*(len(labels)-1)\n",
    "    # rotate so that first wedge is split by the x-axis\n",
    "    angle = 0-180 * overall_ratios[0]/all_neurons\n",
    "    wedges, *_ = ax1.pie(overall_ratios,autopct = lambda x: '{:.0f}'.format(x*all_neurons/100),\n",
    "                        startangle=angle,\n",
    "                        labels=labels,explode=explode,\n",
    "                        wedgeprops=dict(width=size, edgecolor='w'),\n",
    "                        radius=.3,\n",
    "                        colors = dfplot_location.color.tolist()\n",
    "                        )\n",
    "    ax1.set_title('Subtype #%s'%subtypeinfor,fontsize = 20)\n",
    "    plt.savefig(\"pie_Subtype_%s.jpg\"%subtypeinfor,dpi=300)\n",
    "    plt.savefig(\"pie_Subtype_%s.pdf\"%subtypeinfor)\n",
    "    plt.close()"
   ]
  },
  {
   "cell_type": "code",
   "execution_count": 23,
   "metadata": {},
   "outputs": [
    {
     "name": "stderr",
     "output_type": "stream",
     "text": [
      "meta NOT subset; don't know how to subset; dropped\n",
      "meta NOT subset; don't know how to subset; dropped\n",
      "meta NOT subset; don't know how to subset; dropped\n",
      "meta NOT subset; don't know how to subset; dropped\n",
      "meta NOT subset; don't know how to subset; dropped\n",
      "meta NOT subset; don't know how to subset; dropped\n",
      "meta NOT subset; don't know how to subset; dropped\n",
      "meta NOT subset; don't know how to subset; dropped\n",
      "meta NOT subset; don't know how to subset; dropped\n",
      "meta NOT subset; don't know how to subset; dropped\n",
      "meta NOT subset; don't know how to subset; dropped\n",
      "meta NOT subset; don't know how to subset; dropped\n",
      "meta NOT subset; don't know how to subset; dropped\n",
      "meta NOT subset; don't know how to subset; dropped\n",
      "meta NOT subset; don't know how to subset; dropped\n",
      "meta NOT subset; don't know how to subset; dropped\n",
      "meta NOT subset; don't know how to subset; dropped\n",
      "meta NOT subset; don't know how to subset; dropped\n",
      "meta NOT subset; don't know how to subset; dropped\n",
      "meta NOT subset; don't know how to subset; dropped\n",
      "meta NOT subset; don't know how to subset; dropped\n",
      "meta NOT subset; don't know how to subset; dropped\n",
      "meta NOT subset; don't know how to subset; dropped\n",
      "meta NOT subset; don't know how to subset; dropped\n",
      "meta NOT subset; don't know how to subset; dropped\n",
      "meta NOT subset; don't know how to subset; dropped\n",
      "meta NOT subset; don't know how to subset; dropped\n",
      "meta NOT subset; don't know how to subset; dropped\n",
      "meta NOT subset; don't know how to subset; dropped\n",
      "meta NOT subset; don't know how to subset; dropped\n",
      "meta NOT subset; don't know how to subset; dropped\n"
     ]
    }
   ],
   "source": [
    "# get top4 soma loacted areas and plot \n",
    "for i,dfs in dfall.groupby(\"cluster\"):\n",
    "\n",
    "    df_locations = pd.DataFrame(dfs.locations.value_counts())\n",
    "    df_locations['cumulative'] = df_locations['locations'].cumsum()\n",
    "    df_locations['cumulative_percent'] = df_locations['cumulative']/df_locations.cumulative[-1]*100\n",
    "\n",
    "    if i == 22:\n",
    "        tmp_num = 1\n",
    "    else:\n",
    "        tmp_num = 4\n",
    "    loc_list = df_locations.iloc[0:tmp_num,:].index.tolist()\n",
    "    if (len(df_locations)==tmp_num):\n",
    "        dfplot_location = df_locations\n",
    "    elif (len(df_locations)==tmp_num+1):\n",
    "        dfplot_location = df_locations\n",
    "    else:    \n",
    "        dfm = df_locations.loc[loc_list,\"locations\"]\n",
    "        first_sum = df_locations.loc[loc_list,\"locations\"].sum()\n",
    "        dfm.at[\"Others\"] = df_locations.cumulative[-1]-first_sum\n",
    "        # 新建dataframe\n",
    "        dfplot_location = pd.DataFrame(dfm)\n",
    "\n",
    "        index_list = dfplot_location.index.tolist()\n",
    "\n",
    "        dfplot_location = dfplot_location.loc[index_list,:]\n",
    "        dfplot_location['cumulative'] = dfplot_location['locations'].cumsum()\n",
    "        dfplot_location['cumulative_percent'] = dfplot_location['cumulative']/df_locations.cumulative[-1]*100\n",
    "    dfplot_location['color'] = dfplot_location.index.map(lambda x: color_dict.get(x, 'violet'))\n",
    "    \n",
    "\n",
    "    plot_the_infor_pic(dfplot_location,subtypeinfor=str(i),ID_location = \"locations\",ID_geno= \"geno\")"
   ]
  }
 ],
 "metadata": {
  "kernelspec": {
   "display_name": "Python 3.7.9 64-bit",
   "language": "python",
   "name": "python3"
  },
  "language_info": {
   "codemirror_mode": {
    "name": "ipython",
    "version": 3
   },
   "file_extension": ".py",
   "mimetype": "text/x-python",
   "name": "python",
   "nbconvert_exporter": "python",
   "pygments_lexer": "ipython3",
   "version": "3.7.13"
  },
  "orig_nbformat": 4,
  "vscode": {
   "interpreter": {
    "hash": "681c1bce0af37acb6fe2fe46c8fcef319e7d4e48d6c4d2470fa77ec40f3f89e9"
   }
  }
 },
 "nbformat": 4,
 "nbformat_minor": 2
}
