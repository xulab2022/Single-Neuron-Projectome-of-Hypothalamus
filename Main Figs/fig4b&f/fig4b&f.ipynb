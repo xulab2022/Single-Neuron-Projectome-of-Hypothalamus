{
 "cells": [
  {
   "cell_type": "code",
   "execution_count": 1,
   "metadata": {},
   "outputs": [],
   "source": [
    "import plotly.graph_objects as go\n",
    "import pandas as pd\n",
    "import sys,os,json\n",
    "import visualization as vs"
   ]
  },
  {
   "cell_type": "code",
   "execution_count": 2,
   "metadata": {},
   "outputs": [],
   "source": [
    "dfsoma_subtype2 = pd.read_csv(\"Subtype2_soma_infor.csv\",index_col=0)"
   ]
  },
  {
   "cell_type": "code",
   "execution_count": 4,
   "metadata": {},
   "outputs": [
    {
     "name": "stderr",
     "output_type": "stream",
     "text": [
      "specified material (mtl1)  not loaded!\n",
      "specified material (mtl1)  not loaded!\n"
     ]
    }
   ],
   "source": [
    "vols = []\n",
    "vols.append(vs.generate_go_ba(\"STN\",o=0.3,c=\"lightgray\",half=True))\n",
    "vols.append(vs.generate_go_ba(\"PSTN\",o=0.3,c=\"lightgray\",half=True))\n",
    "\n",
    "vols.append(vs.generate_go_scatters(dfsoma_subtype2[[\"AP\",\"DV\",\"ML\"]].values,size=2,color = \"#0000FF\"))\n",
    "# vols.append(vs.generate_go_scatters(dfsomaplot[[\"AP\",\"DV\",\"ML\"]].values,size=2,color = dfsomaplot[\"color\"].tolist()))\n",
    "fig = go.Figure(vols)\n",
    "for eyes in [\"top\"]:\n",
    "    layout = vs.generate_go_layout(title=\"\",eye_from=eyes,big=2)\n",
    "    fig.layout = layout\n",
    "    fig.write_image(r'soma_plot_subtype2_%s.jpg'%(eyes),scale =8)"
   ]
  },
  {
   "cell_type": "code",
   "execution_count": 5,
   "metadata": {},
   "outputs": [],
   "source": [
    "dfsoma_Subtype4 = pd.read_csv(\"Subtype4_soma_infor.csv\",index_col=0)"
   ]
  },
  {
   "cell_type": "code",
   "execution_count": 6,
   "metadata": {},
   "outputs": [
    {
     "name": "stderr",
     "output_type": "stream",
     "text": [
      "specified material (mtl1)  not loaded!\n",
      "specified material (mtl1)  not loaded!\n",
      "specified material (mtl1)  not loaded!\n"
     ]
    }
   ],
   "source": [
    "vols = []\n",
    "vols.append(vs.generate_go_ba(\"MS\",o=0.3,c=\"lightgray\",half=False))\n",
    "vols.append(vs.generate_go_ba(\"MPO\",o=0.3,c=\"lightgray\",half=False))\n",
    "vols.append(vs.generate_go_ba(\"NDB\",o=0.3,c=\"lightgray\",half=False))\n",
    "\n",
    "vols.append(vs.generate_go_scatters(dfsoma_Subtype4[[\"AP\",\"DV\",\"ML\"]].values,size=2,color = \"#107010\"))\n",
    "# vols.append(vs.generate_go_scatters(dfsomaplot[[\"AP\",\"DV\",\"ML\"]].values,size=2,color = dfsomaplot[\"color\"].tolist()))\n",
    "fig = go.Figure(vols)\n",
    "for eyes in [\"front\"]:\n",
    "    layout = vs.generate_go_layout(title=\"\",eye_from=eyes,big=2)\n",
    "    fig.layout = layout\n",
    "    fig.write_image(r'soma_plot_subtype4_%s.jpg'%(eyes),scale =8)"
   ]
  }
 ],
 "metadata": {
  "kernelspec": {
   "display_name": "Python 3.7.9 64-bit",
   "language": "python",
   "name": "python3"
  },
  "language_info": {
   "codemirror_mode": {
    "name": "ipython",
    "version": 3
   },
   "file_extension": ".py",
   "mimetype": "text/x-python",
   "name": "python",
   "nbconvert_exporter": "python",
   "pygments_lexer": "ipython3",
   "version": "3.7.9"
  },
  "orig_nbformat": 4,
  "vscode": {
   "interpreter": {
    "hash": "681c1bce0af37acb6fe2fe46c8fcef319e7d4e48d6c4d2470fa77ec40f3f89e9"
   }
  }
 },
 "nbformat": 4,
 "nbformat_minor": 2
}
