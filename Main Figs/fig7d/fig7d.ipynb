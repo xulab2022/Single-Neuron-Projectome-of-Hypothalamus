{
 "cells": [
  {
   "cell_type": "code",
   "execution_count": 1,
   "id": "8bed6b50",
   "metadata": {},
   "outputs": [],
   "source": [
    "import pandas as pd\n",
    "import os\n",
    "import numpy as np\n",
    "import seaborn as sns\n",
    "import matplotlib.pyplot as plt"
   ]
  },
  {
   "cell_type": "code",
   "execution_count": 2,
   "id": "771f23f1",
   "metadata": {},
   "outputs": [],
   "source": [
    "import matplotlib as mpl\n",
    "mpl.rcParams['pdf.fonttype'] = 42\n",
    "mpl.rcParams['ps.fonttype'] = 42\n",
    "plt.rc(\"font\",family=\"Arial\")"
   ]
  },
  {
   "cell_type": "code",
   "execution_count": 3,
   "id": "3a094eac",
   "metadata": {},
   "outputs": [],
   "source": [
    "# for subdomain enrich\n",
    "df_domain_geno= pd.read_excel(\"log2fc_domains_Geno.xlsx\",index_col=0)"
   ]
  },
  {
   "cell_type": "code",
   "execution_count": 4,
   "id": "03c38bc4",
   "metadata": {},
   "outputs": [],
   "source": [
    "df_domain_geno_plot = df_domain_geno.pivot_table(columns=\"geno\",index=\"area\",values=\"avg_log2FC\",aggfunc=\"mean\").fillna(0)\n",
    "df_domain_geno_pvalue = df_domain_geno.pivot_table(columns=\"geno\",index=\"area\",values=\"p_val_adj\",aggfunc=\"mean\").fillna(1)"
   ]
  },
  {
   "cell_type": "code",
   "execution_count": 5,
   "id": "111d3cd8",
   "metadata": {},
   "outputs": [],
   "source": [
    "domain_index = [\"PAGpl\",\"PAGcl\",\"PAGpm\"]\n",
    "domain_geno = ['Pdyn','Tac1','Pomc','Oxt','Tac2','Orexin','Penk','Nts','Agrp','Sst','Adcyap1']\n"
   ]
  },
  {
   "cell_type": "code",
   "execution_count": 6,
   "id": "0ac7079f",
   "metadata": {},
   "outputs": [],
   "source": [
    "df_domain_geno_plot = df_domain_geno_plot.loc[domain_index,domain_geno]\n",
    "df_domain_geno_pvalue = df_domain_geno_pvalue.loc[domain_index,domain_geno]"
   ]
  },
  {
   "cell_type": "code",
   "execution_count": 7,
   "id": "9eb9178c",
   "metadata": {},
   "outputs": [
    {
     "data": {
      "image/png": "[encoded data removed]",
      "text/plain": [
       "<Figure size 1296x360 with 2 Axes>"
      ]
     },
     "metadata": {
      "needs_background": "light"
     },
     "output_type": "display_data"
    }
   ],
   "source": [
    "fig, ax = plt.subplots(figsize = (18,5))\n",
    "sns.set(font_scale=1.9)\n",
    "sns.heatmap(data = df_domain_geno_plot,cmap=\"bwr\",vmin=-2,\n",
    "                 vmax=2,linewidths=2, linecolor='black',annot=False,fmt=\"g\",\n",
    "                  mask = df_domain_geno_pvalue>0.05\n",
    "                 )\n",
    "plt.tight_layout()\n",
    "\n",
    "plt.savefig(\"heatmap_for_subdomains.pdf\",dpi =600,format=\"pdf\")\n",
    "plt.savefig(\"heatmap_for_subdomains.jpg\",dpi =600,format=\"jpg\")"
   ]
  }
 ],
 "metadata": {
  "kernelspec": {
   "display_name": "Python 3.7.9 64-bit",
   "language": "python",
   "name": "python3"
  },
  "language_info": {
   "codemirror_mode": {
    "name": "ipython",
    "version": 3
   },
   "file_extension": ".py",
   "mimetype": "text/x-python",
   "name": "python",
   "nbconvert_exporter": "python",
   "pygments_lexer": "ipython3",
   "version": "3.7.9"
  },
  "vscode": {
   "interpreter": {
    "hash": "681c1bce0af37acb6fe2fe46c8fcef319e7d4e48d6c4d2470fa77ec40f3f89e9"
   }
  }
 },
 "nbformat": 4,
 "nbformat_minor": 5
}
