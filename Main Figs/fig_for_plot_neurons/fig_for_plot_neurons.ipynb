{
 "cells": [
  {
   "cell_type": "markdown",
   "metadata": {},
   "source": [
    "## notes for neuronvis\n",
    "1, you can download neuronvis in https://gitee.com/bigduduwxf/neuron-vis.\n",
    "2, remember to download the resource file：http://bap.cebsit.ac.cn/bap/neuronVis/resource.zip.\n",
    "\n",
    "## notes for neruons\n",
    "1, you can download the swc files for each neuron in the https://mouse.digital-brain.cn/projectome/hy.\n",
    "2, we recommend you mirrow the neurons in the same brain side."
   ]
  },
  {
   "cell_type": "code",
   "execution_count": 1,
   "metadata": {},
   "outputs": [],
   "source": [
    "import pandas as pd\n",
    "import os,sys,glob,random\n",
    "from tqdm import tqdm\n",
    "sys.path.append(r\"D:\\jiaozhuolei\\python\\code\\neuron-vis\\neuronVis\")  # the neuron-vis folder\n",
    "import Visual as nv\n"
   ]
  },
  {
   "cell_type": "code",
   "execution_count": null,
   "metadata": {},
   "outputs": [],
   "source": [
    "# load the neuron infor\n",
    "dfneuron = pd.read_csv(\"All_soma_infor_HY_neurons.csv\",index_col=0)"
   ]
  },
  {
   "cell_type": "code",
   "execution_count": null,
   "metadata": {},
   "outputs": [],
   "source": [
    "dfneuron"
   ]
  },
  {
   "cell_type": "code",
   "execution_count": 2,
   "metadata": {},
   "outputs": [],
   "source": [
    "# load the view angle infor\n",
    "left = dict(eye=(0.0,0.0,-15000),center=(0,0,0),up=(0,-1,0))\n",
    "se = dict(eye=(-10000,-10000,-15000),center=(0,0,0),up=(0,-1,0))\n",
    "top = dict(eye=(0,-15000,0),center=(0,0,0),up=(0,0,1))\n",
    "front = dict(eye=(-15000,0,0),center=(0,0,0),up=(0,-1,0))\n",
    "views = [left,se,top,front]\n",
    "labels = [\"left\",\"se\",\"top\",\"front\"]"
   ]
  },
  {
   "cell_type": "code",
   "execution_count": null,
   "metadata": {},
   "outputs": [],
   "source": [
    "# fig1c\n",
    "Datapth = r\"W:\\all_neurons_0221\\swc_mirrow\"  #swc file path\n",
    "neuronvis = nv.neuronVis(size=(1600,1000),renderModel=1)\n",
    "neuronvis.render.setBackgroundColor([1,1,1])\n",
    "for neuron in tqdm(dfneuron.index.to_list()):   \n",
    "    ## If the name of your SWC file follows this format: 192710_002,\n",
    "    ##  you can change dfneuron.index.to_list() to dfneuron.neurons.to_list().\n",
    "    file = os.path.join(Datapth,neuron+\".swc\")\n",
    "    color=[random.random(),random.random(),random.random()]\n",
    "    neuronvis.addNeuron(file,somaColor = [0.0,0.0,0.0],axonColor= color,dendriteColor=color)\n",
    "    neuronvis.render.setBackgroundColor([1,1,1])\n",
    "    neuronvis.render.setLineWidth(2)\n",
    "\n",
    "for label,view in zip(labels,views):\n",
    "    neuronvis.render.setLookAt(eye=view[\"eye\"],center=view[\"center\"],up=view[\"up\"]) \n",
    "    neuronvis.render.savepng(\"All_neurons_%s.png\"%(label))\n",
    "neuronvis.clear(neurons=True,regions=True)\n",
    "neuronvis.neurons.clear()\n",
    "neuronvis.render.closeWindow()"
   ]
  },
  {
   "cell_type": "code",
   "execution_count": null,
   "metadata": {},
   "outputs": [],
   "source": [
    "# Extended Data Fig6-7 for each cluster\n",
    "Datapth = r\"W:\\all_neurons_0221\\swc_mirrow\"\n",
    "neuronvis = nv.neuronVis(size=(1600,1000),renderModel=1)\n",
    "for i in tqdm(dfneuron.cluster.unique()):\n",
    "    dfnew = dfneuron.loc[dfneuron.cluster == i]\n",
    "    for neuron in dfnew.index.to_list():\n",
    "        # file = os.path.join(Datapth,neuron)\n",
    "        file = os.path.join(Datapth,neuron+\".swc\")\n",
    "        color=[random.random(),random.random(),random.random()]\n",
    "        neuronvis.addNeuron(file,somaColor = [0.0,0.0,0.0],axonColor= color,dendriteColor=color)\n",
    "        neuronvis.render.setBackgroundColor([1,1,1])\n",
    "        neuronvis.render.setLineWidth(3)\n",
    "    for label,view in zip(labels,views):\n",
    "        neuronvis.render.setLookAt(eye=view[\"eye\"],center=view[\"center\"],up=view[\"up\"]) \n",
    "        neuronvis.render.savepng(\"subtype_%d_%s.png\"%((i),label))\n",
    "    neuronvis.clear(neurons=True,regions=True)\n",
    "    neuronvis.neurons.clear()\n",
    "neuronvis.render.closeWindow()"
   ]
  },
  {
   "cell_type": "code",
   "execution_count": null,
   "metadata": {},
   "outputs": [],
   "source": [
    "#Extended Data Fig6-7 for each neuron\n",
    "savedir = r\"W:\\all_neurons_0221\\fig_plot\"\n",
    "Datapth = r\"W:\\all_neurons_0221\\swc_mirrow\"\n",
    "neuronvis = nv.neuronVis(size=(1600,1000),renderModel=1)\n",
    "for i in tqdm(dfneuron.cluster.unique()):\n",
    "    dfnew = dfneuron.loc[dfneuron.cluster == i]\n",
    "\n",
    "    folder = \"subtype_%d\"%(i)    \n",
    "    foldernew = os.path.join(savedir,folder)\n",
    "    \n",
    "    try:\n",
    "        os.mkdir(foldernew)\n",
    "    except:\n",
    "        print(\"dir exist\")\n",
    "        \n",
    "    for neuron in dfnew.index.to_list():\n",
    "        # file = os.path.join(Datapth,neuron)\n",
    "        file = os.path.join(Datapth,neuron+\".swc\")\n",
    "        # color=[random.random(),random.random(),random.random()]\n",
    "        neuronvis.addNeuron(file,somaColor = [1.0,0.0,0.0],axonColor=[0.0,0.0,0.0],dendriteColor=[0.0,0.0,1.0])\n",
    "        neuronvis.render.setBackgroundColor([1,1,1])\n",
    "        neuronvis.render.setLineWidth(3)\n",
    "        for label,view in zip(labels,views):\n",
    "            neuronvis.render.setLookAt(eye=view[\"eye\"],center=view[\"center\"],up=view[\"up\"]) \n",
    "            neuronvis.render.savepng(os.path.join(foldernew,neuron.split(\".\")[0]+\"_%s.png\"%label))\n",
    "        neuronvis.clear(neurons=True,regions=True)\n",
    "        neuronvis.neurons.clear()\n",
    "neuronvis.render.closeWindow()"
   ]
  },
  {
   "cell_type": "code",
   "execution_count": 4,
   "metadata": {},
   "outputs": [],
   "source": [
    "# fig 5\n",
    "dforexin = pd.read_excel(\"orexin_soma_infor_cluster.xlsx\",index_col=0)"
   ]
  },
  {
   "cell_type": "code",
   "execution_count": 5,
   "metadata": {},
   "outputs": [],
   "source": [
    "# fig 5c\n",
    "Datapth = r\"W:\\all_neurons_0221\\swc_mirrow\"\n",
    "neuronvis = nv.neuronVis(size=(1600,1000),renderModel=1)\n",
    "\n",
    "for neuron in dforexin.index.to_list():\n",
    "    # file = os.path.join(Datapth,neuron)\n",
    "    file = os.path.join(Datapth,neuron+\".swc\")\n",
    "    color=[random.random(),random.random(),random.random()]\n",
    "    neuronvis.addNeuron(file,somaColor = [0.0,0.0,0.0],axonColor= color,dendriteColor=color)\n",
    "    neuronvis.render.setBackgroundColor([1,1,1])\n",
    "    neuronvis.render.setLineWidth(3)\n",
    "for label,view in zip(labels,views):\n",
    "    neuronvis.render.setLookAt(eye=view[\"eye\"],center=view[\"center\"],up=view[\"up\"]) \n",
    "    neuronvis.render.savepng(\"orexin_%s.png\"%(label))\n",
    "neuronvis.clear(neurons=True,regions=True)\n",
    "neuronvis.neurons.clear()\n",
    "neuronvis.render.closeWindow()"
   ]
  },
  {
   "cell_type": "code",
   "execution_count": null,
   "metadata": {},
   "outputs": [],
   "source": [
    "# fig 5e bottom\n",
    "Datapth = r\"W:\\all_neurons_0221\\swc_mirrow\"\n",
    "neuronvis = nv.neuronVis(size=(1600,1000),renderModel=1)\n",
    "for i in tqdm(dforexin.cluster.unique()):\n",
    "    dfnew = dforexin.loc[dforexin.cluster == i]\n",
    "    for neuron in dfnew.index.to_list():\n",
    "        # file = os.path.join(Datapth,neuron)\n",
    "        file = os.path.join(Datapth,neuron+\".swc\")\n",
    "        color=[random.random(),random.random(),random.random()]\n",
    "        neuronvis.addNeuron(file,somaColor = [0.0,0.0,0.0],axonColor= color,dendriteColor=color)\n",
    "        neuronvis.render.setBackgroundColor([1,1,1])\n",
    "        neuronvis.render.setLineWidth(3)\n",
    "    for label,view in zip(labels,views):\n",
    "        neuronvis.render.setLookAt(eye=view[\"eye\"],center=view[\"center\"],up=view[\"up\"]) \n",
    "        neuronvis.render.savepng(\"orexin_subtype_%d_%s.png\"%((i),label))\n",
    "    neuronvis.clear(neurons=True,regions=True)\n",
    "    neuronvis.neurons.clear()\n",
    "neuronvis.render.closeWindow()"
   ]
  },
  {
   "cell_type": "code",
   "execution_count": null,
   "metadata": {},
   "outputs": [],
   "source": [
    "# fig 5e top\n",
    "savedir = r\".\\\\Orexin_fig_plot\"\n",
    "Datapth = r\"W:\\all_neurons_0221\\swc_mirrow\"\n",
    "neuronvis = nv.neuronVis(size=(1600,1000),renderModel=1)\n",
    "for i in tqdm(dforexin.cluster.unique()):\n",
    "    dfnew = dforexin.loc[dforexin.cluster == i]\n",
    "\n",
    "    folder = \"subtype_%d\"%(i)    \n",
    "    foldernew = os.path.join(savedir,folder)\n",
    "    \n",
    "    try:\n",
    "        os.mkdir(foldernew)\n",
    "    except:\n",
    "        print(\"dir exist\")\n",
    "        \n",
    "    for neuron in dfnew.index.to_list():\n",
    "        # file = os.path.join(Datapth,neuron)\n",
    "        file = os.path.join(Datapth,neuron+\".swc\")\n",
    "        # color=[random.random(),random.random(),random.random()]\n",
    "        neuronvis.addNeuron(file,somaColor = [1.0,0.0,0.0],axonColor=[0.0,0.0,0.0],dendriteColor=[0.0,0.0,1.0])\n",
    "        neuronvis.render.setBackgroundColor([1,1,1])\n",
    "        neuronvis.render.setLineWidth(3)\n",
    "        for label,view in zip(labels,views):\n",
    "            neuronvis.render.setLookAt(eye=view[\"eye\"],center=view[\"center\"],up=view[\"up\"]) \n",
    "            neuronvis.render.savepng(os.path.join(foldernew,neuron.split(\".\")[0]+\"_%s.png\"%label))\n",
    "        neuronvis.clear(neurons=True,regions=True)\n",
    "        neuronvis.neurons.clear()\n",
    "neuronvis.render.closeWindow()"
   ]
  },
  {
   "cell_type": "code",
   "execution_count": null,
   "metadata": {},
   "outputs": [],
   "source": [
    "# fig6 \n",
    "dfARH = pd.read_excel(\"Agrp_Pomc_ARH_cluster_4.xlsx\",index_col=0)"
   ]
  },
  {
   "cell_type": "code",
   "execution_count": null,
   "metadata": {},
   "outputs": [],
   "source": [
    "# fig6b\n",
    "Datapth = r\"W:\\all_neurons_0221\\swc_mirrow\"\n",
    "neuronvis = nv.neuronVis(size=(1600,1000),renderModel=1)\n",
    "for geno in tqdm(dfARH.geno.unique()):\n",
    "    dfnew = dfARH.loc[dfARH.geno == geno]\n",
    "    for neuron in dfnew.index.to_list():\n",
    "        # file = os.path.join(Datapth,neuron)\n",
    "        file = os.path.join(Datapth,neuron+\".swc\")\n",
    "        color=[random.random(),random.random(),random.random()]\n",
    "        neuronvis.addNeuron(file,somaColor = [0.0,0.0,0.0],axonColor= color,dendriteColor=color)\n",
    "        neuronvis.render.setBackgroundColor([1,1,1])\n",
    "        neuronvis.render.setLineWidth(3)\n",
    "    for label,view in zip(labels,views):\n",
    "        neuronvis.render.setLookAt(eye=view[\"eye\"],center=view[\"center\"],up=view[\"up\"]) \n",
    "        neuronvis.render.savepng(\"ARH_%s_%s.png\"%(geno,label))\n",
    "    neuronvis.clear(neurons=True,regions=True)\n",
    "    neuronvis.neurons.clear()\n",
    "neuronvis.render.closeWindow()"
   ]
  },
  {
   "cell_type": "code",
   "execution_count": null,
   "metadata": {},
   "outputs": [],
   "source": [
    "# fig 6e bottom\n",
    "Datapth = r\"W:\\all_neurons_0221\\swc_mirrow\"\n",
    "neuronvis = nv.neuronVis(size=(1600,1000),renderModel=1)\n",
    "for i in tqdm(dfARH.cluster.unique()):\n",
    "    dfnew = dfARH.loc[dfARH.cluster == i]\n",
    "    for neuron in dfnew.index.to_list():\n",
    "        # file = os.path.join(Datapth,neuron)\n",
    "        file = os.path.join(Datapth,neuron+\".swc\")\n",
    "        color=[random.random(),random.random(),random.random()]\n",
    "        neuronvis.addNeuron(file,somaColor = [0.0,0.0,0.0],axonColor= color,dendriteColor=color)\n",
    "        neuronvis.render.setBackgroundColor([1,1,1])\n",
    "        neuronvis.render.setLineWidth(3)\n",
    "    for label,view in zip(labels,views):\n",
    "        neuronvis.render.setLookAt(eye=view[\"eye\"],center=view[\"center\"],up=view[\"up\"]) \n",
    "        neuronvis.render.savepng(\"ARH_subtype_%d_%s.png\"%((i),label))\n",
    "    neuronvis.clear(neurons=True,regions=True)\n",
    "    neuronvis.neurons.clear()\n",
    "neuronvis.render.closeWindow()"
   ]
  },
  {
   "cell_type": "code",
   "execution_count": null,
   "metadata": {},
   "outputs": [],
   "source": [
    "# fig 6e top\n",
    "savedir = r\".\\\\ARG_fig_plot\"\n",
    "Datapth = r\"W:\\all_neurons_0221\\swc_mirrow\"\n",
    "neuronvis = nv.neuronVis(size=(1600,1000),renderModel=1)\n",
    "for i in tqdm(dfARH.cluster.unique()):\n",
    "    dfnew = dfARH.loc[dfARH.cluster == i]\n",
    "\n",
    "    folder = \"subtype_%d\"%(i)    \n",
    "    foldernew = os.path.join(savedir,folder)\n",
    "    \n",
    "    try:\n",
    "        os.mkdir(foldernew)\n",
    "    except:\n",
    "        print(\"dir exist\")\n",
    "        \n",
    "    for neuron in dfnew.index.to_list():\n",
    "        # file = os.path.join(Datapth,neuron)\n",
    "        file = os.path.join(Datapth,neuron+\".swc\")\n",
    "        # color=[random.random(),random.random(),random.random()]\n",
    "        neuronvis.addNeuron(file,somaColor = [1.0,0.0,0.0],axonColor=[0.0,0.0,0.0],dendriteColor=[0.0,0.0,1.0])\n",
    "        neuronvis.render.setBackgroundColor([1,1,1])\n",
    "        neuronvis.render.setLineWidth(3)\n",
    "        for label,view in zip(labels,views):\n",
    "            neuronvis.render.setLookAt(eye=view[\"eye\"],center=view[\"center\"],up=view[\"up\"]) \n",
    "            neuronvis.render.savepng(os.path.join(foldernew,neuron.split(\".\")[0]+\"_%s.png\"%label))\n",
    "        neuronvis.clear(neurons=True,regions=True)\n",
    "        neuronvis.neurons.clear()\n",
    "neuronvis.render.closeWindow()"
   ]
  },
  {
   "cell_type": "code",
   "execution_count": null,
   "metadata": {},
   "outputs": [],
   "source": [
    "# Extended Data Fig10b\n",
    "Datapth = r\"W:\\all_neurons_0221\\swc_mirrow\"\n",
    "dfneuron1 = dfneuron.loc[(dfneuron.cluster==4)&(dfneuron.geno==\"Adcyap1\")]\n",
    "dfneuron2 = dfneuron.loc[(dfneuron.cluster==4)&(dfneuron.geno==\"Penk\")]\n",
    "\n",
    "neuronvis = nv.neuronVis(size=(1600,1000),renderModel=1)\n",
    "neuronvis.render.setBackgroundColor([1,1,1])\n",
    "neuronvis.addRegion('CA1',[0,0,0.5])\n",
    "for neuron in tqdm(dfneuron1.index.to_list()):\n",
    "    # file = os.path.join(Datapth,neuron)\n",
    "    file = os.path.join(Datapth,neuron+\".swc\")\n",
    "    # color=[random.random(),random.random(),random.random()]\n",
    "    color=[1,0,0]\n",
    "    # neuronvis.addRegion('CA1',[0,0,0.5])\n",
    "    neuronvis.addNeuron(file,somaColor = [0.0,0.0,0.0],axonColor= color,dendriteColor=color)\n",
    "    # neuronvis.render.setBackgroundColor([1,1,1])\n",
    "    # neuronvis.render.setLineWidth(2)\n",
    "\n",
    "for neuron in tqdm(dfneuron2.index.to_list()):\n",
    "    # file = os.path.join(Datapth,neuron)\n",
    "    file = os.path.join(Datapth,neuron+\".swc\")\n",
    "    # color=[random.random(),random.random(),random.random()]\n",
    "    color=[16/255,112/255,16/255]\n",
    "    neuronvis.addNeuron(file,somaColor = [0.0,0.0,0.0],axonColor= color,dendriteColor=color)\n",
    "neuronvis.render.setBackgroundColor([1,1,1])\n",
    "neuronvis.render.setLineWidth(2)\n",
    "\n",
    "for label,view in zip(labels,views):\n",
    "    neuronvis.render.setLookAt(eye=view[\"eye\"],center=view[\"center\"],up=view[\"up\"]) \n",
    "    neuronvis.render.savepng(\"Subtype4_adcyap1&Penk2_%s.png\"%(label))\n",
    "neuronvis.clear(neurons=True,regions=True)\n",
    "neuronvis.neurons.clear()\n",
    "neuronvis.render.closeWindow()"
   ]
  }
 ],
 "metadata": {
  "kernelspec": {
   "display_name": "Python 3.7.9 64-bit",
   "language": "python",
   "name": "python3"
  },
  "language_info": {
   "codemirror_mode": {
    "name": "ipython",
    "version": 3
   },
   "file_extension": ".py",
   "mimetype": "text/x-python",
   "name": "python",
   "nbconvert_exporter": "python",
   "pygments_lexer": "ipython3",
   "version": "3.7.13"
  },
  "vscode": {
   "interpreter": {
    "hash": "681c1bce0af37acb6fe2fe46c8fcef319e7d4e48d6c4d2470fa77ec40f3f89e9"
   }
  }
 },
 "nbformat": 4,
 "nbformat_minor": 2
}
