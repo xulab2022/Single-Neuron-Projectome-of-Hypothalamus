{
 "cells": [
  {
   "cell_type": "code",
   "execution_count": 13,
   "metadata": {},
   "outputs": [],
   "source": [
    "from PIL import Image \n",
    "import numpy as np \n",
    "import nrrd# Some sample numpy \n",
    "import os,glob\n",
    "import matplotlib.pyplot as plt\n",
    "import seaborn as sns\n",
    "import pandas as pd\n",
    "import cv2,math\n",
    "import matplotlib as mpl\n",
    "import requests\n",
    "import pandas as pd\n",
    "from tqdm import tqdm"
   ]
  },
  {
   "cell_type": "code",
   "execution_count": 7,
   "metadata": {},
   "outputs": [
    {
     "name": "stdout",
     "output_type": "stream",
     "text": [
      "File 'annotation_10.nrrd' downloaded successfully.\n"
     ]
    }
   ],
   "source": [
    "# download the nrrd file from allen institute\n",
    "def download_file(url, file_path):\n",
    "    response = requests.get(url)\n",
    "    with open(file_path, 'wb') as f:\n",
    "        f.write(response.content)\n",
    "\n",
    "file_name = 'annotation_10.nrrd'\n",
    "if not os.path.exists(file_name):\n",
    "    url = 'http://download.alleninstitute.org/informatics-archive/current-release/mouse_ccf/annotation/ccf_2017/' + file_name\n",
    "    download_file(url, file_name)\n",
    "    print(f\"File '{file_name}' downloaded successfully.\")\n",
    "else:\n",
    "    print(f\"File '{file_name}' already exists.\")"
   ]
  },
  {
   "cell_type": "code",
   "execution_count": 14,
   "metadata": {},
   "outputs": [],
   "source": [
    "dfarea = pd.read_excel(\"brain_areas.xlsx\",index_col=0)"
   ]
  },
  {
   "cell_type": "code",
   "execution_count": 15,
   "metadata": {},
   "outputs": [],
   "source": [
    "retain_area = [\"ARH\",\"V3\"]\n",
    "retain_ID = dfarea.loc[dfarea.region.isin(retain_area)].index.tolist()"
   ]
  },
  {
   "cell_type": "code",
   "execution_count": 16,
   "metadata": {},
   "outputs": [],
   "source": [
    "somadata,header=nrrd.read(\"annotation_10.nrrd\")\n",
    "mask = ~np.isin(somadata,retain_ID+[0])\n",
    "somadata[mask] = 5"
   ]
  },
  {
   "cell_type": "code",
   "execution_count": 17,
   "metadata": {},
   "outputs": [],
   "source": [
    "dfplot = pd.read_excel(\"Agrp_Pomc_ARH_soma_infor.xlsx\",index_col=0)"
   ]
  },
  {
   "cell_type": "code",
   "execution_count": 19,
   "metadata": {},
   "outputs": [
    {
     "name": "stdout",
     "output_type": "stream",
     "text": [
      "744\n",
      "651\n",
      "The folder already exist\n"
     ]
    }
   ],
   "source": [
    "# plot soma location in the allen image\n",
    "bregma = True\n",
    "hue_para = \"geno\"\n",
    "space = 400\n",
    "\n",
    "dic_list = {'Pomc':'#F9CE00','Agrp':'#0555FF'}\n",
    "\n",
    "plot_max = math.ceil(dfplot.AP.max()/10)\n",
    "plot_min = int(dfplot.AP.min()/10)\n",
    "print(plot_max)\n",
    "print(plot_min)\n",
    "try:\n",
    "    os.mkdir(\"raw\")\n",
    "except:\n",
    "    print(\"The folder already exist\")\n",
    "for start in range(plot_min,plot_max,int(space/10)):\n",
    "    # image = somadata[int(start),:,:].astype(\"uint8\")\n",
    "    image = somadata[int(start+space/30),:,:].astype(\"uint8\")\n",
    "    edges = cv2.Canny(image,10,25)\n",
    "    edges2 = 255-edges\n",
    "    dfnew = dfplot.loc[(dfplot.AP>start*10)&(dfplot.AP<start*10+space)]\n",
    "    fig = plt.figure(figsize=(16,8),dpi=600)\n",
    "    ax = fig.add_subplot(1,1,1)\n",
    "    ax.imshow(edges2,cmap = 'gray')\n",
    "    for sep_i in dic_list:   \n",
    "        dfsubplot = dfnew.loc[dfnew.loc[:,hue_para] == sep_i]\n",
    "        ax.scatter(dfsubplot.ML/10,dfsubplot.DV/10,s=4,c=dic_list[sep_i],marker = \"o\",alpha = 1)  \n",
    "    ax.axis(\"off\")\n",
    "\n",
    "    if bregma == False:\n",
    "        plt.savefig(\".\\\\raw\\\\soma_%d.jpg\"%int(start+space/30),dpi=900)\n",
    "    else:\n",
    "        plt.savefig(\".\\\\raw\\\\soma_%d.jpg\"%int(-(start*10+space/3-5472)/100),dpi=900)\n",
    "    plt.close()   "
   ]
  },
  {
   "cell_type": "code",
   "execution_count": 23,
   "metadata": {},
   "outputs": [],
   "source": [
    "os.mkdir(\"crop\")"
   ]
  },
  {
   "cell_type": "code",
   "execution_count": 20,
   "metadata": {},
   "outputs": [],
   "source": [
    "# ARH\n",
    "para = (6900,5100,7410,6000)\n",
    "mirrow = False"
   ]
  },
  {
   "cell_type": "code",
   "execution_count": 21,
   "metadata": {},
   "outputs": [],
   "source": [
    "filelist = glob.glob(\".\\\\raw\\\\*\")"
   ]
  },
  {
   "cell_type": "code",
   "execution_count": 22,
   "metadata": {},
   "outputs": [
    {
     "name": "stderr",
     "output_type": "stream",
     "text": [
      "C:\\Users\\win7\\AppData\\Local\\Programs\\Python\\Python37\\Lib\\site-packages\\PIL\\Image.py:3170: DecompressionBombWarning: Image size (103680000 pixels) exceeds limit of 89478485 pixels, could be decompression bomb DOS attack.\n",
      "  DecompressionBombWarning,\n"
     ]
    }
   ],
   "source": [
    "# crop image\n",
    "for file in filelist:\n",
    "    filetmp = Image.open(file).crop(para)\n",
    "    # filetmp = Image.open(file)\n",
    "    filename = file.split(\"\\\\\")[-1]\n",
    "    # filetmp = filetmp.rotate(-90)\n",
    "    if mirrow == True:\n",
    "        filetmp = filetmp.transpose(Image.FLIP_LEFT_RIGHT)\n",
    "        filetmp = filetmp.rotate(-90)\n",
    "    filetmp.save(os.path.join(\".\\\\crop\",filename))\n",
    "    filetmp.close()"
   ]
  },
  {
   "cell_type": "code",
   "execution_count": 39,
   "metadata": {},
   "outputs": [
    {
     "ename": "FileExistsError",
     "evalue": "[WinError 183] 当文件已存在时，无法创建该文件。: 'edge'",
     "output_type": "error",
     "traceback": [
      "\u001b[1;31m---------------------------------------------------------------------------\u001b[0m",
      "\u001b[1;31mFileExistsError\u001b[0m                           Traceback (most recent call last)",
      "\u001b[1;32m<ipython-input-39-13bb4f1a72dd>\u001b[0m in \u001b[0;36m<module>\u001b[1;34m\u001b[0m\n\u001b[1;32m----> 1\u001b[1;33m \u001b[0mos\u001b[0m\u001b[1;33m.\u001b[0m\u001b[0mmkdir\u001b[0m\u001b[1;33m(\u001b[0m\u001b[1;34m\"edge\"\u001b[0m\u001b[1;33m)\u001b[0m\u001b[1;33m\u001b[0m\u001b[1;33m\u001b[0m\u001b[0m\n\u001b[0m",
      "\u001b[1;31mFileExistsError\u001b[0m: [WinError 183] 当文件已存在时，无法创建该文件。: 'edge'"
     ]
    }
   ],
   "source": [
    "os.mkdir(\"edge\")"
   ]
  },
  {
   "cell_type": "code",
   "execution_count": 23,
   "metadata": {},
   "outputs": [],
   "source": [
    "filelist = glob.glob(\".\\\\crop\\\\*\")"
   ]
  },
  {
   "cell_type": "code",
   "execution_count": 24,
   "metadata": {},
   "outputs": [],
   "source": [
    "# add edge\n",
    "add = 8\n",
    "for file in filelist:\n",
    "    tmp1st = Image.open(file)\n",
    "    x = int(tmp1st.size[0]+add*2)\n",
    "    y = int(tmp1st.size[1]+add*2)\n",
    "    result = Image.new(tmp1st.mode, (x,y),\"black\")\n",
    "    # result = Image.new(tmp1st.mode, (x,y),\"white\")\n",
    "    result.paste(tmp1st,box=(add,add))\n",
    "    result.save(\".\\\\edge\\\\%s\"%(file.split(\"\\\\\")[-1]))\n",
    "    result.close()\n"
   ]
  }
 ],
 "metadata": {
  "kernelspec": {
   "display_name": "Python 3.7.9 64-bit",
   "language": "python",
   "name": "python3"
  },
  "language_info": {
   "codemirror_mode": {
    "name": "ipython",
    "version": 3
   },
   "file_extension": ".py",
   "mimetype": "text/x-python",
   "name": "python",
   "nbconvert_exporter": "python",
   "pygments_lexer": "ipython3",
   "version": "3.7.9"
  },
  "orig_nbformat": 4,
  "vscode": {
   "interpreter": {
    "hash": "681c1bce0af37acb6fe2fe46c8fcef319e7d4e48d6c4d2470fa77ec40f3f89e9"
   }
  }
 },
 "nbformat": 4,
 "nbformat_minor": 2
}
