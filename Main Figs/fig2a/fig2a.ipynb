{
 "cells": [
  {
   "cell_type": "code",
   "execution_count": 2,
   "id": "b75f16f0",
   "metadata": {},
   "outputs": [],
   "source": [
    "import pandas as pd\n",
    "import os, sys\n",
    "import numpy as np\n",
    "import seaborn as sns\n",
    "from matplotlib import pyplot as plt\n",
    "# from sklearn.preprocessing import OneHotEncoder\n",
    "\n",
    "import warnings\n",
    "warnings.filterwarnings('ignore')\n",
    "\n",
    "import matplotlib as mpl\n",
    "mpl.rcParams['pdf.fonttype'] = 42\n",
    "mpl.rcParams['ps.fonttype'] = 42\n",
    "plt.rc(\"font\",family=\"Arial\")"
   ]
  },
  {
   "cell_type": "code",
   "execution_count": 26,
   "id": "89383f39",
   "metadata": {},
   "outputs": [],
   "source": [
    "scatter = pd.read_csv('fig2.projection_density.csv', index_col=0)\n",
    "heat = pd.read_csv('fig2.region_logfc.csv', index_col=0)"
   ]
  },
  {
   "cell_type": "code",
   "execution_count": 27,
   "id": "57a547de",
   "metadata": {},
   "outputs": [
    {
     "data": {
      "image/png": "[encoded data removed]",
      "text/plain": [
       "<Figure size 1440x360 with 2 Axes>"
      ]
     },
     "metadata": {
      "needs_background": "light"
     },
     "output_type": "display_data"
    }
   ],
   "source": [
    "plt.figure(figsize=(20, 5), )\n",
    "ax1 = plt.subplot2grid((3,1), (0,0))\n",
    "sns.heatmap(heat, center=0, cmap='bwr', linewidths=2,linecolor=\"black\",\n",
    "             cbar=False\n",
    "           )\n",
    "ax.set_axis_off()\n",
    "\n",
    "# 创建一个新的轴用于颜色条\n",
    "cbar_ax = fig.add_axes([0.3, 0.92, 0.4, 0.02])  # [left, bottom, width, height]\n",
    "\n",
    "# 绘制颜色条并旋转90度\n",
    "cbar = fig.colorbar(ax.collections[0], cax=cbar_ax, orientation='horizontal')\n",
    "cbar_ax.xaxis.set_ticks_position('top')\n",
    "cbar_ax.xaxis.set_label_position('top')\n",
    "\n",
    "\n",
    "ax2 = plt.subplot2grid((3,1), (1,0))\n",
    "sns.scatterplot(data=scatter, x='soma', y='class', hue='meanLength', size='dens', sizes=(10, 500),\n",
    "               legend=False, \n",
    "                palette='binary', edgecolor='gray')\n",
    "ax2.set_xlim((-0.5, 17.5))\n",
    "ax2.spines[['top', 'left', 'right', 'bottom']].set_visible(False)\n",
    "ax2.set_ylabel('')\n",
    "ax2.set_xlabel('')\n",
    "ax2.set_yticks([])\n",
    "plt.subplots_adjust(hspace=0)\n",
    "\n",
    "plt.savefig('fig2a.pdf',dpi=300)"
   ]
  },
  {
   "cell_type": "code",
   "execution_count": null,
   "id": "bc6f5885",
   "metadata": {},
   "outputs": [],
   "source": []
  }
 ],
 "metadata": {
  "kernelspec": {
   "display_name": "Python 3.7.9 64-bit",
   "language": "python",
   "name": "python3"
  },
  "language_info": {
   "codemirror_mode": {
    "name": "ipython",
    "version": 3
   },
   "file_extension": ".py",
   "mimetype": "text/x-python",
   "name": "python",
   "nbconvert_exporter": "python",
   "pygments_lexer": "ipython3",
   "version": "3.7.9"
  },
  "toc": {
   "base_numbering": 1,
   "nav_menu": {},
   "number_sections": true,
   "sideBar": true,
   "skip_h1_title": false,
   "title_cell": "Table of Contents",
   "title_sidebar": "Contents",
   "toc_cell": false,
   "toc_position": {},
   "toc_section_display": true,
   "toc_window_display": false
  },
  "vscode": {
   "interpreter": {
    "hash": "681c1bce0af37acb6fe2fe46c8fcef319e7d4e48d6c4d2470fa77ec40f3f89e9"
   }
  }
 },
 "nbformat": 4,
 "nbformat_minor": 5
}
