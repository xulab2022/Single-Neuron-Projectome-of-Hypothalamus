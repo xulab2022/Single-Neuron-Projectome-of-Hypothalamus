{
 "cells": [
  {
   "cell_type": "code",
   "execution_count": 1,
   "metadata": {},
   "outputs": [],
   "source": [
    "import pandas as pd\n",
    "import os,glob\n",
    "import seaborn as sns\n",
    "import matplotlib.pyplot as plt\n"
   ]
  },
  {
   "cell_type": "code",
   "execution_count": 2,
   "metadata": {},
   "outputs": [],
   "source": [
    "import matplotlib as mpl\n",
    "mpl.rcParams['pdf.fonttype'] = 42\n",
    "mpl.rcParams['ps.fonttype'] = 42\n",
    "plt.rc(\"font\",family=\"Arial\")"
   ]
  },
  {
   "cell_type": "code",
   "execution_count": 3,
   "metadata": {},
   "outputs": [],
   "source": [
    "dfdata = pd.read_excel(\"orexin_data_for_violin_plot.xlsx\",index_col=0)"
   ]
  },
  {
   "cell_type": "code",
   "execution_count": 4,
   "metadata": {},
   "outputs": [],
   "source": [
    "plot_areas = [\"ACB\",\"AON\",\"SS\",\"VIS\",\"MY\",\"VTA\",\"LDT\",\"PAG\",\"Isocortex\",\"RSP\"] "
   ]
  },
  {
   "cell_type": "code",
   "execution_count": 5,
   "metadata": {},
   "outputs": [],
   "source": [
    "dfplot = dfdata.loc[dfdata.area.isin(plot_areas)]"
   ]
  },
  {
   "cell_type": "code",
   "execution_count": 7,
   "metadata": {},
   "outputs": [],
   "source": [
    "for areazz in plot_areas:\n",
    "    dfdatanew = dfdata.loc[dfdata.area.isin([areazz]),:]\n",
    "    fig, ax = plt.subplots(figsize=(3,2))\n",
    "    sns.violinplot(\n",
    "        data=dfdatanew, y=\"length\",x=\"cluster\",\n",
    "        edgecolor= \"black\",\n",
    "        color=\"#C5CB67\",\n",
    "        linewidth=0.5,\n",
    "        scale=\"count\",\n",
    "        inner=None\n",
    "    )\n",
    "\n",
    "    sns.stripplot(\n",
    "        data=dfdatanew, y=\"length\",x=\"cluster\",\n",
    "        edgecolor= \"black\",\n",
    "        color=\"#C5CB67\",\n",
    "        linewidth=0.5\n",
    "    )\n",
    "    ax.set_title('%s'%(areazz),fontsize = 8)\n",
    "    ax.tick_params(axis='y', labelsize=4)\n",
    "    ax.tick_params(axis='x', labelsize=4)\n",
    "    ax.set_ylabel('Axon length(um)',fontsize = 6)\n",
    "    ax.set_xlabel('Subtypes',fontsize = 6)\n",
    "    ax.yaxis.set_label_coords(-0.12, 0.5) \n",
    "    ax.xaxis.set_label_coords(0.5, -0.1) \n",
    "    ax.tick_params(axis='both', which='major', width=1)\n",
    "    plt.rc(\"axes\", linewidth=1)\n",
    "    plt.savefig(\"violin_plot_%s.jpg\"%(areazz),dpi=300)\n",
    "    plt.savefig(\"violin_plot_%s.pdf\"%(areazz),dpi=300)\n",
    "    plt.close()"
   ]
  },
  {
   "cell_type": "code",
   "execution_count": null,
   "metadata": {},
   "outputs": [],
   "source": []
  }
 ],
 "metadata": {
  "kernelspec": {
   "display_name": "Python 3.7.9 64-bit",
   "language": "python",
   "name": "python3"
  },
  "language_info": {
   "codemirror_mode": {
    "name": "ipython",
    "version": 3
   },
   "file_extension": ".py",
   "mimetype": "text/x-python",
   "name": "python",
   "nbconvert_exporter": "python",
   "pygments_lexer": "ipython3",
   "version": "3.7.9"
  },
  "orig_nbformat": 4,
  "vscode": {
   "interpreter": {
    "hash": "681c1bce0af37acb6fe2fe46c8fcef319e7d4e48d6c4d2470fa77ec40f3f89e9"
   }
  }
 },
 "nbformat": 4,
 "nbformat_minor": 2
}
