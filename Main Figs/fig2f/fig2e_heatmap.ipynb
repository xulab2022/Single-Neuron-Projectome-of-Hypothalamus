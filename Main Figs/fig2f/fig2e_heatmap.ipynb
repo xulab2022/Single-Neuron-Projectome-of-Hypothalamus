{
 "cells": [
  {
   "cell_type": "code",
   "execution_count": 1,
   "metadata": {},
   "outputs": [],
   "source": [
    "import pandas as pd\n",
    "import numpy as np\n",
    "from scipy.io import loadmat\n",
    "import os,glob"
   ]
  },
  {
   "cell_type": "code",
   "execution_count": 2,
   "metadata": {},
   "outputs": [],
   "source": [
    "\n",
    "import seaborn as sns\n",
    "import matplotlib.pyplot as plt"
   ]
  },
  {
   "cell_type": "code",
   "execution_count": 3,
   "metadata": {},
   "outputs": [],
   "source": [
    "import matplotlib as mpl\n",
    "mpl.rcParams['pdf.fonttype'] = 42\n",
    "mpl.rcParams['ps.fonttype'] = 42\n",
    "plt.rc(\"font\",family=\"Arial\")"
   ]
  },
  {
   "cell_type": "code",
   "execution_count": 4,
   "metadata": {},
   "outputs": [],
   "source": [
    "os.chdir(r\"H:\\20240408_figs\\20240508_fish_new\")"
   ]
  },
  {
   "cell_type": "code",
   "execution_count": 5,
   "metadata": {},
   "outputs": [],
   "source": [
    "files = loadmat(\"Cluster_CData.mat\")"
   ]
  },
  {
   "cell_type": "code",
   "execution_count": 6,
   "metadata": {},
   "outputs": [],
   "source": [
    "data_tmp = files[\"CData\"]"
   ]
  },
  {
   "cell_type": "code",
   "execution_count": 7,
   "metadata": {},
   "outputs": [],
   "source": [
    "dftmp = pd.DataFrame(data_tmp)"
   ]
  },
  {
   "cell_type": "code",
   "execution_count": 15,
   "metadata": {},
   "outputs": [
    {
     "data": {
      "text/html": [
       "<div>\n",
       "<style scoped>\n",
       "    .dataframe tbody tr th:only-of-type {\n",
       "        vertical-align: middle;\n",
       "    }\n",
       "\n",
       "    .dataframe tbody tr th {\n",
       "        vertical-align: top;\n",
       "    }\n",
       "\n",
       "    .dataframe thead th {\n",
       "        text-align: right;\n",
       "    }\n",
       "</style>\n",
       "<table border=\"1\" class=\"dataframe\">\n",
       "  <thead>\n",
       "    <tr style=\"text-align: right;\">\n",
       "      <th></th>\n",
       "      <th>0</th>\n",
       "      <th>1</th>\n",
       "      <th>2</th>\n",
       "      <th>3</th>\n",
       "      <th>4</th>\n",
       "    </tr>\n",
       "  </thead>\n",
       "  <tbody>\n",
       "    <tr>\n",
       "      <th>0</th>\n",
       "      <td>0.0</td>\n",
       "      <td>0.000000</td>\n",
       "      <td>0.0</td>\n",
       "      <td>0.000000</td>\n",
       "      <td>0.0</td>\n",
       "    </tr>\n",
       "    <tr>\n",
       "      <th>1</th>\n",
       "      <td>0.0</td>\n",
       "      <td>0.000000</td>\n",
       "      <td>0.0</td>\n",
       "      <td>0.000000</td>\n",
       "      <td>0.0</td>\n",
       "    </tr>\n",
       "    <tr>\n",
       "      <th>2</th>\n",
       "      <td>0.0</td>\n",
       "      <td>0.000000</td>\n",
       "      <td>0.0</td>\n",
       "      <td>0.000000</td>\n",
       "      <td>0.0</td>\n",
       "    </tr>\n",
       "    <tr>\n",
       "      <th>3</th>\n",
       "      <td>0.0</td>\n",
       "      <td>0.000000</td>\n",
       "      <td>0.0</td>\n",
       "      <td>0.000000</td>\n",
       "      <td>0.0</td>\n",
       "    </tr>\n",
       "    <tr>\n",
       "      <th>4</th>\n",
       "      <td>0.0</td>\n",
       "      <td>0.000000</td>\n",
       "      <td>0.0</td>\n",
       "      <td>0.000000</td>\n",
       "      <td>0.0</td>\n",
       "    </tr>\n",
       "    <tr>\n",
       "      <th>...</th>\n",
       "      <td>...</td>\n",
       "      <td>...</td>\n",
       "      <td>...</td>\n",
       "      <td>...</td>\n",
       "      <td>...</td>\n",
       "    </tr>\n",
       "    <tr>\n",
       "      <th>28221</th>\n",
       "      <td>1.0</td>\n",
       "      <td>0.481648</td>\n",
       "      <td>0.0</td>\n",
       "      <td>0.000000</td>\n",
       "      <td>0.0</td>\n",
       "    </tr>\n",
       "    <tr>\n",
       "      <th>28222</th>\n",
       "      <td>1.0</td>\n",
       "      <td>0.971108</td>\n",
       "      <td>0.0</td>\n",
       "      <td>0.021417</td>\n",
       "      <td>0.0</td>\n",
       "    </tr>\n",
       "    <tr>\n",
       "      <th>28223</th>\n",
       "      <td>1.0</td>\n",
       "      <td>0.828425</td>\n",
       "      <td>0.0</td>\n",
       "      <td>0.000000</td>\n",
       "      <td>0.0</td>\n",
       "    </tr>\n",
       "    <tr>\n",
       "      <th>28224</th>\n",
       "      <td>1.0</td>\n",
       "      <td>0.354469</td>\n",
       "      <td>0.0</td>\n",
       "      <td>0.372461</td>\n",
       "      <td>0.0</td>\n",
       "    </tr>\n",
       "    <tr>\n",
       "      <th>28225</th>\n",
       "      <td>1.0</td>\n",
       "      <td>0.435976</td>\n",
       "      <td>0.0</td>\n",
       "      <td>0.535806</td>\n",
       "      <td>0.0</td>\n",
       "    </tr>\n",
       "  </tbody>\n",
       "</table>\n",
       "<p>28226 rows × 5 columns</p>\n",
       "</div>"
      ],
      "text/plain": [
       "         0         1    2         3    4\n",
       "0      0.0  0.000000  0.0  0.000000  0.0\n",
       "1      0.0  0.000000  0.0  0.000000  0.0\n",
       "2      0.0  0.000000  0.0  0.000000  0.0\n",
       "3      0.0  0.000000  0.0  0.000000  0.0\n",
       "4      0.0  0.000000  0.0  0.000000  0.0\n",
       "...    ...       ...  ...       ...  ...\n",
       "28221  1.0  0.481648  0.0  0.000000  0.0\n",
       "28222  1.0  0.971108  0.0  0.021417  0.0\n",
       "28223  1.0  0.828425  0.0  0.000000  0.0\n",
       "28224  1.0  0.354469  0.0  0.372461  0.0\n",
       "28225  1.0  0.435976  0.0  0.535806  0.0\n",
       "\n",
       "[28226 rows x 5 columns]"
      ]
     },
     "execution_count": 15,
     "metadata": {},
     "output_type": "execute_result"
    }
   ],
   "source": [
    "dftmp"
   ]
  },
  {
   "cell_type": "code",
   "execution_count": 16,
   "metadata": {},
   "outputs": [],
   "source": [
    "reversed_df = dftmp.iloc[::-1]\n",
    "color_dict = {1:\"green\",0:\"gray\"}"
   ]
  },
  {
   "cell_type": "code",
   "execution_count": 17,
   "metadata": {},
   "outputs": [
    {
     "name": "stderr",
     "output_type": "stream",
     "text": [
      "C:\\Users\\win7\\AppData\\Local\\Programs\\Python\\Python37\\Lib\\site-packages\\ipykernel_launcher.py:1: SettingWithCopyWarning: \n",
      "A value is trying to be set on a copy of a slice from a DataFrame.\n",
      "Try using .loc[row_indexer,col_indexer] = value instead\n",
      "\n",
      "See the caveats in the documentation: https://pandas.pydata.org/pandas-docs/stable/user_guide/indexing.html#returning-a-view-versus-a-copy\n",
      "  \"\"\"Entry point for launching an IPython kernel.\n"
     ]
    }
   ],
   "source": [
    "reversed_df[\"color\"] = reversed_df[0].map(color_dict)"
   ]
  },
  {
   "cell_type": "code",
   "execution_count": 18,
   "metadata": {},
   "outputs": [],
   "source": [
    "dfplot = reversed_df.T\n",
    "dfplot2 = dfplot.iloc[1:5,:]"
   ]
  },
  {
   "cell_type": "code",
   "execution_count": 12,
   "metadata": {},
   "outputs": [],
   "source": [
    "dfplot.columns = [str(num) for num in dfplot.columns.tolist()]"
   ]
  },
  {
   "cell_type": "code",
   "execution_count": 13,
   "metadata": {},
   "outputs": [],
   "source": [
    "dfplot2 = dfplot.iloc[1:5,:]"
   ]
  },
  {
   "cell_type": "code",
   "execution_count": 14,
   "metadata": {},
   "outputs": [],
   "source": [
    "dfplot2.to_csv(\"plot.csv\")"
   ]
  },
  {
   "cell_type": "code",
   "execution_count": 20,
   "metadata": {},
   "outputs": [],
   "source": [
    "dfplot.to_csv(\"plot_color.csv\")"
   ]
  },
  {
   "cell_type": "code",
   "execution_count": 29,
   "metadata": {},
   "outputs": [
    {
     "data": {
      "text/plain": [
       "28225    green\n",
       "28224    green\n",
       "28223    green\n",
       "28222    green\n",
       "28221    green\n",
       "         ...  \n",
       "4         gray\n",
       "3         gray\n",
       "2         gray\n",
       "1         gray\n",
       "0         gray\n",
       "Name: color, Length: 28226, dtype: object"
      ]
     },
     "execution_count": 29,
     "metadata": {},
     "output_type": "execute_result"
    }
   ],
   "source": [
    "dfplot.loc[\"color\",:].T"
   ]
  },
  {
   "cell_type": "code",
   "execution_count": 5,
   "metadata": {},
   "outputs": [],
   "source": [
    "dfplot2 = pd.read_csv(\"plot.csv\",index_col=0)"
   ]
  },
  {
   "cell_type": "code",
   "execution_count": 10,
   "metadata": {},
   "outputs": [
    {
     "data": {
      "text/html": [
       "<div>\n",
       "<style scoped>\n",
       "    .dataframe tbody tr th:only-of-type {\n",
       "        vertical-align: middle;\n",
       "    }\n",
       "\n",
       "    .dataframe tbody tr th {\n",
       "        vertical-align: top;\n",
       "    }\n",
       "\n",
       "    .dataframe thead th {\n",
       "        text-align: right;\n",
       "    }\n",
       "</style>\n",
       "<table border=\"1\" class=\"dataframe\">\n",
       "  <thead>\n",
       "    <tr style=\"text-align: right;\">\n",
       "      <th></th>\n",
       "      <th>28225</th>\n",
       "      <th>28224</th>\n",
       "      <th>28223</th>\n",
       "      <th>28222</th>\n",
       "      <th>28221</th>\n",
       "      <th>28220</th>\n",
       "      <th>28219</th>\n",
       "      <th>28218</th>\n",
       "      <th>28217</th>\n",
       "      <th>28216</th>\n",
       "      <th>...</th>\n",
       "      <th>9</th>\n",
       "      <th>8</th>\n",
       "      <th>7</th>\n",
       "      <th>6</th>\n",
       "      <th>5</th>\n",
       "      <th>4</th>\n",
       "      <th>3</th>\n",
       "      <th>2</th>\n",
       "      <th>1</th>\n",
       "      <th>0</th>\n",
       "    </tr>\n",
       "  </thead>\n",
       "  <tbody>\n",
       "    <tr>\n",
       "      <th>1</th>\n",
       "      <td>0.435976</td>\n",
       "      <td>0.354469</td>\n",
       "      <td>0.828425</td>\n",
       "      <td>0.971108</td>\n",
       "      <td>0.481648</td>\n",
       "      <td>0.482252</td>\n",
       "      <td>0.502431</td>\n",
       "      <td>0.515263</td>\n",
       "      <td>0.434791</td>\n",
       "      <td>0.425024</td>\n",
       "      <td>...</td>\n",
       "      <td>0.0</td>\n",
       "      <td>0.0</td>\n",
       "      <td>0.0</td>\n",
       "      <td>0.0</td>\n",
       "      <td>0.0</td>\n",
       "      <td>0.0</td>\n",
       "      <td>0.0</td>\n",
       "      <td>0.0</td>\n",
       "      <td>0.0</td>\n",
       "      <td>0.0</td>\n",
       "    </tr>\n",
       "    <tr>\n",
       "      <th>2</th>\n",
       "      <td>0.000000</td>\n",
       "      <td>0.000000</td>\n",
       "      <td>0.000000</td>\n",
       "      <td>0.000000</td>\n",
       "      <td>0.000000</td>\n",
       "      <td>0.000000</td>\n",
       "      <td>0.000000</td>\n",
       "      <td>0.000000</td>\n",
       "      <td>0.000000</td>\n",
       "      <td>0.000000</td>\n",
       "      <td>...</td>\n",
       "      <td>0.0</td>\n",
       "      <td>0.0</td>\n",
       "      <td>0.0</td>\n",
       "      <td>0.0</td>\n",
       "      <td>0.0</td>\n",
       "      <td>0.0</td>\n",
       "      <td>0.0</td>\n",
       "      <td>0.0</td>\n",
       "      <td>0.0</td>\n",
       "      <td>0.0</td>\n",
       "    </tr>\n",
       "    <tr>\n",
       "      <th>3</th>\n",
       "      <td>0.535806</td>\n",
       "      <td>0.372461</td>\n",
       "      <td>0.000000</td>\n",
       "      <td>0.021417</td>\n",
       "      <td>0.000000</td>\n",
       "      <td>0.000000</td>\n",
       "      <td>0.028581</td>\n",
       "      <td>0.000000</td>\n",
       "      <td>0.000000</td>\n",
       "      <td>0.000000</td>\n",
       "      <td>...</td>\n",
       "      <td>0.0</td>\n",
       "      <td>0.0</td>\n",
       "      <td>0.0</td>\n",
       "      <td>0.0</td>\n",
       "      <td>0.0</td>\n",
       "      <td>0.0</td>\n",
       "      <td>0.0</td>\n",
       "      <td>0.0</td>\n",
       "      <td>0.0</td>\n",
       "      <td>0.0</td>\n",
       "    </tr>\n",
       "    <tr>\n",
       "      <th>4</th>\n",
       "      <td>0.000000</td>\n",
       "      <td>0.000000</td>\n",
       "      <td>0.000000</td>\n",
       "      <td>0.000000</td>\n",
       "      <td>0.000000</td>\n",
       "      <td>0.000000</td>\n",
       "      <td>0.000000</td>\n",
       "      <td>0.000000</td>\n",
       "      <td>0.000000</td>\n",
       "      <td>0.000000</td>\n",
       "      <td>...</td>\n",
       "      <td>0.0</td>\n",
       "      <td>0.0</td>\n",
       "      <td>0.0</td>\n",
       "      <td>0.0</td>\n",
       "      <td>0.0</td>\n",
       "      <td>0.0</td>\n",
       "      <td>0.0</td>\n",
       "      <td>0.0</td>\n",
       "      <td>0.0</td>\n",
       "      <td>0.0</td>\n",
       "    </tr>\n",
       "  </tbody>\n",
       "</table>\n",
       "<p>4 rows × 28226 columns</p>\n",
       "</div>"
      ],
      "text/plain": [
       "      28225     28224     28223     28222     28221     28220     28219  \\\n",
       "1  0.435976  0.354469  0.828425  0.971108  0.481648  0.482252  0.502431   \n",
       "2  0.000000  0.000000  0.000000  0.000000  0.000000  0.000000  0.000000   \n",
       "3  0.535806  0.372461  0.000000  0.021417  0.000000  0.000000  0.028581   \n",
       "4  0.000000  0.000000  0.000000  0.000000  0.000000  0.000000  0.000000   \n",
       "\n",
       "      28218     28217     28216  ...    9    8    7    6    5    4    3    2  \\\n",
       "1  0.515263  0.434791  0.425024  ...  0.0  0.0  0.0  0.0  0.0  0.0  0.0  0.0   \n",
       "2  0.000000  0.000000  0.000000  ...  0.0  0.0  0.0  0.0  0.0  0.0  0.0  0.0   \n",
       "3  0.000000  0.000000  0.000000  ...  0.0  0.0  0.0  0.0  0.0  0.0  0.0  0.0   \n",
       "4  0.000000  0.000000  0.000000  ...  0.0  0.0  0.0  0.0  0.0  0.0  0.0  0.0   \n",
       "\n",
       "     1    0  \n",
       "1  0.0  0.0  \n",
       "2  0.0  0.0  \n",
       "3  0.0  0.0  \n",
       "4  0.0  0.0  \n",
       "\n",
       "[4 rows x 28226 columns]"
      ]
     },
     "execution_count": 10,
     "metadata": {},
     "output_type": "execute_result"
    }
   ],
   "source": [
    "dfplot2"
   ]
  },
  {
   "cell_type": "code",
   "execution_count": 6,
   "metadata": {},
   "outputs": [],
   "source": [
    "dfplot = pd.read_csv(\"plot_color.csv\",index_col=0)"
   ]
  },
  {
   "cell_type": "code",
   "execution_count": 16,
   "metadata": {},
   "outputs": [],
   "source": [
    "colorlist = dfplot.loc[\"color\",:].tolist()"
   ]
  },
  {
   "cell_type": "code",
   "execution_count": 51,
   "metadata": {},
   "outputs": [],
   "source": [
    "cmaps =  ['viridis',\n",
    " 'plasma',\n",
    " 'inferno',\n",
    " 'magma',\n",
    " 'cividis',\n",
    " 'Greys',\n",
    " 'Purples',\n",
    " 'Blues',\n",
    " 'Greens',\n",
    " 'Oranges',\n",
    " 'Reds',\n",
    " 'YlOrBr',\n",
    " 'YlOrRd',\n",
    " 'OrRd',\n",
    " 'PuRd',\n",
    " 'RdPu',\n",
    " 'BuPu',\n",
    " 'GnBu',\n",
    " 'PuBu',\n",
    " 'YlGnBu',\n",
    " 'PuBuGn',\n",
    " 'BuGn',\n",
    " 'YlGn',\n",
    " 'binary',\n",
    " 'gist_yarg',\n",
    " 'gist_gray',\n",
    " 'gray',\n",
    " 'bone',\n",
    " 'pink',\n",
    " 'spring',\n",
    " 'summer',\n",
    " 'autumn',\n",
    " 'winter',\n",
    " 'cool',\n",
    " 'Wistia',\n",
    " 'hot',\n",
    " 'afmhot',\n",
    " 'gist_heat',\n",
    " 'copper',\n",
    " 'PiYG',\n",
    " 'PRGn',\n",
    " 'BrBG',\n",
    " 'PuOr',\n",
    " 'RdGy',\n",
    " 'RdBu',\n",
    " 'RdYlBu',\n",
    " 'RdYlGn',\n",
    " 'Spectral',\n",
    " 'coolwarm',\n",
    " 'bwr',\n",
    " 'seismic',\n",
    " 'twilight',\n",
    " 'twilight_shifted',\n",
    " 'hsv',\n",
    " 'ocean',\n",
    " 'gist_earth',\n",
    " 'terrain',\n",
    " 'gist_stern',\n",
    " 'gnuplot',\n",
    " 'gnuplot2',\n",
    " 'CMRmap',\n",
    " 'cubehelix',\n",
    " 'brg',\n",
    " 'gist_rainbow',\n",
    " 'rainbow',\n",
    " 'jet',\n",
    " 'turbo',\n",
    " 'nipy_spectral',\n",
    " 'gist_ncar']"
   ]
  },
  {
   "cell_type": "code",
   "execution_count": 52,
   "metadata": {},
   "outputs": [],
   "source": [
    "from matplotlib.backends.backend_pdf import PdfPages\n",
    "\n",
    "with PdfPages('All_colormaps_raw.pdf') as pdf:\n",
    "    for cmap in cmaps:\n",
    "        g = sns.clustermap(dfplot2,col_cluster=False,row_cluster=True,\n",
    "            col_colors=colorlist,figsize=(13,5),cmap = cmap,\n",
    "            xticklabels=False,vmax = 0.1)\n",
    "        ax_heatmap = g.ax_heatmap\n",
    "        ax_heatmap.set_title(cmap, fontsize=16)\n",
    "        # 设置标题的位置\n",
    "        ax_heatmap.title.set_position((-0.05, 10))    \n",
    "        pdf.savefig()\n",
    "        plt.close()"
   ]
  },
  {
   "cell_type": "code",
   "execution_count": 49,
   "metadata": {},
   "outputs": [
    {
     "data": {
      "image/png": "[encoded data removed]",
      "text/plain": [
       "<Figure size 936x360 with 5 Axes>"
      ]
     },
     "metadata": {
      "needs_background": "light"
     },
     "output_type": "display_data"
    }
   ],
   "source": [
    "g = sns.clustermap(dfplot2,col_cluster=False,row_cluster=True,col_colors=colorlist,figsize=(13,5),cmap = \"YlGnBu\",xticklabels=False,vmax = 0.1)\n",
    "# g.ax_heatmap.set_title(\"Your Title\", fontsize=16)\n",
    "# g.ax_heatmap.set_xticklabels([])\n",
    "ax_heatmap = g.ax_heatmap\n",
    "ax_heatmap.set_title(\"Your Title Here\", fontsize=16)\n",
    "\n",
    "# 设置标题的位置\n",
    "ax_heatmap.title.set_position((-0.05, 10))\n",
    "\n",
    "# plt.savefig(\"Esr1_dis_all.jpg\",dpi = 300)\n",
    "# plt.savefig(\"Esr1_dis_all.pdf\",dpi = 300)"
   ]
  },
  {
   "cell_type": "code",
   "execution_count": null,
   "metadata": {},
   "outputs": [],
   "source": []
  },
  {
   "cell_type": "code",
   "execution_count": 28,
   "metadata": {},
   "outputs": [
    {
     "data": {
      "image/png": "[encoded data removed]",
      "text/plain": [
       "<Figure size 2160x360 with 2 Axes>"
      ]
     },
     "metadata": {},
     "output_type": "display_data"
    }
   ],
   "source": [
    "fig, ax = plt.subplots(figsize = (30,5))\n",
    "sns.set(font_scale=1.9)\n",
    "sns.heatmap(data = reversed_df.T,\n",
    "            cmap=\"YlGnBu\",\n",
    "            # cmap=\"Reds\",\n",
    "            # cmap=\"YlOrRd\",\n",
    "            vmin=0,vmax=0.1,\n",
    "            # linewidths=1, linecolor='white',annot=True,fmt=\"g\"\n",
    "            xticklabels=False\n",
    "            )\n",
    "# plt.savefig(\"heatmap_for_intra_three_gene.jpg\",dpi =300)\n",
    "# plt.savefig(\"heatmap_reds.pdf\",dpi =600,format=\"pdf\")\n",
    "plt.savefig(\"heatmap_YlGnBu.pdf\",dpi =600,format=\"pdf\")\n",
    "# plt.savefig(\"heatmap_for_geno_no.jpg\",dpi =600,format=\"jpg\")"
   ]
  }
 ],
 "metadata": {
  "kernelspec": {
   "display_name": "Python 3.7.9 64-bit",
   "language": "python",
   "name": "python3"
  },
  "language_info": {
   "codemirror_mode": {
    "name": "ipython",
    "version": 3
   },
   "file_extension": ".py",
   "mimetype": "text/x-python",
   "name": "python",
   "nbconvert_exporter": "python",
   "pygments_lexer": "ipython3",
   "version": "3.7.9"
  },
  "orig_nbformat": 4,
  "vscode": {
   "interpreter": {
    "hash": "681c1bce0af37acb6fe2fe46c8fcef319e7d4e48d6c4d2470fa77ec40f3f89e9"
   }
  }
 },
 "nbformat": 4,
 "nbformat_minor": 2
}
