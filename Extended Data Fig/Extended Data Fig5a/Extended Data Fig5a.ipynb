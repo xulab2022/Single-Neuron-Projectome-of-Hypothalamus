{
 "cells": [
  {
   "cell_type": "code",
   "execution_count": 1,
   "id": "8c15ac45",
   "metadata": {},
   "outputs": [],
   "source": [
    "import pandas as pd\n",
    "import seaborn as sns\n",
    "from matplotlib import pyplot as plt\n",
    "\n",
    "import matplotlib as mpl\n",
    "mpl.rcParams['pdf.fonttype'] = 42\n",
    "mpl.rcParams['ps.fonttype'] = 42\n",
    "plt.rc(\"font\",family=\"Arial\")"
   ]
  },
  {
   "cell_type": "code",
   "execution_count": 24,
   "id": "2a6991aa",
   "metadata": {},
   "outputs": [],
   "source": [
    "# mpl.colors.rgb2hex('cyan')\n",
    "\n",
    "df = pd.read_csv('morphology_boxplot.csv', index_col=0)\n",
    "\n",
    "sns.boxplot(df, x='feature', y='value', hue='soma',fliersize=0.4, palette={'HY':'#ff4c3e', 'HIP':'#7ed04a', 'PFC':'#1f9e5b'})\n",
    "plt.ylim((0, 1.2))\n",
    "plt.legend(loc='upper right')\n",
    "plt.ylabel('Normalized Value')\n",
    "current_xticks = plt.gca().get_xticks()\n",
    "new_labels = ['Total axon length','No. branch point','No. of target region']\n",
    "plt.xticks(ticks=current_xticks, labels=new_labels,fontsize=12)\n",
    "plt.savefig('morpho.jpg')\n",
    "plt.savefig('morpho.pdf')\n",
    "plt.close()"
   ]
  }
 ],
 "metadata": {
  "kernelspec": {
   "display_name": "Python 3.7.9 64-bit",
   "language": "python",
   "name": "python3"
  },
  "language_info": {
   "codemirror_mode": {
    "name": "ipython",
    "version": 3
   },
   "file_extension": ".py",
   "mimetype": "text/x-python",
   "name": "python",
   "nbconvert_exporter": "python",
   "pygments_lexer": "ipython3",
   "version": "3.7.9"
  },
  "toc": {
   "base_numbering": 1,
   "nav_menu": {},
   "number_sections": true,
   "sideBar": true,
   "skip_h1_title": false,
   "title_cell": "Table of Contents",
   "title_sidebar": "Contents",
   "toc_cell": false,
   "toc_position": {},
   "toc_section_display": true,
   "toc_window_display": false
  },
  "vscode": {
   "interpreter": {
    "hash": "681c1bce0af37acb6fe2fe46c8fcef319e7d4e48d6c4d2470fa77ec40f3f89e9"
   }
  }
 },
 "nbformat": 4,
 "nbformat_minor": 5
}
