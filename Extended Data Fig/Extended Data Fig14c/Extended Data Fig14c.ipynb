{
 "cells": [
  {
   "cell_type": "code",
   "execution_count": 1,
   "metadata": {},
   "outputs": [],
   "source": [
    "import pandas as pd\n",
    "import os\n",
    "from upsetplot import UpSet\n",
    "from upsetplot import from_indicators\n",
    "import matplotlib.pyplot as plt\n",
    "import matplotlib as mpl\n",
    "mpl.rcParams['pdf.fonttype'] = 42\n",
    "mpl.rcParams['ps.fonttype'] = 42\n",
    "plt.rc(\"font\",family=\"Arial\")\n"
   ]
  },
  {
   "cell_type": "code",
   "execution_count": 2,
   "metadata": {},
   "outputs": [],
   "source": [
    "df = pd.read_excel(\"Agrp_ARH_upset_intensity.xlsx\",index_col=0)"
   ]
  },
  {
   "cell_type": "code",
   "execution_count": 4,
   "metadata": {},
   "outputs": [],
   "source": [
    "areas = df.columns.tolist()\n",
    "areas_to_plot = []\n",
    "for area in areas:\n",
    "    areas_to_plot.append(area+\"_projection\")\n"
   ]
  },
  {
   "cell_type": "code",
   "execution_count": 6,
   "metadata": {},
   "outputs": [],
   "source": [
    "for area in areas:\n",
    "    df[area+\"_projection\"] = \"\"\n",
    "    df.loc[df[area]>=5,area+\"_projection\"] = True\n",
    "    df.loc[df[area]<5,area+\"_projection\"] = False\n",
    "\n",
    "from upsetplot import UpSet\n",
    "from upsetplot import from_indicators\n",
    "aa = from_indicators(areas_to_plot,data= df)\n",
    "fig = UpSet(aa,show_counts=True).plot()\n",
    "plt.savefig(\"Extended Data Fig14c.pdf\",dpi =600,format=\"pdf\")\n",
    "plt.savefig(\"Extended Data Fig14c.jpg\",dpi =600,format=\"jpg\")\n",
    "plt.close()\n",
    "\n"
   ]
  }
 ],
 "metadata": {
  "kernelspec": {
   "display_name": "Python 3.7.9 64-bit",
   "language": "python",
   "name": "python3"
  },
  "language_info": {
   "codemirror_mode": {
    "name": "ipython",
    "version": 3
   },
   "file_extension": ".py",
   "mimetype": "text/x-python",
   "name": "python",
   "nbconvert_exporter": "python",
   "pygments_lexer": "ipython3",
   "version": "3.7.9"
  },
  "orig_nbformat": 4,
  "vscode": {
   "interpreter": {
    "hash": "681c1bce0af37acb6fe2fe46c8fcef319e7d4e48d6c4d2470fa77ec40f3f89e9"
   }
  }
 },
 "nbformat": 4,
 "nbformat_minor": 2
}
