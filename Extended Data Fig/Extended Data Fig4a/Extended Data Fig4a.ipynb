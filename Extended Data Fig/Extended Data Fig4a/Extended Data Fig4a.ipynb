{
 "cells": [
  {
   "cell_type": "code",
   "execution_count": 6,
   "metadata": {},
   "outputs": [],
   "source": [
    "import plotly.graph_objects as go\n",
    "import pandas as pd\n",
    "import sys,os,json\n",
    "import visualization as vs\n"
   ]
  },
  {
   "cell_type": "code",
   "execution_count": 2,
   "metadata": {},
   "outputs": [],
   "source": [
    "df = pd.read_csv(\"All_soma_infor_HY_neurons.csv\",index_col=0)"
   ]
  },
  {
   "cell_type": "code",
   "execution_count": 80,
   "metadata": {},
   "outputs": [],
   "source": [
    "dfarea = pd.read_excel(\"brain_areas.xlsx\",index_col=0)"
   ]
  },
  {
   "cell_type": "code",
   "execution_count": 4,
   "metadata": {},
   "outputs": [],
   "source": [
    "areasplot=df.location.value_counts().index.tolist()[1:16]\n",
    "color = ['red','green','blue', 'cyan', 'magenta', 'yellow',\"brown\",\"darkred\",\"gray\",\"navy\",\"orange\",\"skyblue\",\"gold\",\"tomato\",\"teal\"]\n",
    "color_dic = dict(zip(areasplot,color))"
   ]
  },
  {
   "cell_type": "code",
   "execution_count": 79,
   "metadata": {},
   "outputs": [],
   "source": [
    "plot_dict = {'Pomc': ['ARH'],\n",
    " 'Oxt': ['PVH', 'PVHd'],\n",
    " 'Nts': ['MPO','LHA','AHN','MPN','LPO','MBO','PH','ZI','DMH','VMH'],\n",
    " 'Tac1': ['VMH', 'AHN', 'LHA', 'TU', 'PVH'],\n",
    " 'Pdyn': ['VMH', 'LHA', 'PVH', 'DMH', 'MBO', 'TU', 'PVHd', 'PH'],\n",
    " 'Adcyap1': ['LHA','MBO','AHN','VMH','MPO','PH','MPN','PVH','LPO','PMv'],\n",
    " 'Tac2': ['PH', 'LHA', 'VMH', 'DMH', 'ZI', 'MBO', 'AHN', 'PMv', 'MPN'],\n",
    " 'Penk': ['LHA', 'VMH', 'MPO', 'LPO', 'AHN', 'PH', 'MBO', 'DMH'],\n",
    " 'Sst': ['LHA', 'PH', 'TU', 'ZI', 'MBO', 'DMH','VMH', 'PMv', 'AHN'],\n",
    " 'Avp': ['PVH'],\n",
    " 'Wt(orexin)': ['LHA'],\n",
    " 'Agrp': ['ARH'],\n",
    " 'Vip': [\"MPN\",\"AHN\"],\n",
    " 'Pmch': ['LHA'],\n",
    " 'Trh': ['AHN','PVH','MPN'],\n",
    " 'Crh': ['PVH']}"
   ]
  },
  {
   "cell_type": "code",
   "execution_count": 88,
   "metadata": {},
   "outputs": [
    {
     "name": "stderr",
     "output_type": "stream",
     "text": [
      "specified material (mtl1)  not loaded!\n",
      "specified material (mtl1)  not loaded!\n",
      "specified material (mtl1)  not loaded!\n",
      "specified material (mtl1)  not loaded!\n",
      "specified material (mtl1)  not loaded!\n",
      "specified material (mtl1)  not loaded!\n",
      "specified material (mtl1)  not loaded!\n",
      "specified material (mtl1)  not loaded!\n",
      "specified material (mtl1)  not loaded!\n",
      "specified material (mtl1)  not loaded!\n",
      "specified material (mtl1)  not loaded!\n",
      "specified material (mtl1)  not loaded!\n",
      "specified material (mtl1)  not loaded!\n",
      "specified material (mtl1)  not loaded!\n",
      "specified material (mtl1)  not loaded!\n",
      "specified material (mtl1)  not loaded!\n"
     ]
    }
   ],
   "source": [
    "def get_the_obj_path(area):\n",
    "    file = dfarea.loc[dfarea.region == area].index.values[0]\n",
    "    filepath = os.path.join(\".\\\\HY_obj_right_part\",str(file)+\"_cut_1.obj\")\n",
    "    return filepath\n",
    "\n",
    "for geno in plot_dict:\n",
    "    vols = []\n",
    "    vols.append(vs.generate_go_ba(\"HY\",o=0.3,c=\"gray\"))\n",
    "    arealist = plot_dict[geno]\n",
    "    for area in arealist:\n",
    "        vols.append(vs.generate_go_ba_qiu(get_the_obj_path(area),o=0.3,c=color_dic[area]))\n",
    "\n",
    "    dftmp = df.loc[df.geno == geno]\n",
    "    vols.append(vs.generate_go_scatters(dftmp[[\"AP\",\"DV\",\"ML\"]].values,size=1,color=\"black\"))\n",
    "\n",
    "    fig = go.Figure(vols)\n",
    "    for eyes in [\"front\",\"left\",\"top\",\"se\"]:\n",
    "        layout = vs.generate_go_layout(title=\"\",eye_from=eyes)\n",
    "        fig.layout = layout\n",
    "        # fig.write_image(r'soma_plot_%s.pdf'%(eyes),scale =8)\n",
    "        fig.write_image('soma_plot_%s_%s.jpg'%(geno,eyes),scale =8)"
   ]
  }
 ],
 "metadata": {
  "kernelspec": {
   "display_name": "Python 3.7.9 64-bit",
   "language": "python",
   "name": "python3"
  },
  "language_info": {
   "codemirror_mode": {
    "name": "ipython",
    "version": 3
   },
   "file_extension": ".py",
   "mimetype": "text/x-python",
   "name": "python",
   "nbconvert_exporter": "python",
   "pygments_lexer": "ipython3",
   "version": "3.7.9"
  },
  "orig_nbformat": 4,
  "vscode": {
   "interpreter": {
    "hash": "681c1bce0af37acb6fe2fe46c8fcef319e7d4e48d6c4d2470fa77ec40f3f89e9"
   }
  }
 },
 "nbformat": 4,
 "nbformat_minor": 2
}
