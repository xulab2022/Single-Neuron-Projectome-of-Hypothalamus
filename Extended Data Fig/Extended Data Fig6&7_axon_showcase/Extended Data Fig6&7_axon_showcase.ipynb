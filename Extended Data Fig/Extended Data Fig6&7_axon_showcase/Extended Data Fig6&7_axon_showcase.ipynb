{
 "cells": [
  {
   "cell_type": "code",
   "execution_count": 13,
   "metadata": {},
   "outputs": [],
   "source": [
    "import pandas as pd\n",
    "import glob,os\n",
    "from tqdm import tqdm\n",
    "import random"
   ]
  },
  {
   "cell_type": "code",
   "execution_count": 14,
   "metadata": {},
   "outputs": [
    {
     "name": "stdout",
     "output_type": "stream",
     "text": [
      "area and brain infor load\n"
     ]
    }
   ],
   "source": [
    "from two_D_plots import two_D_plot_AXon\n",
    "plots_axon = two_D_plot_AXon()\n"
   ]
  },
  {
   "cell_type": "code",
   "execution_count": 3,
   "metadata": {},
   "outputs": [],
   "source": [
    "dfdata = pd.read_csv(\"All_neurons_projection_infor&cluster.csv\",index_col=0)"
   ]
  },
  {
   "cell_type": "code",
   "execution_count": 4,
   "metadata": {},
   "outputs": [],
   "source": [
    "cluster_area_dict = {1:[\"CEA\",\"MEA\"],2:[\"GPe\",\"SNr\"],3:[\"ACA\",\"MO\"],4:[\"CA1\"],5:[\"CEA\",\"MEA\"],8:[\"LH\",\"PVT\"],\n",
    "9:[\"LH\",\"PVT\"],10:[\"MPO\",\"LPO\"],11:[\"MPO\",\"LPO\"],12:[\"MPO\",\"LPO\"],13:[\"ME\",\"ARH\"],14:[\"VMH\",\"DMH\"],\n",
    "15:[\"VMH\",\"DMH\"],16:[\"PGRNl\",\"IRN\",\"NTS\"],17:[\"PGRNl\",\"IRN\",\"NTS\"],19:[\"PRNc\",\"PRNr\"],21:[\"PRNc\",\"PRNr\"],\n",
    "20:[\"SOC\"],22:[\"AM\",\"VTN\"],23:[\"SI\",\"VTA\",\"MPO\"],24:[\"SI\",\"VTA\",\"MPO\"],30:[\"SI\",\"VTA\",\"MPO\"],31:[\"SI\",\"VTA\",\"MPO\"],\n",
    "25:[\"SCm\",\"VMH\"],26:[\"SCm\",\"VMH\"],27:[\"SCm\",\"VMH\"]}"
   ]
  },
  {
   "cell_type": "code",
   "execution_count": 5,
   "metadata": {},
   "outputs": [
    {
     "name": "stdout",
     "output_type": "stream",
     "text": [
      "CEA file load\n",
      "393\n",
      "MEA file load\n",
      "313\n",
      "GPe file load\n",
      "273\n",
      "SNr file load\n",
      "149\n",
      "ACA file load\n",
      "0\n",
      "MO file load\n",
      "7\n",
      "CA1 file load\n",
      "29\n",
      "CEA file load\n",
      "393\n",
      "MEA file load\n",
      "313\n",
      "LH file load\n",
      "31\n",
      "PVT file load\n",
      "0\n",
      "LH file load\n",
      "31\n",
      "PVT file load\n",
      "0\n",
      "MPO file load\n",
      "9\n",
      "LPO file load\n",
      "103\n",
      "MPO file load\n",
      "9\n",
      "LPO file load\n",
      "103\n",
      "MPO file load\n",
      "9\n",
      "LPO file load\n",
      "103\n",
      "ME file load\n",
      "0\n",
      "ARH file load\n",
      "0\n",
      "VMH file load\n",
      "21\n",
      "DMH file load\n",
      "21\n",
      "VMH file load\n",
      "21\n",
      "DMH file load\n",
      "21\n",
      "PGRNl file load\n",
      "125\n",
      "IRN file load\n",
      "59\n",
      "NTS file load\n",
      "0\n",
      "PGRNl file load\n",
      "125\n",
      "IRN file load\n",
      "59\n",
      "NTS file load\n",
      "0\n",
      "PRNc file load\n",
      "15\n",
      "PRNr file load\n",
      "61\n",
      "PRNc file load\n",
      "15\n",
      "PRNr file load\n",
      "61\n",
      "SOC file load\n",
      "161\n",
      "AM file load\n",
      "53\n",
      "VTN file load\n",
      "41\n",
      "SI file load\n",
      "39\n",
      "VTA file load\n",
      "65\n",
      "MPO file load\n",
      "9\n",
      "SI file load\n",
      "39\n",
      "VTA file load\n",
      "65\n",
      "MPO file load\n",
      "9\n",
      "SI file load\n",
      "39\n",
      "VTA file load\n",
      "65\n",
      "MPO file load\n",
      "9\n",
      "SI file load\n",
      "39\n",
      "VTA file load\n",
      "65\n",
      "MPO file load\n",
      "9\n",
      "SCm file load\n",
      "0\n",
      "VMH file load\n",
      "21\n",
      "SCm file load\n",
      "0\n",
      "VMH file load\n",
      "21\n",
      "SCm file load\n",
      "0\n",
      "VMH file load\n",
      "21\n"
     ]
    }
   ],
   "source": [
    "# For Subtypes\n",
    "for i in cluster_area_dict:\n",
    "    areas = cluster_area_dict[i]\n",
    "    for area in areas:\n",
    "        plots_axon.load_brain_area(area,enlarge=1.2,bisite = True,bisite_threshold = 120)\n",
    "        neuronnames = (dfdata.loc[dfdata.cluster ==i,area].sort_values(ascending=False)).index.tolist()[0:3]\n",
    "        if len(neuronnames) != 0:\n",
    "            swcpath = r\"H:\\all_neurons_0221\\swc_mirrow\"\n",
    "            savepath = r\".\\Extended Data Fig6&7\"\n",
    "            # filename = \"%d_%s\"%(i,area)\n",
    "            filename = \"Subtype_\"+\"%d_%s\"%(i,area)\n",
    "            color_list = [\"magenta\",\"yellow\",\"cyan\"]\n",
    "            plots_axon.plot_neurons_slice(swcpath = swcpath,swclist = neuronnames,\n",
    "                savepath = savepath,linewith=1.5,color_list= color_list,   \n",
    "                slice_cor = 0,\n",
    "                scale_bar = True,bar_length=500,bar_site=0.9,normal =60,\n",
    "                filename = filename)"
   ]
  },
  {
   "cell_type": "code",
   "execution_count": 12,
   "metadata": {},
   "outputs": [],
   "source": [
    "%reset"
   ]
  },
  {
   "cell_type": "code",
   "execution_count": 15,
   "metadata": {},
   "outputs": [],
   "source": [
    "# PAG base\n",
    "dfdata = pd.read_excel(\"PAG_subregion_double_side_cluster.xlsx\",index_col=0)"
   ]
  },
  {
   "cell_type": "code",
   "execution_count": 16,
   "metadata": {},
   "outputs": [
    {
     "name": "stderr",
     "output_type": "stream",
     "text": [
      "100%|██████████| 3/3 [00:05<00:00,  1.78s/it]\n"
     ]
    }
   ],
   "source": [
    "area = \"all\"\n",
    "swcpath = r\"H:\\all_neurons_0221\\swc_mirrow\"\n",
    "savepath = \"PAG_showcase\"\n",
    "plots_axon.load_brain_area_sagittal(nrrdpath = r\".\\Reslice of PAG_0819_final.nrrd\") \n",
    "for i in range(16,32):   \n",
    "    neuronnames = (dfdata.loc[dfdata.cluster ==i,area].sort_values(ascending=False)).index.tolist()[0:3]\n",
    "    if len(neuronnames) != 0:\n",
    "        filename = \"%d_%s\"%(i,area)\n",
    "        plots_axon.plot_neurons_slice_sagittal(swcpath = swcpath,slice_cor = 50,color_list=True,swclist = neuronnames,\n",
    "            savepath = savepath,linewith=1.5,\n",
    "            Crop = True,bar_length=500,bar_site=0.9,normal =60,\n",
    "            scale_bar= True,\n",
    "            filename = filename+\"_sagittal\")"
   ]
  },
  {
   "cell_type": "code",
   "execution_count": 13,
   "metadata": {},
   "outputs": [
    {
     "name": "stdout",
     "output_type": "stream",
     "text": [
      " file load\n",
      "0\n"
     ]
    }
   ],
   "source": [
    "area = \"all\"\n",
    "plots_axon.load_brain_area(nrrdpath = r\".\\Reslice of PAG_0819_final.nrrd\")\n",
    "# for i in range(dfdata.cluster.min(),dfdata.cluster.max()+1):\n",
    "# for i in [23,25,27,31]:  \n",
    "for i in range(16,32):   \n",
    "    neuronnames = (dfdata.loc[dfdata.cluster ==i,area].sort_values(ascending=False)).index.tolist()[0:3]\n",
    "    if len(neuronnames) != 0:\n",
    "        filename = \"%d_%s\"%(i,area)\n",
    "        plots_axon.plot_neurons_slice(swcpath = swcpath,slice_cor = 50,\n",
    "            color_list=True,\n",
    "            swclist = neuronnames,\n",
    "            savepath = savepath,linewith=1.5,\n",
    "            # Crop = True,\n",
    "            bar_length=500,bar_site=0.9,normal =60,\n",
    "            scale_bar= True,\n",
    "            filename = filename+\"_cornal\")"
   ]
  }
 ],
 "metadata": {
  "kernelspec": {
   "display_name": "Python 3.7.9 64-bit",
   "language": "python",
   "name": "python3"
  },
  "language_info": {
   "codemirror_mode": {
    "name": "ipython",
    "version": 3
   },
   "file_extension": ".py",
   "mimetype": "text/x-python",
   "name": "python",
   "nbconvert_exporter": "python",
   "pygments_lexer": "ipython3",
   "version": "3.7.9"
  },
  "orig_nbformat": 4,
  "vscode": {
   "interpreter": {
    "hash": "681c1bce0af37acb6fe2fe46c8fcef319e7d4e48d6c4d2470fa77ec40f3f89e9"
   }
  }
 },
 "nbformat": 4,
 "nbformat_minor": 2
}
