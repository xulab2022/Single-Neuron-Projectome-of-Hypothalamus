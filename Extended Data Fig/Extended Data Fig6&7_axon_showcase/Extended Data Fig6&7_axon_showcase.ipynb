{
 "cells": [
  {
   "cell_type": "code",
   "execution_count": null,
   "metadata": {},
   "outputs": [],
   "source": [
    "import pandas as pd\n",
    "import glob,os\n",
    "from tqdm import tqdm\n",
    "import random"
   ]
  },
  {
   "cell_type": "code",
   "execution_count": null,
   "metadata": {},
   "outputs": [],
   "source": [
    "from two_D_plots import two_D_plot_AXon\n",
    "plots_axon = two_D_plot_AXon()\n",
    "# os.chdir(r\"H:\\20231004_figs\\20231012_2d_axon_plot\")"
   ]
  },
  {
   "cell_type": "code",
   "execution_count": null,
   "metadata": {},
   "outputs": [],
   "source": [
    "os.chdir(r\"H:\\20231213_fig_code\\figS6&figS7_axon_showcase\")"
   ]
  },
  {
   "cell_type": "code",
   "execution_count": null,
   "metadata": {},
   "outputs": [],
   "source": [
    "dfdata = pd.read_csv(\"All_neurons_projection_infor&cluster.csv\",index_col=0)"
   ]
  },
  {
   "cell_type": "code",
   "execution_count": null,
   "metadata": {},
   "outputs": [],
   "source": [
    "cluster_area_dict = {1:[\"CEA\",\"MEA\"],2:[\"GPe\",\"SNr\"],3:[\"ACA\",\"MO\"],4:[\"CA1\"],5:[\"CEA\",\"MEA\"],8:[\"LH\",\"PVT\"],\n",
    "9:[\"LH\",\"PVT\"],10:[\"MPO\",\"LPO\"],11:[\"MPO\",\"LPO\"],12:[\"MPO\",\"LPO\"],13:[\"ME\",\"ARH\"],14:[\"VMH\",\"DMH\"],\n",
    "15:[\"VMH\",\"DMH\"],16:[\"PGRNl\",\"IRN\",\"NTS\"],17:[\"PGRNl\",\"IRN\",\"NTS\"],19:[\"PRNc\",\"PRNr\"],21:[\"PRNc\",\"PRNr\"],\n",
    "20:[\"SOC\"],22:[\"AM\",\"VTN\"],23:[\"SI\",\"VTA\",\"MPO\"],24:[\"SI\",\"VTA\",\"MPO\"],30:[\"SI\",\"VTA\",\"MPO\"],31:[\"SI\",\"VTA\",\"MPO\"],\n",
    "25:[\"SCm\",\"VMH\"],26:[\"SCm\",\"VMH\"],27:[\"SCm\",\"VMH\"]}"
   ]
  },
  {
   "cell_type": "code",
   "execution_count": null,
   "metadata": {},
   "outputs": [],
   "source": [
    "# For Subtypes\n",
    "for i in cluster_area_dict:\n",
    "    areas = cluster_area_dict[i]\n",
    "    for area in areas:\n",
    "        plots_axon.load_brain_area(area,enlarge=1.2,bisite = True,bisite_threshold = 120)\n",
    "        neuronnames = (dfdata.loc[dfdata.cluster ==i,area].sort_values(ascending=False)).index.tolist()[0:3]\n",
    "        if len(neuronnames) != 0:\n",
    "            swcpath = r\"H:\\all neurons 0908\\newswc2\"\n",
    "            savepath = r\"H:\\20231213_fig_code\\figS6&figS7_axon_showcase\\showcase\"\n",
    "            # filename = \"%d_%s\"%(i,area)\n",
    "            filename = \"Subtype_\"+\"%d_%s\"%(i,area)\n",
    "            color_list = [\"magenta\",\"yellow\",\"cyan\"]\n",
    "            plots_axon.plot_neurons_slice(swcpath = swcpath,swclist = neuronnames,\n",
    "                savepath = savepath,linewith=1.5,color_list= color_list,   \n",
    "                slice_cor = 0,\n",
    "                scale_bar = True,bar_length=500,bar_site=0.9,normal =60,\n",
    "                filename = filename)"
   ]
  },
  {
   "cell_type": "code",
   "execution_count": 10,
   "metadata": {},
   "outputs": [],
   "source": [
    "# PAG base\n",
    "dfdata = pd.read_excel(\"PAG_subregion_double_side_cluster.xlsx\",index_col=0)"
   ]
  },
  {
   "cell_type": "code",
   "execution_count": 12,
   "metadata": {},
   "outputs": [
    {
     "name": "stderr",
     "output_type": "stream",
     "text": [
      "100%|██████████| 3/3 [00:05<00:00,  1.82s/it]\n",
      "100%|██████████| 3/3 [00:07<00:00,  2.63s/it]\n",
      "100%|██████████| 3/3 [00:05<00:00,  1.80s/it]\n",
      "100%|██████████| 3/3 [00:11<00:00,  3.83s/it]\n",
      "100%|██████████| 3/3 [00:02<00:00,  1.40it/s]\n",
      "100%|██████████| 3/3 [00:11<00:00,  3.90s/it]\n",
      "100%|██████████| 3/3 [00:01<00:00,  1.52it/s]\n",
      "100%|██████████| 3/3 [00:15<00:00,  5.07s/it]\n",
      "100%|██████████| 3/3 [00:07<00:00,  2.50s/it]\n",
      "100%|██████████| 3/3 [00:07<00:00,  2.46s/it]\n",
      "100%|██████████| 3/3 [00:11<00:00,  3.67s/it]\n",
      "100%|██████████| 3/3 [00:05<00:00,  1.91s/it]\n",
      "100%|██████████| 3/3 [00:10<00:00,  3.41s/it]\n",
      "100%|██████████| 3/3 [00:11<00:00,  3.96s/it]\n",
      "100%|██████████| 3/3 [00:13<00:00,  4.42s/it]\n",
      "100%|██████████| 3/3 [00:11<00:00,  3.98s/it]\n"
     ]
    }
   ],
   "source": [
    "area = \"all\"\n",
    "swcpath = r\"H:\\all neurons 0908\\newswc2\"\n",
    "savepath = \"PAG_showcase\"\n",
    "plots_axon.load_brain_area_sagittal(nrrdpath = r\"D:\\projectome\\Reslice of PAG_0819_final.nrrd\") \n",
    "for i in range(16,32):   \n",
    "    neuronnames = (dfdata.loc[dfdata.cluster ==i,area].sort_values(ascending=False)).index.tolist()[0:3]\n",
    "    if len(neuronnames) != 0:\n",
    "        filename = \"%d_%s\"%(i,area)\n",
    "        plots_axon.plot_neurons_slice_sagittal(swcpath = swcpath,slice_cor = 50,color_list=True,swclist = neuronnames,\n",
    "            savepath = savepath,linewith=1.5,\n",
    "            Crop = True,bar_length=500,bar_site=0.9,normal =60,\n",
    "            scale_bar= True,\n",
    "            filename = filename+\"_sagittal\")"
   ]
  },
  {
   "cell_type": "code",
   "execution_count": 13,
   "metadata": {},
   "outputs": [
    {
     "name": "stdout",
     "output_type": "stream",
     "text": [
      " file load\n",
      "0\n"
     ]
    }
   ],
   "source": [
    "area = \"all\"\n",
    "plots_axon.load_brain_area(nrrdpath = r\"D:\\projectome\\Reslice of PAG_0819_final.nrrd\")\n",
    "# for i in range(dfdata.cluster.min(),dfdata.cluster.max()+1):\n",
    "# for i in [23,25,27,31]:  \n",
    "for i in range(16,32):   \n",
    "    neuronnames = (dfdata.loc[dfdata.cluster ==i,area].sort_values(ascending=False)).index.tolist()[0:3]\n",
    "    if len(neuronnames) != 0:\n",
    "        filename = \"%d_%s\"%(i,area)\n",
    "        plots_axon.plot_neurons_slice(swcpath = swcpath,slice_cor = 50,\n",
    "            color_list=True,\n",
    "            swclist = neuronnames,\n",
    "            savepath = savepath,linewith=1.5,\n",
    "            # Crop = True,\n",
    "            bar_length=500,bar_site=0.9,normal =60,\n",
    "            scale_bar= True,\n",
    "            filename = filename+\"_cornal\")"
   ]
  }
 ],
 "metadata": {
  "kernelspec": {
   "display_name": "Python 3.7.9 64-bit",
   "language": "python",
   "name": "python3"
  },
  "language_info": {
   "codemirror_mode": {
    "name": "ipython",
    "version": 3
   },
   "file_extension": ".py",
   "mimetype": "text/x-python",
   "name": "python",
   "nbconvert_exporter": "python",
   "pygments_lexer": "ipython3",
   "version": "3.7.9"
  },
  "orig_nbformat": 4,
  "vscode": {
   "interpreter": {
    "hash": "681c1bce0af37acb6fe2fe46c8fcef319e7d4e48d6c4d2470fa77ec40f3f89e9"
   }
  }
 },
 "nbformat": 4,
 "nbformat_minor": 2
}
