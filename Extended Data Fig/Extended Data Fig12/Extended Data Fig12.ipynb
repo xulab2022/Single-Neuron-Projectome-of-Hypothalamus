{
 "cells": [
  {
   "cell_type": "code",
   "execution_count": 1,
   "id": "8bed6b50",
   "metadata": {},
   "outputs": [],
   "source": [
    "import pandas as pd\n",
    "import os\n",
    "import numpy as np\n"
   ]
  },
  {
   "cell_type": "code",
   "execution_count": 2,
   "id": "771f23f1",
   "metadata": {},
   "outputs": [],
   "source": [
    "import seaborn as sns\n",
    "import matplotlib.pyplot as plt\n",
    "import matplotlib as mpl\n",
    "mpl.rcParams['pdf.fonttype'] = 42\n",
    "mpl.rcParams['ps.fonttype'] = 42\n",
    "plt.rc(\"font\",family=\"Arial\")"
   ]
  },
  {
   "cell_type": "code",
   "execution_count": 3,
   "id": "e268c447",
   "metadata": {},
   "outputs": [],
   "source": [
    "dftopo = pd.read_csv(\"all_subtype_all_region_r_values.csv\",index_col=0)"
   ]
  },
  {
   "cell_type": "code",
   "execution_count": 4,
   "id": "eaa0748f",
   "metadata": {},
   "outputs": [],
   "source": [
    "for soma in [\"soma_AP\"]:\n",
    "    for ter in [\"ter_AP\"]:\n",
    "        dftmp = dftopo.loc[(dftopo.soma_label==soma)&(dftopo.ter_label==ter)]\n",
    "        dfr_value = dftmp.pivot(index=\"subtype\",columns=\"area\",values=\"r_value\").fillna(0)\n",
    "        dfp_value = dftmp.pivot(index=\"subtype\",columns=\"area\",values=\"p_value\").fillna(1)\n",
    "        dfr_value.to_excel(\"%s_%s_r_values.xlsx\"%(soma,ter))\n",
    "        dfp_value.to_excel(\"%s_%s_p_values.xlsx\"%(soma,ter))\n",
    "\n",
    "\n",
    "        sorted_values = np.sort(dfp_value.values.flatten())\n",
    "        sorted_values_new = sorted_values[sorted_values < 0.05]\n",
    "\n",
    "        subtype_list = []\n",
    "        area_list = []\n",
    "        for i in sorted_values_new:\n",
    "            position = dfp_value.isin([i])\n",
    "            rows, cols = np.where(position)\n",
    "\n",
    "            subtype = dfp_value.index[rows][0]\n",
    "            area = dfp_value.columns[cols][0]\n",
    "\n",
    "            if subtype not in subtype_list:\n",
    "                subtype_list.append(subtype)\n",
    "            if area not in area_list:\n",
    "                area_list.append(area)\n",
    "\n",
    "        dfp_value_new = dfp_value.loc[subtype_list,area_list]\n",
    "        dfr_value_new = dfr_value.loc[subtype_list,area_list]\n",
    "        \n",
    "        fig, ax = plt.subplots(figsize = (18.5,9))\n",
    "        sns.set(font_scale=1)\n",
    "        sns.heatmap(data = dfr_value_new,cmap=\"bwr\",vmin=-1,\n",
    "                        vmax=1,linewidths=1, linecolor='black',annot=False,fmt=\"g\",\n",
    "                        mask = dfp_value_new>0.05\n",
    "                        )\n",
    "        # plt.savefig(\"heatmap_for_intra_three_gene.jpg\",dpi =300)\n",
    "        plt.savefig(\"%s_%s_for_All.pdf\"%(soma,ter),dpi =600,format=\"pdf\")\n",
    "        plt.savefig(\"%s_%s_for_All.jpg\"%(soma,ter),dpi =600,format=\"jpg\")\n",
    "        plt.close()\n",
    "        \n"
   ]
  },
  {
   "cell_type": "code",
   "execution_count": 46,
   "id": "d432c4e7",
   "metadata": {},
   "outputs": [],
   "source": []
  }
 ],
 "metadata": {
  "kernelspec": {
   "display_name": "Python 3.7.9 64-bit",
   "language": "python",
   "name": "python3"
  },
  "language_info": {
   "codemirror_mode": {
    "name": "ipython",
    "version": 3
   },
   "file_extension": ".py",
   "mimetype": "text/x-python",
   "name": "python",
   "nbconvert_exporter": "python",
   "pygments_lexer": "ipython3",
   "version": "3.7.9"
  },
  "vscode": {
   "interpreter": {
    "hash": "681c1bce0af37acb6fe2fe46c8fcef319e7d4e48d6c4d2470fa77ec40f3f89e9"
   }
  }
 },
 "nbformat": 4,
 "nbformat_minor": 5
}
