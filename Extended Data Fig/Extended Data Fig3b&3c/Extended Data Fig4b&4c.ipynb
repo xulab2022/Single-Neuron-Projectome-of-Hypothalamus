{
 "cells": [
  {
   "cell_type": "code",
   "execution_count": 1,
   "metadata": {},
   "outputs": [],
   "source": [
    "import os,glob\n",
    "import pandas as pd\n",
    "import matplotlib.pyplot as plt\n",
    "import numpy as np\n",
    "import seaborn as sns"
   ]
  },
  {
   "cell_type": "code",
   "execution_count": 2,
   "metadata": {},
   "outputs": [],
   "source": [
    "import matplotlib as mpl\n",
    "mpl.rcParams['pdf.fonttype'] = 42\n",
    "mpl.rcParams['ps.fonttype'] = 42\n",
    "plt.rc(\"font\",family=\"Arial\")"
   ]
  },
  {
   "cell_type": "code",
   "execution_count": 3,
   "metadata": {},
   "outputs": [],
   "source": [
    "dfsoma = pd.read_csv(\"All_soma_infor_HY_neurons.csv\",index_col=0)"
   ]
  },
  {
   "cell_type": "code",
   "execution_count": 4,
   "metadata": {},
   "outputs": [],
   "source": [
    "dfsomaplot = dfsoma.pivot_table(index=\"location\",values=\"name\",aggfunc=\"count\")"
   ]
  },
  {
   "cell_type": "code",
   "execution_count": 5,
   "metadata": {},
   "outputs": [],
   "source": [
    "areas = ['LHA', 'VMH', 'AHN', 'PH', 'PVH', 'MBO', 'TU', 'MPO', 'DMH', 'ARH', 'MPN',\n",
    " 'ZI', 'PVHd', 'PMv', 'LPO', 'PeF', 'PSTN', 'PMd', 'PVp', 'RCH', 'AVP', 'SBPV', 'STN',\n",
    " 'VMPO', 'AVPV', 'ME', 'ADP', 'PS', 'SO', 'VLPO', 'PVi', 'PVa', 'PST', 'PD', 'MEPO',\n",
    " 'SCH', 'ASO', 'PVpo' ]"
   ]
  },
  {
   "cell_type": "code",
   "execution_count": 6,
   "metadata": {},
   "outputs": [],
   "source": [
    "dfsomaplot = dfsomaplot.loc[areas,:]"
   ]
  },
  {
   "cell_type": "code",
   "execution_count": 7,
   "metadata": {},
   "outputs": [],
   "source": [
    "dfvol = pd.read_csv(\"Allen_volumne.csv\",index_col=0)"
   ]
  },
  {
   "cell_type": "code",
   "execution_count": 8,
   "metadata": {},
   "outputs": [],
   "source": [
    "dfvol2 = dfvol.T.loc[areas,:] "
   ]
  },
  {
   "cell_type": "code",
   "execution_count": 9,
   "metadata": {},
   "outputs": [],
   "source": [
    "dfplot = pd.concat([dfsomaplot,dfvol2],axis=1)"
   ]
  },
  {
   "cell_type": "code",
   "execution_count": 10,
   "metadata": {},
   "outputs": [],
   "source": [
    "dfplot[\"intensity\"] = dfplot[\"name\"]/dfplot[\"voxel\"]*2000000"
   ]
  },
  {
   "cell_type": "code",
   "execution_count": 11,
   "metadata": {},
   "outputs": [],
   "source": [
    "dfplot = dfplot.reset_index()"
   ]
  },
  {
   "cell_type": "code",
   "execution_count": 12,
   "metadata": {},
   "outputs": [
    {
     "data": {
      "text/html": [
       "<div>\n",
       "<style scoped>\n",
       "    .dataframe tbody tr th:only-of-type {\n",
       "        vertical-align: middle;\n",
       "    }\n",
       "\n",
       "    .dataframe tbody tr th {\n",
       "        vertical-align: top;\n",
       "    }\n",
       "\n",
       "    .dataframe thead th {\n",
       "        text-align: right;\n",
       "    }\n",
       "</style>\n",
       "<table border=\"1\" class=\"dataframe\">\n",
       "  <thead>\n",
       "    <tr style=\"text-align: right;\">\n",
       "      <th></th>\n",
       "      <th>index</th>\n",
       "      <th>name</th>\n",
       "      <th>voxel</th>\n",
       "      <th>intensity</th>\n",
       "    </tr>\n",
       "  </thead>\n",
       "  <tbody>\n",
       "    <tr>\n",
       "      <th>0</th>\n",
       "      <td>LHA</td>\n",
       "      <td>913</td>\n",
       "      <td>2064508</td>\n",
       "      <td>884.472233</td>\n",
       "    </tr>\n",
       "    <tr>\n",
       "      <th>1</th>\n",
       "      <td>VMH</td>\n",
       "      <td>631</td>\n",
       "      <td>549454</td>\n",
       "      <td>2296.825576</td>\n",
       "    </tr>\n",
       "    <tr>\n",
       "      <th>2</th>\n",
       "      <td>AHN</td>\n",
       "      <td>402</td>\n",
       "      <td>710594</td>\n",
       "      <td>1131.447775</td>\n",
       "    </tr>\n",
       "    <tr>\n",
       "      <th>3</th>\n",
       "      <td>PH</td>\n",
       "      <td>400</td>\n",
       "      <td>707114</td>\n",
       "      <td>1131.359300</td>\n",
       "    </tr>\n",
       "    <tr>\n",
       "      <th>4</th>\n",
       "      <td>PVH</td>\n",
       "      <td>399</td>\n",
       "      <td>188750</td>\n",
       "      <td>4227.814570</td>\n",
       "    </tr>\n",
       "    <tr>\n",
       "      <th>5</th>\n",
       "      <td>MBO</td>\n",
       "      <td>358</td>\n",
       "      <td>1015810</td>\n",
       "      <td>704.856223</td>\n",
       "    </tr>\n",
       "    <tr>\n",
       "      <th>6</th>\n",
       "      <td>TU</td>\n",
       "      <td>292</td>\n",
       "      <td>523216</td>\n",
       "      <td>1116.173817</td>\n",
       "    </tr>\n",
       "    <tr>\n",
       "      <th>7</th>\n",
       "      <td>MPO</td>\n",
       "      <td>280</td>\n",
       "      <td>555530</td>\n",
       "      <td>1008.046370</td>\n",
       "    </tr>\n",
       "    <tr>\n",
       "      <th>8</th>\n",
       "      <td>DMH</td>\n",
       "      <td>249</td>\n",
       "      <td>376062</td>\n",
       "      <td>1324.249725</td>\n",
       "    </tr>\n",
       "    <tr>\n",
       "      <th>9</th>\n",
       "      <td>ARH</td>\n",
       "      <td>229</td>\n",
       "      <td>284936</td>\n",
       "      <td>1607.378499</td>\n",
       "    </tr>\n",
       "    <tr>\n",
       "      <th>10</th>\n",
       "      <td>MPN</td>\n",
       "      <td>207</td>\n",
       "      <td>406420</td>\n",
       "      <td>1018.650657</td>\n",
       "    </tr>\n",
       "    <tr>\n",
       "      <th>11</th>\n",
       "      <td>ZI</td>\n",
       "      <td>200</td>\n",
       "      <td>1558928</td>\n",
       "      <td>256.586577</td>\n",
       "    </tr>\n",
       "    <tr>\n",
       "      <th>12</th>\n",
       "      <td>PVHd</td>\n",
       "      <td>184</td>\n",
       "      <td>130642</td>\n",
       "      <td>2816.858284</td>\n",
       "    </tr>\n",
       "    <tr>\n",
       "      <th>13</th>\n",
       "      <td>PMv</td>\n",
       "      <td>158</td>\n",
       "      <td>195022</td>\n",
       "      <td>1620.330014</td>\n",
       "    </tr>\n",
       "    <tr>\n",
       "      <th>14</th>\n",
       "      <td>LPO</td>\n",
       "      <td>135</td>\n",
       "      <td>559976</td>\n",
       "      <td>482.163521</td>\n",
       "    </tr>\n",
       "    <tr>\n",
       "      <th>15</th>\n",
       "      <td>PeF</td>\n",
       "      <td>120</td>\n",
       "      <td>214254</td>\n",
       "      <td>1120.165785</td>\n",
       "    </tr>\n",
       "    <tr>\n",
       "      <th>16</th>\n",
       "      <td>PSTN</td>\n",
       "      <td>81</td>\n",
       "      <td>166506</td>\n",
       "      <td>972.937912</td>\n",
       "    </tr>\n",
       "    <tr>\n",
       "      <th>17</th>\n",
       "      <td>PMd</td>\n",
       "      <td>76</td>\n",
       "      <td>132210</td>\n",
       "      <td>1149.686105</td>\n",
       "    </tr>\n",
       "    <tr>\n",
       "      <th>18</th>\n",
       "      <td>PVp</td>\n",
       "      <td>73</td>\n",
       "      <td>124558</td>\n",
       "      <td>1172.144704</td>\n",
       "    </tr>\n",
       "    <tr>\n",
       "      <th>19</th>\n",
       "      <td>RCH</td>\n",
       "      <td>61</td>\n",
       "      <td>150330</td>\n",
       "      <td>811.547928</td>\n",
       "    </tr>\n",
       "    <tr>\n",
       "      <th>20</th>\n",
       "      <td>AVP</td>\n",
       "      <td>49</td>\n",
       "      <td>92556</td>\n",
       "      <td>1058.818445</td>\n",
       "    </tr>\n",
       "    <tr>\n",
       "      <th>21</th>\n",
       "      <td>SBPV</td>\n",
       "      <td>47</td>\n",
       "      <td>109400</td>\n",
       "      <td>859.232176</td>\n",
       "    </tr>\n",
       "    <tr>\n",
       "      <th>22</th>\n",
       "      <td>STN</td>\n",
       "      <td>32</td>\n",
       "      <td>194600</td>\n",
       "      <td>328.879753</td>\n",
       "    </tr>\n",
       "    <tr>\n",
       "      <th>23</th>\n",
       "      <td>VMPO</td>\n",
       "      <td>25</td>\n",
       "      <td>50128</td>\n",
       "      <td>997.446537</td>\n",
       "    </tr>\n",
       "    <tr>\n",
       "      <th>24</th>\n",
       "      <td>AVPV</td>\n",
       "      <td>20</td>\n",
       "      <td>181184</td>\n",
       "      <td>220.770046</td>\n",
       "    </tr>\n",
       "    <tr>\n",
       "      <th>25</th>\n",
       "      <td>ME</td>\n",
       "      <td>14</td>\n",
       "      <td>81550</td>\n",
       "      <td>343.347639</td>\n",
       "    </tr>\n",
       "    <tr>\n",
       "      <th>26</th>\n",
       "      <td>ADP</td>\n",
       "      <td>13</td>\n",
       "      <td>99530</td>\n",
       "      <td>261.227771</td>\n",
       "    </tr>\n",
       "    <tr>\n",
       "      <th>27</th>\n",
       "      <td>PS</td>\n",
       "      <td>12</td>\n",
       "      <td>96670</td>\n",
       "      <td>248.267301</td>\n",
       "    </tr>\n",
       "    <tr>\n",
       "      <th>28</th>\n",
       "      <td>SO</td>\n",
       "      <td>12</td>\n",
       "      <td>46946</td>\n",
       "      <td>511.225664</td>\n",
       "    </tr>\n",
       "    <tr>\n",
       "      <th>29</th>\n",
       "      <td>VLPO</td>\n",
       "      <td>11</td>\n",
       "      <td>65426</td>\n",
       "      <td>336.257757</td>\n",
       "    </tr>\n",
       "    <tr>\n",
       "      <th>30</th>\n",
       "      <td>PVi</td>\n",
       "      <td>11</td>\n",
       "      <td>205036</td>\n",
       "      <td>107.298231</td>\n",
       "    </tr>\n",
       "    <tr>\n",
       "      <th>31</th>\n",
       "      <td>PVa</td>\n",
       "      <td>7</td>\n",
       "      <td>50782</td>\n",
       "      <td>275.688236</td>\n",
       "    </tr>\n",
       "    <tr>\n",
       "      <th>32</th>\n",
       "      <td>PST</td>\n",
       "      <td>6</td>\n",
       "      <td>12456</td>\n",
       "      <td>963.391137</td>\n",
       "    </tr>\n",
       "    <tr>\n",
       "      <th>33</th>\n",
       "      <td>PD</td>\n",
       "      <td>6</td>\n",
       "      <td>11666</td>\n",
       "      <td>1028.630207</td>\n",
       "    </tr>\n",
       "    <tr>\n",
       "      <th>34</th>\n",
       "      <td>MEPO</td>\n",
       "      <td>6</td>\n",
       "      <td>40260</td>\n",
       "      <td>298.062593</td>\n",
       "    </tr>\n",
       "    <tr>\n",
       "      <th>35</th>\n",
       "      <td>SCH</td>\n",
       "      <td>4</td>\n",
       "      <td>65776</td>\n",
       "      <td>121.624909</td>\n",
       "    </tr>\n",
       "    <tr>\n",
       "      <th>36</th>\n",
       "      <td>ASO</td>\n",
       "      <td>3</td>\n",
       "      <td>6214</td>\n",
       "      <td>965.561635</td>\n",
       "    </tr>\n",
       "    <tr>\n",
       "      <th>37</th>\n",
       "      <td>PVpo</td>\n",
       "      <td>2</td>\n",
       "      <td>147648</td>\n",
       "      <td>27.091461</td>\n",
       "    </tr>\n",
       "  </tbody>\n",
       "</table>\n",
       "</div>"
      ],
      "text/plain": [
       "   index  name    voxel    intensity\n",
       "0    LHA   913  2064508   884.472233\n",
       "1    VMH   631   549454  2296.825576\n",
       "2    AHN   402   710594  1131.447775\n",
       "3     PH   400   707114  1131.359300\n",
       "4    PVH   399   188750  4227.814570\n",
       "5    MBO   358  1015810   704.856223\n",
       "6     TU   292   523216  1116.173817\n",
       "7    MPO   280   555530  1008.046370\n",
       "8    DMH   249   376062  1324.249725\n",
       "9    ARH   229   284936  1607.378499\n",
       "10   MPN   207   406420  1018.650657\n",
       "11    ZI   200  1558928   256.586577\n",
       "12  PVHd   184   130642  2816.858284\n",
       "13   PMv   158   195022  1620.330014\n",
       "14   LPO   135   559976   482.163521\n",
       "15   PeF   120   214254  1120.165785\n",
       "16  PSTN    81   166506   972.937912\n",
       "17   PMd    76   132210  1149.686105\n",
       "18   PVp    73   124558  1172.144704\n",
       "19   RCH    61   150330   811.547928\n",
       "20   AVP    49    92556  1058.818445\n",
       "21  SBPV    47   109400   859.232176\n",
       "22   STN    32   194600   328.879753\n",
       "23  VMPO    25    50128   997.446537\n",
       "24  AVPV    20   181184   220.770046\n",
       "25    ME    14    81550   343.347639\n",
       "26   ADP    13    99530   261.227771\n",
       "27    PS    12    96670   248.267301\n",
       "28    SO    12    46946   511.225664\n",
       "29  VLPO    11    65426   336.257757\n",
       "30   PVi    11   205036   107.298231\n",
       "31   PVa     7    50782   275.688236\n",
       "32   PST     6    12456   963.391137\n",
       "33    PD     6    11666  1028.630207\n",
       "34  MEPO     6    40260   298.062593\n",
       "35   SCH     4    65776   121.624909\n",
       "36   ASO     3     6214   965.561635\n",
       "37  PVpo     2   147648    27.091461"
      ]
     },
     "execution_count": 12,
     "metadata": {},
     "output_type": "execute_result"
    }
   ],
   "source": [
    "dfplot"
   ]
  },
  {
   "cell_type": "code",
   "execution_count": 13,
   "metadata": {},
   "outputs": [],
   "source": [
    "color = ['red','green','blue', 'cyan', 'magenta', 'yellow',\"brown\",\"darkred\",\"gray\",\"navy\",\"orange\",\"gold\",\"skyblue\",\"tomato\",\"teal\"]\n",
    "color_bar = color+[\"gray\"]*(len(dfplot)-len(color))"
   ]
  },
  {
   "cell_type": "code",
   "execution_count": 14,
   "metadata": {},
   "outputs": [],
   "source": [
    "dfplot[\"color\"] = color_bar"
   ]
  },
  {
   "cell_type": "code",
   "execution_count": 15,
   "metadata": {},
   "outputs": [],
   "source": [
    "dfplot2 = dfplot.sort_values(by = \"intensity\",ascending=False).reset_index()\n"
   ]
  },
  {
   "cell_type": "code",
   "execution_count": 21,
   "metadata": {},
   "outputs": [
    {
     "data": {
      "image/png": "[encoded data removed]",
      "text/plain": [
       "<Figure size 1440x432 with 1 Axes>"
      ]
     },
     "metadata": {
      "needs_background": "light"
     },
     "output_type": "display_data"
    }
   ],
   "source": [
    "fig, ax = plt.subplots(figsize=(20,6))\n",
    "sns.barplot(data=dfplot,x= \"index\", y =\"name\",palette = color_bar)\n",
    "# sns.swarmplot(data=dfplot,edgecolor=\"black\",linewidth= 0.5,size = 2)\n",
    "plt.ylabel('No. of neurons')\n",
    "plt.savefig(\"soma_number_distrubtion.pdf\",dpi =600,format=\"pdf\")"
   ]
  },
  {
   "cell_type": "code",
   "execution_count": 20,
   "metadata": {},
   "outputs": [
    {
     "data": {
      "image/png": "[encoded data removed]",
      "text/plain": [
       "<Figure size 1440x432 with 1 Axes>"
      ]
     },
     "metadata": {
      "needs_background": "light"
     },
     "output_type": "display_data"
    }
   ],
   "source": [
    "fig, ax = plt.subplots(figsize=(20,6))\n",
    "sns.barplot(data=dfplot,x= \"index\", y =\"intensity\",palette = dfplot.color.tolist())\n",
    "# sns.swarmplot(data=dfplot,edgecolor=\"black\",linewidth= 0.5,size = 2)\n",
    "plt.ylabel('No. of neurons/mm2')\n",
    "plt.savefig(\"soma_intensity_distrubtion.pdf\",dpi =600,format=\"pdf\")\n",
    "plt.savefig(\"soma_intensity_distrubtion.jpg\",dpi =600,format=\"jpg\")"
   ]
  }
 ],
 "metadata": {
  "kernelspec": {
   "display_name": "Python 3.7.9 64-bit",
   "language": "python",
   "name": "python3"
  },
  "language_info": {
   "codemirror_mode": {
    "name": "ipython",
    "version": 3
   },
   "file_extension": ".py",
   "mimetype": "text/x-python",
   "name": "python",
   "nbconvert_exporter": "python",
   "pygments_lexer": "ipython3",
   "version": "3.7.9"
  },
  "orig_nbformat": 4,
  "vscode": {
   "interpreter": {
    "hash": "681c1bce0af37acb6fe2fe46c8fcef319e7d4e48d6c4d2470fa77ec40f3f89e9"
   }
  }
 },
 "nbformat": 4,
 "nbformat_minor": 2
}
