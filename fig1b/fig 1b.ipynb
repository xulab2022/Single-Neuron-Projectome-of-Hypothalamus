{
 "cells": [
  {
   "cell_type": "code",
   "execution_count": 1,
   "metadata": {},
   "outputs": [],
   "source": [
    "import plotly.graph_objects as go\n",
    "import pandas as pd\n",
    "import sys,os,json\n",
    "# sys.path.append(r\"D:\\python\\core\")\n",
    "import visualization as vs\n",
    "# from brain_area import BrainArea\n",
    "# ba = BrainArea()"
   ]
  },
  {
   "cell_type": "code",
   "execution_count": 2,
   "metadata": {},
   "outputs": [],
   "source": [
    "df = pd.read_csv(\"All_soma_infor_HY_neurons.csv\",index_col=0)"
   ]
  },
  {
   "cell_type": "code",
   "execution_count": 3,
   "metadata": {},
   "outputs": [],
   "source": [
    "areasplot=df.location.value_counts().index.tolist()[1:16]\n",
    "color = ['red','green','blue', 'cyan', 'magenta', 'yellow',\"brown\",\"darkred\",\"gray\",\"navy\",\"orange\",\"skyblue\",\"gold\",\"tomato\",\"teal\"]\n",
    "color_dic = dict(zip(areasplot,color))"
   ]
  },
  {
   "cell_type": "code",
   "execution_count": 4,
   "metadata": {},
   "outputs": [
    {
     "data": {
      "text/plain": [
       "{'LHA': 'red',\n",
       " 'VMH': 'green',\n",
       " 'AHN': 'blue',\n",
       " 'PH': 'cyan',\n",
       " 'PVH': 'magenta',\n",
       " 'MBO': 'yellow',\n",
       " 'TU': 'brown',\n",
       " 'MPO': 'darkred',\n",
       " 'DMH': 'gray',\n",
       " 'ARH': 'navy',\n",
       " 'MPN': 'orange',\n",
       " 'ZI': 'skyblue',\n",
       " 'PVHd': 'gold',\n",
       " 'PMv': 'tomato',\n",
       " 'LPO': 'teal'}"
      ]
     },
     "execution_count": 4,
     "metadata": {},
     "output_type": "execute_result"
    }
   ],
   "source": [
    "color_dic"
   ]
  },
  {
   "cell_type": "code",
   "execution_count": 4,
   "metadata": {},
   "outputs": [
    {
     "name": "stderr",
     "output_type": "stream",
     "text": [
      "specified material (mtl1)  not loaded!\n"
     ]
    }
   ],
   "source": [
    "vols = []\n",
    "vols.append(vs.generate_go_ba(\"HY\",o=0.3,c=\"gray\"))\n",
    "for location in color_dic:\n",
    "    vols.append(vs.generate_go_ba(location,o=0.3,c=color_dic[location]))    \n",
    "    dfdata2 = df.loc[df.location == location]\n",
    "    vols.append(vs.generate_go_scatters(dfdata2[[\"AP\",\"DV\",\"ML\"]].values,size=1,color=color_dic[location]))\n",
    "\n",
    "fig = go.Figure(vols)\n",
    "for eyes in [\"front\",\"left\",\"top\",\"se\"]:\n",
    "    layout = vs.generate_go_layout(title=\"\",eye_from=eyes)\n",
    "    fig.layout = layout\n",
    "    # fig.write_image(r'soma_plot_%s.pdf'%(eyes),scale =8)\n",
    "    fig.write_image(r'soma_plot_%s.jpg'%(eyes),scale =8)\n"
   ]
  },
  {
   "cell_type": "code",
   "execution_count": null,
   "metadata": {},
   "outputs": [],
   "source": [
    "def get_the_obj_path(area):\n",
    "    file = ba.search_brain_area(area)[-1][0]\n",
    "    filepath = os.path.join(r\"D:\\projectome\\HY obj\\cut1\",str(file)+\"_cut_1.obj\")\n",
    "    return filepath\n",
    "\n",
    "for markers in areadic:\n",
    "    areas = areadic[markers]\n",
    "\n",
    "    vols = []\n",
    "    for area in areas:\n",
    "        vols.append(vs.generate_go_ba_qiu(get_the_obj_path(area),o=0.3,c=color_dic[area]))\n",
    "    vols.append(vs.generate_go_ba_qiu(ba.search_brain_area_obj(\"HY\")[-1],o=0.3,c=\"gray\"))\n",
    "    \n",
    "    dfdata2 = dfdata.loc[dfdata.geno == markers]\n",
    "    vols.append(vs.generate_go_scatters(dfdata2[[\"AP\",\"DV\",\"ML\"]].values,size=1,color=\"black\"))\n",
    "\n",
    "    fig = go.Figure(vols)\n",
    "    for eyes in [\"front\",\"left\",\"top\",\"se\"]:\n",
    "        layout = vs.generate_go_layout(title=\"\",eye_from=eyes)\n",
    "        fig.layout = layout\n",
    "        fig.write_image(r'soma_plot_%s_%s.pdf'%(markers,eyes),scale =8)\n",
    "        fig.write_image(r'soma_plot_%s_%s.jpg'%(markers,eyes),scale =8)\n",
    "    \n",
    "\n",
    "        "
   ]
  },
  {
   "cell_type": "code",
   "execution_count": null,
   "metadata": {},
   "outputs": [],
   "source": []
  }
 ],
 "metadata": {
  "kernelspec": {
   "display_name": "Python 3.7.9 64-bit",
   "language": "python",
   "name": "python3"
  },
  "language_info": {
   "codemirror_mode": {
    "name": "ipython",
    "version": 3
   },
   "file_extension": ".py",
   "mimetype": "text/x-python",
   "name": "python",
   "nbconvert_exporter": "python",
   "pygments_lexer": "ipython3",
   "version": "3.7.9"
  },
  "orig_nbformat": 4,
  "vscode": {
   "interpreter": {
    "hash": "681c1bce0af37acb6fe2fe46c8fcef319e7d4e48d6c4d2470fa77ec40f3f89e9"
   }
  }
 },
 "nbformat": 4,
 "nbformat_minor": 2
}
