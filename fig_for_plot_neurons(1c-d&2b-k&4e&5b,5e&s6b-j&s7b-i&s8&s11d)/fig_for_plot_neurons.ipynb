{
 "cells": [
  {
   "cell_type": "markdown",
   "metadata": {},
   "source": [
    "## notes for neuronvis\n",
    "1, you can download neuronvis in https://gitee.com/bigduduwxf/neuron-vis\n",
    "2, remember to download the obj file for each brain region you want to plot.\n",
    "\n",
    "## notes for neruons\n",
    "1, you can download the swc files for each neuron in the https://mouse.digital-brain.cn/projectome/hy\n",
    "2, we recommend you mirrow the neurons in the same brain side."
   ]
  },
  {
   "cell_type": "code",
   "execution_count": 1,
   "metadata": {},
   "outputs": [],
   "source": [
    "import pandas as pd\n",
    "import os,sys,glob,random\n",
    "from tqdm import tqdm\n",
    "sys.path.append(r\"D:\\jiaozhuolei\\python\\code\\neuron-vis\\neuronVis\")\n",
    "import Visual as nv\n",
    "neuronvis = nv.neuronVis(size=(1600,1000),renderModel=1)"
   ]
  },
  {
   "cell_type": "code",
   "execution_count": 2,
   "metadata": {},
   "outputs": [],
   "source": [
    "# load the neuron infor\n",
    "df = pd.read_csv(\"All_soma_infor_HY_neurons.csv\",index_col=0)"
   ]
  },
  {
   "cell_type": "code",
   "execution_count": 3,
   "metadata": {},
   "outputs": [
    {
     "data": {
      "text/html": [
       "<div>\n",
       "<style scoped>\n",
       "    .dataframe tbody tr th:only-of-type {\n",
       "        vertical-align: middle;\n",
       "    }\n",
       "\n",
       "    .dataframe tbody tr th {\n",
       "        vertical-align: top;\n",
       "    }\n",
       "\n",
       "    .dataframe thead th {\n",
       "        text-align: right;\n",
       "    }\n",
       "</style>\n",
       "<table border=\"1\" class=\"dataframe\">\n",
       "  <thead>\n",
       "    <tr style=\"text-align: right;\">\n",
       "      <th></th>\n",
       "      <th>cluster</th>\n",
       "      <th>neurons</th>\n",
       "      <th>name</th>\n",
       "      <th>geno</th>\n",
       "      <th>location</th>\n",
       "      <th>AP</th>\n",
       "      <th>DV</th>\n",
       "      <th>ML</th>\n",
       "    </tr>\n",
       "    <tr>\n",
       "      <th>file</th>\n",
       "      <th></th>\n",
       "      <th></th>\n",
       "      <th></th>\n",
       "      <th></th>\n",
       "      <th></th>\n",
       "      <th></th>\n",
       "      <th></th>\n",
       "      <th></th>\n",
       "    </tr>\n",
       "  </thead>\n",
       "  <tbody>\n",
       "    <tr>\n",
       "      <th>192710_002_Pomc_TU</th>\n",
       "      <td>1</td>\n",
       "      <td>192710_002</td>\n",
       "      <td>192710_002_Pomc_TU</td>\n",
       "      <td>Pomc</td>\n",
       "      <td>TU</td>\n",
       "      <td>6598.750000</td>\n",
       "      <td>6952.949219</td>\n",
       "      <td>4796.421875</td>\n",
       "    </tr>\n",
       "    <tr>\n",
       "      <th>192710_003_Pomc_TU</th>\n",
       "      <td>29</td>\n",
       "      <td>192710_003</td>\n",
       "      <td>192710_003_Pomc_TU</td>\n",
       "      <td>Pomc</td>\n",
       "      <td>TU</td>\n",
       "      <td>6530.761719</td>\n",
       "      <td>7075.410156</td>\n",
       "      <td>5187.261719</td>\n",
       "    </tr>\n",
       "    <tr>\n",
       "      <th>192710_004_Pomc_TU</th>\n",
       "      <td>9</td>\n",
       "      <td>192710_004</td>\n",
       "      <td>192710_004_Pomc_TU</td>\n",
       "      <td>Pomc</td>\n",
       "      <td>TU</td>\n",
       "      <td>6957.710938</td>\n",
       "      <td>7148.679688</td>\n",
       "      <td>4923.238281</td>\n",
       "    </tr>\n",
       "    <tr>\n",
       "      <th>192710_005_Pomc_TU</th>\n",
       "      <td>12</td>\n",
       "      <td>192710_005</td>\n",
       "      <td>192710_005_Pomc_TU</td>\n",
       "      <td>Pomc</td>\n",
       "      <td>TU</td>\n",
       "      <td>7142.988281</td>\n",
       "      <td>6960.210938</td>\n",
       "      <td>4757.390625</td>\n",
       "    </tr>\n",
       "    <tr>\n",
       "      <th>192710_007_Pomc_PMv</th>\n",
       "      <td>15</td>\n",
       "      <td>192710_007</td>\n",
       "      <td>192710_007_Pomc_PMv</td>\n",
       "      <td>Pomc</td>\n",
       "      <td>PMv</td>\n",
       "      <td>7676.769531</td>\n",
       "      <td>6479.488281</td>\n",
       "      <td>4958.589844</td>\n",
       "    </tr>\n",
       "    <tr>\n",
       "      <th>...</th>\n",
       "      <td>...</td>\n",
       "      <td>...</td>\n",
       "      <td>...</td>\n",
       "      <td>...</td>\n",
       "      <td>...</td>\n",
       "      <td>...</td>\n",
       "      <td>...</td>\n",
       "      <td>...</td>\n",
       "    </tr>\n",
       "    <tr>\n",
       "      <th>220102_131_Crh_VMH</th>\n",
       "      <td>14</td>\n",
       "      <td>220102_131</td>\n",
       "      <td>220102_131_Crh_VMH</td>\n",
       "      <td>Crh</td>\n",
       "      <td>VMH</td>\n",
       "      <td>6861.308594</td>\n",
       "      <td>6518.140625</td>\n",
       "      <td>5569.441406</td>\n",
       "    </tr>\n",
       "    <tr>\n",
       "      <th>220102_139_Crh_DMH</th>\n",
       "      <td>25</td>\n",
       "      <td>220102_139</td>\n",
       "      <td>220102_139_Crh_DMH</td>\n",
       "      <td>Crh</td>\n",
       "      <td>DMH</td>\n",
       "      <td>7114.500000</td>\n",
       "      <td>6008.890625</td>\n",
       "      <td>5458.941406</td>\n",
       "    </tr>\n",
       "    <tr>\n",
       "      <th>220102_147_Crh_HY</th>\n",
       "      <td>6</td>\n",
       "      <td>220102_147</td>\n",
       "      <td>220102_147_Crh_HY</td>\n",
       "      <td>Crh</td>\n",
       "      <td>HY</td>\n",
       "      <td>6234.511719</td>\n",
       "      <td>5472.929688</td>\n",
       "      <td>5268.968750</td>\n",
       "    </tr>\n",
       "    <tr>\n",
       "      <th>220102_148_Crh_HY</th>\n",
       "      <td>8</td>\n",
       "      <td>220102_148</td>\n",
       "      <td>220102_148_Crh_HY</td>\n",
       "      <td>Crh</td>\n",
       "      <td>HY</td>\n",
       "      <td>6161.800781</td>\n",
       "      <td>5455.570312</td>\n",
       "      <td>5187.238281</td>\n",
       "    </tr>\n",
       "    <tr>\n",
       "      <th>220102_149_Crh_DMH</th>\n",
       "      <td>23</td>\n",
       "      <td>220102_149</td>\n",
       "      <td>220102_149_Crh_DMH</td>\n",
       "      <td>Crh</td>\n",
       "      <td>DMH</td>\n",
       "      <td>7039.000000</td>\n",
       "      <td>5891.679688</td>\n",
       "      <td>5306.761719</td>\n",
       "    </tr>\n",
       "  </tbody>\n",
       "</table>\n",
       "<p>7180 rows × 8 columns</p>\n",
       "</div>"
      ],
      "text/plain": [
       "                     cluster     neurons                 name  geno location  \\\n",
       "file                                                                           \n",
       "192710_002_Pomc_TU         1  192710_002   192710_002_Pomc_TU  Pomc       TU   \n",
       "192710_003_Pomc_TU        29  192710_003   192710_003_Pomc_TU  Pomc       TU   \n",
       "192710_004_Pomc_TU         9  192710_004   192710_004_Pomc_TU  Pomc       TU   \n",
       "192710_005_Pomc_TU        12  192710_005   192710_005_Pomc_TU  Pomc       TU   \n",
       "192710_007_Pomc_PMv       15  192710_007  192710_007_Pomc_PMv  Pomc      PMv   \n",
       "...                      ...         ...                  ...   ...      ...   \n",
       "220102_131_Crh_VMH        14  220102_131   220102_131_Crh_VMH   Crh      VMH   \n",
       "220102_139_Crh_DMH        25  220102_139   220102_139_Crh_DMH   Crh      DMH   \n",
       "220102_147_Crh_HY          6  220102_147    220102_147_Crh_HY   Crh       HY   \n",
       "220102_148_Crh_HY          8  220102_148    220102_148_Crh_HY   Crh       HY   \n",
       "220102_149_Crh_DMH        23  220102_149   220102_149_Crh_DMH   Crh      DMH   \n",
       "\n",
       "                              AP           DV           ML  \n",
       "file                                                        \n",
       "192710_002_Pomc_TU   6598.750000  6952.949219  4796.421875  \n",
       "192710_003_Pomc_TU   6530.761719  7075.410156  5187.261719  \n",
       "192710_004_Pomc_TU   6957.710938  7148.679688  4923.238281  \n",
       "192710_005_Pomc_TU   7142.988281  6960.210938  4757.390625  \n",
       "192710_007_Pomc_PMv  7676.769531  6479.488281  4958.589844  \n",
       "...                          ...          ...          ...  \n",
       "220102_131_Crh_VMH   6861.308594  6518.140625  5569.441406  \n",
       "220102_139_Crh_DMH   7114.500000  6008.890625  5458.941406  \n",
       "220102_147_Crh_HY    6234.511719  5472.929688  5268.968750  \n",
       "220102_148_Crh_HY    6161.800781  5455.570312  5187.238281  \n",
       "220102_149_Crh_DMH   7039.000000  5891.679688  5306.761719  \n",
       "\n",
       "[7180 rows x 8 columns]"
      ]
     },
     "execution_count": 3,
     "metadata": {},
     "output_type": "execute_result"
    }
   ],
   "source": [
    "df"
   ]
  },
  {
   "cell_type": "code",
   "execution_count": 3,
   "metadata": {},
   "outputs": [],
   "source": [
    "# load the view angle infor\n",
    "left = dict(eye=(0.0,0.0,-15000),center=(0,0,0),up=(0,-1,0))\n",
    "se = dict(eye=(-10000,-10000,-15000),center=(0,0,0),up=(0,-1,0))\n",
    "top = dict(eye=(0,-15000,0),center=(0,0,0),up=(0,0,1))\n",
    "front = dict(eye=(-15000,0,0),center=(0,0,0),up=(0,-1,0))\n",
    "views = [left,se,top,front]\n",
    "labels = [\"left\",\"se\",\"top\",\"front\"]"
   ]
  },
  {
   "cell_type": "code",
   "execution_count": 6,
   "metadata": {},
   "outputs": [
    {
     "name": "stderr",
     "output_type": "stream",
     "text": [
      "  0%|          | 11/3590 [00:02<16:38,  3.58it/s]"
     ]
    }
   ],
   "source": [
    "# fig 1c plot all neurons\n",
    "Datapth = r\"W:\\all_neurons_0221\\swc_mirrow\"\n",
    "\n",
    "neuronvis.render.setBackgroundColor([1,1,1])\n",
    "for neuron in tqdm(df.index.to_list()[::2]):\n",
    "    # file = os.path.join(Datapth,neuron)\n",
    "    file = os.path.join(Datapth,neuron+\".swc\")\n",
    "    color=[random.random(),random.random(),random.random()]\n",
    "    neuronvis.addNeuron(file,somaColor = [0.0,0.0,0.0],axonColor= color,dendriteColor=color)\n",
    "    neuronvis.render.setBackgroundColor([1,1,1])\n",
    "    neuronvis.render.setLineWidth(2)\n",
    "\n",
    "for label,view in zip(labels,views):\n",
    "    neuronvis.render.setLookAt(eye=view[\"eye\"],center=view[\"center\"],up=view[\"up\"]) \n",
    "    neuronvis.render.savepng(\"All_neurons_%s.png\"%(label))\n",
    "neuronvis.clear(neurons=True,regions=True)\n",
    "neuronvis.neurons.clear()\n",
    "neuronvis.render.closeWindow()"
   ]
  },
  {
   "cell_type": "code",
   "execution_count": 8,
   "metadata": {},
   "outputs": [
    {
     "data": {
      "text/plain": [
       "['192710_002_Pomc_TU', '192710_003_Pomc_TU', '192710_004_Pomc_TU']"
      ]
     },
     "execution_count": 8,
     "metadata": {},
     "output_type": "execute_result"
    }
   ],
   "source": [
    "df.index.to_list()[0:3]"
   ]
  },
  {
   "cell_type": "code",
   "execution_count": 7,
   "metadata": {},
   "outputs": [
    {
     "ename": "TypeError",
     "evalue": "'module' object is not callable",
     "output_type": "error",
     "traceback": [
      "\u001b[1;31m---------------------------------------------------------------------------\u001b[0m",
      "\u001b[1;31mTypeError\u001b[0m                                 Traceback (most recent call last)",
      "\u001b[1;32m~\\AppData\\Local\\Temp\\ipykernel_4968\\4137536285.py\u001b[0m in \u001b[0;36m<module>\u001b[1;34m\u001b[0m\n\u001b[1;32m----> 1\u001b[1;33m \u001b[1;32mfor\u001b[0m \u001b[0mneuron\u001b[0m \u001b[1;32min\u001b[0m \u001b[0mtqdm\u001b[0m\u001b[1;33m(\u001b[0m\u001b[0mdf\u001b[0m\u001b[1;33m.\u001b[0m\u001b[0mindex\u001b[0m\u001b[1;33m.\u001b[0m\u001b[0mto_list\u001b[0m\u001b[1;33m(\u001b[0m\u001b[1;33m)\u001b[0m\u001b[1;33m[\u001b[0m\u001b[1;36m0\u001b[0m\u001b[1;33m:\u001b[0m\u001b[1;36m3\u001b[0m\u001b[1;33m]\u001b[0m\u001b[1;33m)\u001b[0m\u001b[1;33m:\u001b[0m\u001b[1;33m\u001b[0m\u001b[1;33m\u001b[0m\u001b[0m\n\u001b[0m\u001b[0;32m      2\u001b[0m     \u001b[0mprint\u001b[0m\u001b[1;33m(\u001b[0m\u001b[0mneuron\u001b[0m\u001b[1;33m)\u001b[0m\u001b[1;33m\u001b[0m\u001b[1;33m\u001b[0m\u001b[0m\n",
      "\u001b[1;31mTypeError\u001b[0m: 'module' object is not callable"
     ]
    }
   ],
   "source": [
    "for neuron in tqdm(df.index.to_list()[0:3]):\n",
    "    print(neuron)"
   ]
  }
 ],
 "metadata": {
  "kernelspec": {
   "display_name": "neuronVis",
   "language": "python",
   "name": "python3"
  },
  "language_info": {
   "codemirror_mode": {
    "name": "ipython",
    "version": 3
   },
   "file_extension": ".py",
   "mimetype": "text/x-python",
   "name": "python",
   "nbconvert_exporter": "python",
   "pygments_lexer": "ipython3",
   "version": "3.7.13"
  }
 },
 "nbformat": 4,
 "nbformat_minor": 2
}
