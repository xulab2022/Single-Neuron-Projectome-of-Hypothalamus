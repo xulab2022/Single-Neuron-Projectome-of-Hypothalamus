{
 "cells": [
  {
   "cell_type": "code",
   "execution_count": 1,
   "metadata": {},
   "outputs": [],
   "source": [
    "import pandas as pd\n",
    "import os\n",
    "import seaborn as sns\n",
    "import matplotlib.pyplot as plt"
   ]
  },
  {
   "cell_type": "code",
   "execution_count": 2,
   "metadata": {},
   "outputs": [],
   "source": [
    "import matplotlib as mpl\n",
    "mpl.rcParams['pdf.fonttype'] = 42\n",
    "mpl.rcParams['ps.fonttype'] = 42\n",
    "plt.rc(\"font\",family=\"Arial\")"
   ]
  },
  {
   "cell_type": "code",
   "execution_count": 2,
   "metadata": {},
   "outputs": [],
   "source": [
    "df = pd.read_excel(\"orexin_intensity_plot.xlsx\",index_col=0)"
   ]
  },
  {
   "cell_type": "code",
   "execution_count": 3,
   "metadata": {},
   "outputs": [],
   "source": [
    "dfplot = df.melt()"
   ]
  },
  {
   "cell_type": "code",
   "execution_count": 4,
   "metadata": {},
   "outputs": [],
   "source": [
    "dfplot.columns = [\"region\",\"length\"]"
   ]
  },
  {
   "cell_type": "code",
   "execution_count": 9,
   "metadata": {},
   "outputs": [
    {
     "name": "stderr",
     "output_type": "stream",
     "text": [
      "C:\\Users\\win7\\AppData\\Local\\Programs\\Python\\Python37\\Lib\\site-packages\\ipykernel_launcher.py:5: FutureWarning: Passing `palette` without assigning `hue` is deprecated.\n",
      "  \"\"\"\n"
     ]
    }
   ],
   "source": [
    "fig = plt.figure(figsize=(8,5))\n",
    "ax = fig.add_subplot()\n",
    "ax = sns.violinplot(x= \"region\",y=\"length\", data=dfplot,width =0.8,scale= \"width\",palette = sns.color_palette())\n",
    "# ax = sns.swarmplot(x=\"type\",y=\"PH\", data=dfdata,edgecolor=\"black\",linewidth= 0.5,size = 2)\n",
    "ax = sns.stripplot(x= \"region\",y=\"length\", data=dfplot,edgecolor=\"black\",linewidth= 0.5,size = 3,palette = sns.color_palette())\n",
    "\n",
    "plt.savefig(\"orexin_projection_plot.pdf\",dpi = 300)\n",
    "plt.savefig(\"orexin_projection_plot.jpg\",dpi = 300)\n",
    "plt.close()"
   ]
  },
  {
   "cell_type": "code",
   "execution_count": null,
   "metadata": {},
   "outputs": [],
   "source": []
  },
  {
   "cell_type": "code",
   "execution_count": null,
   "metadata": {},
   "outputs": [],
   "source": []
  },
  {
   "cell_type": "code",
   "execution_count": null,
   "metadata": {},
   "outputs": [],
   "source": []
  }
 ],
 "metadata": {
  "kernelspec": {
   "display_name": "Python 3.7.9 64-bit",
   "language": "python",
   "name": "python3"
  },
  "language_info": {
   "codemirror_mode": {
    "name": "ipython",
    "version": 3
   },
   "file_extension": ".py",
   "mimetype": "text/x-python",
   "name": "python",
   "nbconvert_exporter": "python",
   "pygments_lexer": "ipython3",
   "version": "3.7.9"
  },
  "orig_nbformat": 4,
  "vscode": {
   "interpreter": {
    "hash": "681c1bce0af37acb6fe2fe46c8fcef319e7d4e48d6c4d2470fa77ec40f3f89e9"
   }
  }
 },
 "nbformat": 4,
 "nbformat_minor": 2
}
